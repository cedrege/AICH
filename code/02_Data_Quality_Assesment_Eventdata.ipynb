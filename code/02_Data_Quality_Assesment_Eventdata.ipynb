{
 "cells": [
  {
   "cell_type": "markdown",
   "metadata": {},
   "source": [
    "# Data Quality Assesment Eventdata"
   ]
  },
  {
   "cell_type": "code",
   "execution_count": null,
   "metadata": {},
   "outputs": [],
   "source": [
    "import numpy as np\n",
    "import pandas as pd\n",
    "import matplotlib.pyplot as plt\n",
    "import seaborn as sns\n",
    "from ydata_profiling import ProfileReport"
   ]
  },
  {
   "cell_type": "code",
   "execution_count": null,
   "metadata": {},
   "outputs": [],
   "source": [
    "path_events_csv = '../data/train_events.csv'"
   ]
  },
  {
   "cell_type": "code",
   "execution_count": null,
   "metadata": {},
   "outputs": [],
   "source": [
    "train_events = pd.read_csv(path_events_csv)\n",
    "\n",
    "train_events.dropna(inplace=True)\n",
    "\n",
    "train_events['timestamp'] = pd.to_datetime(train_events['timestamp'])\n",
    "train_events['timestamp'] = train_events['timestamp'].apply(lambda x: x.replace(tzinfo=None))"
   ]
  },
  {
   "cell_type": "code",
   "execution_count": null,
   "metadata": {},
   "outputs": [],
   "source": [
    "ProfileReport(train_events)"
   ]
  },
  {
   "cell_type": "code",
   "execution_count": null,
   "metadata": {},
   "outputs": [],
   "source": [
    "df_onset = train_events[train_events['event'] == 'onset']\n",
    "df_onset['hour'] = df_onset['timestamp'].dt.hour\n",
    "\n",
    "df_wakeup = train_events[train_events['event'] == 'wakeup']\n",
    "df_wakeup['hour'] = df_wakeup['timestamp'].dt.hour\n",
    "\n",
    "plt.hist(df_onset['hour'].dropna(), bins=24, label='Onset', color='blue',)\n",
    "plt.hist(df_wakeup['hour'].dropna(), bins=24, label='Wakeup', color='orange')\n",
    "\n",
    "plt.xlabel('Hour of Event')\n",
    "plt.ylabel('Frequency')\n",
    "plt.title('Distribution of Hour of Wakeup')\n",
    "plt.legend()\n",
    "\n",
    "plt.show()"
   ]
  },
  {
   "cell_type": "code",
   "execution_count": null,
   "metadata": {},
   "outputs": [],
   "source": [
    "ProfileReport(df_onset)"
   ]
  },
  {
   "cell_type": "code",
   "execution_count": null,
   "metadata": {},
   "outputs": [],
   "source": [
    "ProfileReport(df_wakeup)"
   ]
  },
  {
   "cell_type": "markdown",
   "metadata": {},
   "source": [
    "## Duration of sleep and awake windows"
   ]
  },
  {
   "cell_type": "code",
   "execution_count": null,
   "metadata": {},
   "outputs": [],
   "source": [
    "for serie in train_events['series_id'].unique():\n",
    "    serie_data = train_events[train_events['series_id'] == serie]\n",
    "\n",
    "    train_events.loc[train_events['series_id'] == serie, 'step_diff'] = abs(serie_data['step'] - serie_data['step'].shift(-1))\n",
    "\n",
    "train_events['step_diff'] = train_events['step_diff'].fillna(0).astype(int)\n",
    "\n",
    "train_events"
   ]
  },
  {
   "cell_type": "code",
   "execution_count": null,
   "metadata": {},
   "outputs": [],
   "source": [
    "df_onset = train_events[(train_events['event'] == 'onset') & (train_events['step_diff'] < 14000) & (train_events['step_diff'] > 0)]\n",
    "\n",
    "plt.figure(figsize=(22, 4))\n",
    "\n",
    "plt.hist(df_onset['step_diff'].dropna(), bins=20, label='Onset', color='blue', edgecolor='none')\n",
    "\n",
    "plt.xlim(0, 14500)\n",
    "\n",
    "plt.xlabel('Duration of Event')\n",
    "plt.ylabel('Frequency')\n",
    "plt.title('Distribution of duration of sleeping windows')\n",
    "plt.legend()\n",
    "\n",
    "plt.show()"
   ]
  },
  {
   "cell_type": "code",
   "execution_count": null,
   "metadata": {},
   "outputs": [],
   "source": [
    "df_wakeup = train_events[(train_events['event'] == 'wakeup') & (train_events['step_diff'] < 14000) & (train_events['step_diff'] > 0)]\n",
    "\n",
    "plt.figure(figsize=(22, 4))\n",
    "\n",
    "plt.hist(df_wakeup['step_diff'].dropna(), bins=20, label='Wakeup', color='orange', edgecolor='none')\n",
    "\n",
    "plt.xlim(0, 14500)\n",
    "\n",
    "plt.xlabel('Duration of Event')\n",
    "plt.ylabel('Frequency')\n",
    "plt.title('Distribution of duration of awake windows')\n",
    "plt.legend()\n",
    "\n",
    "plt.show()"
   ]
  },
  {
   "cell_type": "markdown",
   "metadata": {},
   "source": [
    "## Correlation of data"
   ]
  },
  {
   "cell_type": "code",
   "execution_count": null,
   "metadata": {},
   "outputs": [],
   "source": [
    "correlation_matrix = train_events.corr()\n",
    "plt.figure(figsize=(10, 8))\n",
    "sns.heatmap(correlation_matrix, annot=True, cmap='coolwarm', fmt='.2f', linewidths=.5)\n",
    "plt.title('Correlation Matrix Heatmap')\n",
    "plt.show()"
   ]
  }
 ],
 "metadata": {
  "kernelspec": {
   "display_name": "Python 3",
   "language": "python",
   "name": "python3"
  },
  "language_info": {
   "name": "python",
   "version": "3.10.11"
  }
 },
 "nbformat": 4,
 "nbformat_minor": 2
}
