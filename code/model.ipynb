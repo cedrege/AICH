{
 "cells": [
  {
   "cell_type": "markdown",
   "metadata": {},
   "source": [
    "# Notebook to solve the kaggle competition \"Child Mind Institute - Detect Sleep States\"\n",
    "Link to the competition: https://www.kaggle.com/competitions/child-mind-institute-detect-sleep-states\n",
    "\n",
    "\n",
    "### Install packages"
   ]
  },
  {
   "cell_type": "code",
   "execution_count": 1,
   "metadata": {},
   "outputs": [
    {
     "name": "stdout",
     "output_type": "stream",
     "text": [
      "Requirement already satisfied: matplotlib in f:\\venv\\aich\\lib\\site-packages (3.8.0)\n",
      "Requirement already satisfied: plotly in f:\\venv\\aich\\lib\\site-packages (5.17.0)\n",
      "Requirement already satisfied: pandas in f:\\venv\\aich\\lib\\site-packages (2.1.1)\n",
      "Requirement already satisfied: numpy in f:\\venv\\aich\\lib\\site-packages (1.24.1)\n",
      "Requirement already satisfied: tqdm in f:\\venv\\aich\\lib\\site-packages (4.66.1)\n",
      "Requirement already satisfied: scikit-learn in f:\\venv\\aich\\lib\\site-packages (1.3.1)\n",
      "Requirement already satisfied: pyarrow in f:\\venv\\aich\\lib\\site-packages (13.0.0)\n",
      "Requirement already satisfied: contourpy>=1.0.1 in f:\\venv\\aich\\lib\\site-packages (from matplotlib) (1.1.1)\n",
      "Requirement already satisfied: cycler>=0.10 in f:\\venv\\aich\\lib\\site-packages (from matplotlib) (0.12.0)\n",
      "Requirement already satisfied: fonttools>=4.22.0 in f:\\venv\\aich\\lib\\site-packages (from matplotlib) (4.43.0)\n",
      "Requirement already satisfied: kiwisolver>=1.0.1 in f:\\venv\\aich\\lib\\site-packages (from matplotlib) (1.4.5)\n",
      "Requirement already satisfied: packaging>=20.0 in f:\\venv\\aich\\lib\\site-packages (from matplotlib) (23.1)\n",
      "Requirement already satisfied: pillow>=6.2.0 in f:\\venv\\aich\\lib\\site-packages (from matplotlib) (9.3.0)\n",
      "Requirement already satisfied: pyparsing>=2.3.1 in f:\\venv\\aich\\lib\\site-packages (from matplotlib) (3.1.1)\n",
      "Requirement already satisfied: python-dateutil>=2.7 in f:\\venv\\aich\\lib\\site-packages (from matplotlib) (2.8.2)\n",
      "Requirement already satisfied: tenacity>=6.2.0 in f:\\venv\\aich\\lib\\site-packages (from plotly) (8.2.3)\n",
      "Requirement already satisfied: pytz>=2020.1 in f:\\venv\\aich\\lib\\site-packages (from pandas) (2023.3.post1)\n",
      "Requirement already satisfied: tzdata>=2022.1 in f:\\venv\\aich\\lib\\site-packages (from pandas) (2023.3)\n",
      "Requirement already satisfied: colorama in f:\\venv\\aich\\lib\\site-packages (from tqdm) (0.4.6)\n",
      "Requirement already satisfied: scipy>=1.5.0 in f:\\venv\\aich\\lib\\site-packages (from scikit-learn) (1.11.3)\n",
      "Requirement already satisfied: joblib>=1.1.1 in f:\\venv\\aich\\lib\\site-packages (from scikit-learn) (1.3.2)\n",
      "Requirement already satisfied: threadpoolctl>=2.0.0 in f:\\venv\\aich\\lib\\site-packages (from scikit-learn) (3.2.0)\n",
      "Requirement already satisfied: six>=1.5 in f:\\venv\\aich\\lib\\site-packages (from python-dateutil>=2.7->matplotlib) (1.16.0)\n",
      "Note: you may need to restart the kernel to use updated packages.\n"
     ]
    },
    {
     "name": "stderr",
     "output_type": "stream",
     "text": [
      "\n",
      "[notice] A new release of pip is available: 23.1.2 -> 23.3.2\n",
      "[notice] To update, run: python.exe -m pip install --upgrade pip\n"
     ]
    }
   ],
   "source": [
    "%pip install matplotlib plotly pandas numpy tqdm scikit-learn pyarrow"
   ]
  },
  {
   "cell_type": "markdown",
   "metadata": {},
   "source": [
    "### Imports"
   ]
  },
  {
   "cell_type": "code",
   "execution_count": 2,
   "metadata": {},
   "outputs": [],
   "source": [
    "from itertools import product\n",
    "from tqdm import tqdm\n",
    "from score import score\n",
    "#from sklearn.svm import SVC\n",
    "#from sklearn.neighbors import KNeighborsClassifier\n",
    "from sklearn.ensemble import RandomForestClassifier\n",
    "from sklearn.preprocessing import StandardScaler\n",
    "from sklearn.metrics import recall_score, precision_score, average_precision_score, f1_score\n",
    "import wandb\n",
    "from abc import ABC, abstractmethod #, classmethod\n",
    "from math import ceil, floor\n",
    "import os\n",
    "from pathlib import Path\n",
    "from joblib import dump, load\n",
    "from custom_enums import ModelTrainingType\n",
    "import pandas as pd\n",
    "import pyarrow.parquet as pq\n",
    "import pyarrow.dataset as ds\n",
    "import gc\n",
    "from scipy.special import softmax"
   ]
  },
  {
   "cell_type": "code",
   "execution_count": 3,
   "metadata": {},
   "outputs": [],
   "source": [
    "\n",
    "# wandb.login() requires you to get your API key from your account settings\n",
    "# open the weights and biases website https://wandb.ai/login and login to your account\n",
    "# then go to your account settings and copy the API key\n",
    "# paste it in the input box and hit enter\n",
    "\n",
    "#wandb.login() #TODO: uncomment this line to login to your account"
   ]
  },
  {
   "cell_type": "code",
   "execution_count": 4,
   "metadata": {},
   "outputs": [],
   "source": [
    "# # start a new wandb run to track this script\n",
    "# wandb.init(\n",
    "#     # set the wandb project where this run will be logged\n",
    "#     project=\"my-awesome-project\",\n",
    "    \n",
    "#     # track hyperparameters and run metadata\n",
    "#     config={\n",
    "#     \"learning_rate\": 0.02,\n",
    "#     \"architecture\": \"CNN\",\n",
    "#     \"dataset\": \"CIFAR-100\",\n",
    "#     \"epochs\": 10,\n",
    "#     }\n",
    "# )"
   ]
  },
  {
   "cell_type": "markdown",
   "metadata": {},
   "source": [
    "To be able to switch between different models from different libraries at a glance, we implement an interface called `IPipelineRequirements`. This allows us to make the pipleine even more robust and easier to extend upon. "
   ]
  },
  {
   "cell_type": "code",
   "execution_count": 5,
   "metadata": {},
   "outputs": [],
   "source": [
    "class IPipelineRequirements(ABC):\n",
    "    @abstractmethod\n",
    "    def train(self):\n",
    "        pass\n",
    "\n",
    "    @abstractmethod\n",
    "    def predict(self):\n",
    "        pass\n",
    "\n",
    "    @abstractmethod\n",
    "    def save(self):\n",
    "        pass\n",
    "\n",
    "    @abstractmethod\n",
    "    def load(self):\n",
    "        pass\n",
    "\n",
    "    @abstractmethod\n",
    "    def evaluate(self):\n",
    "        pass"
   ]
  },
  {
   "cell_type": "markdown",
   "metadata": {},
   "source": [
    "Our first model is the baseline model, which just takes the mean over all onset and wakeup times and tries to predict `onset` and `wakeup` events with the calculated time."
   ]
  },
  {
   "cell_type": "code",
   "execution_count": 6,
   "metadata": {},
   "outputs": [],
   "source": [
    "class BaselineModel(IPipelineRequirements):\n",
    "    def __init__(self):\n",
    "        pass\n",
    "\n",
    "    def train(self):\n",
    "        raise NotImplementedError(\"Please Implement this method\")\n",
    "\n",
    "    def predict(self):\n",
    "        raise NotImplementedError(\"Please Implement this method\")\n",
    "\n",
    "    def save(self):\n",
    "        raise NotImplementedError(\"Please Implement this method\")\n",
    "\n",
    "    def load(self):\n",
    "        raise NotImplementedError(\"Please Implement this method\")\n",
    "\n",
    "    def evaluate(self):\n",
    "        raise NotImplementedError(\"Please Implement this method\")"
   ]
  },
  {
   "cell_type": "code",
   "execution_count": 7,
   "metadata": {},
   "outputs": [],
   "source": [
    "g = BaselineModel()"
   ]
  },
  {
   "cell_type": "code",
   "execution_count": null,
   "metadata": {},
   "outputs": [],
   "source": []
  },
  {
   "cell_type": "markdown",
   "metadata": {},
   "source": [
    "Numerous studies have concentrated on applications using `RandomForest`. The primary motivation for this preference is the model's inherent transparency in decision-making processes, which are readily identifiable in such models. Subsequent to the BaselineModel, efforts have been made to abstract models from the Scikit-learn library. Fortunately, the majority of models within their API exhibit consistent implementation patterns, facilitating their integration into the processing pipeline."
   ]
  },
  {
   "cell_type": "code",
   "execution_count": 8,
   "metadata": {},
   "outputs": [],
   "source": [
    "class SkLearnModel(IPipelineRequirements):\n",
    "\n",
    "    def __init__(self, model_path):\n",
    "        self.load(model_path)\n",
    "\n",
    "    def __init__(self, model, identifier, scaler=StandardScaler, sk_model_params=None):\n",
    "        self._model = model\n",
    "        self._scaler = scaler if not callable(scaler) else scaler() # if scaler is a classpointer, instantiate it\n",
    "        self.identifier = identifier\n",
    "        self._model_params = sk_model_params\n",
    "\n",
    "    def train(self, X, y, not_scaled=False, **kwargs):\n",
    "        if not_scaled:\n",
    "            X = self._scaler.transform(X)\n",
    "\n",
    "        # due to the big dataset we need to check wich model was instantiated and do some model\n",
    "        # specific stuff to enable us to train the model in batches\n",
    "        if isinstance(self._model, RandomForestClassifier):\n",
    "            new_estimators = kwargs['add_estimators'] if 'add_estimators' in kwargs else 50\n",
    "            if self._model.warm_start: self._model.n_estimators += new_estimators\n",
    "            #print(f'Current estimator increased to {self._model.n_estimators}, {new_estimators} added this round.')\n",
    "        # if isinstance(self._model, SVC):\n",
    "        #     pass\n",
    "\n",
    "        self._model.fit(X, y)\n",
    "\n",
    "    def predict(self, X, not_scaled=False):\n",
    "        if not self._model: raise ValueError('Please load or train a model first.')\n",
    "        if not_scaled:\n",
    "            if not self._scaler: raise ValueError('Please load or fit a scaler first.')\n",
    "            X = self._scaler.transform(X)\n",
    "        return self._model.predict(X)\n",
    "\n",
    "    def save(self):\n",
    "        try:\n",
    "            Path.mkdir(Path('models'), exist_ok=True)\n",
    "            with open(f'models/model_{self.identifier}.jlb', 'wb') as f:\n",
    "                dump(self._model, f)\n",
    "            with open(f'models/scaler_{self.identifier}.jlb', 'wb') as f:\n",
    "                dump(self._scaler, f)\n",
    "        except:\n",
    "            raise ValueError('Unable to save model and scaler.')\n",
    "\n",
    "    def load(self, filepath):\n",
    "        try:\n",
    "            # load model and scaler\n",
    "            if os.path.isfile(filepath):\n",
    "                print(f'Loading model from {filepath}')\n",
    "                with open(filepath, 'rb') as f:\n",
    "                    self._model = load(f)\n",
    "            scaler_path = f'{os.path.split(filepath)[0]}/scaler_{os.path.split(filepath)[1].split(\".\")[0].split(\"_\")[1]}.pkl'\n",
    "            if os.path.isfile(scaler_path):\n",
    "                print(f'Loading scaler from {scaler_path}')\n",
    "                with open(filepath, 'rb') as f:\n",
    "                    self._scaler = load(f)\n",
    "\n",
    "            # extract identifier from filename\n",
    "            self._identifier = filepath.split('_')[1].split('.')[0]\n",
    "        except (FileNotFoundError) as e:\n",
    "                print(f'File {e} not found')\n",
    "                raise ValueError('Filepath is not valid. Unable to load model and scaler.')\n",
    "        except (IndexError) as e:\n",
    "                print(f'The name of the file does not implement the convention \"<model|scaler>_<some identifier>\".')\n",
    "                raise ValueError('Filepath is not valid. Unable to load model and scaler.')\n",
    "        except (Exception) as e:\n",
    "            print(f'Something went wrong. {e}')\n",
    "            raise ValueError('Unknown Error.')\n",
    "\n",
    "    def evaluate(self, X, y, scoreFx=None, not_scaled=False, prepredicted=None):\n",
    "        if not scoreFx:\n",
    "            raise ValueError('Please provide a score function.')\n",
    "        if not self._model:\n",
    "            raise ValueError('Please load or train a model first.')\n",
    "        if not_scaled and prepredicted is None:\n",
    "            if not self._scaler: raise ValueError('Please load or fit a scaler first.')\n",
    "            X = self._scaler.transform(X)\n",
    "\n",
    "        return scoreFx(y, prepredicted if prepredicted is not None else self._model.predict(X))"
   ]
  },
  {
   "cell_type": "markdown",
   "metadata": {},
   "source": [
    "### Import the training and the validation data"
   ]
  },
  {
   "cell_type": "code",
   "execution_count": 10,
   "metadata": {},
   "outputs": [],
   "source": [
    "NEW_TRAIN_DATA = '../data/train/'\n",
    "NEW_VALIDATION_DATA = '../data/val/'\n",
    "TRAIN_DATA = '../data/train_20231021'\n",
    "#TRAIN_DATA = '../data/train_20231021_20M'\n",
    "VALIDATION_DATA = '../data/validation_20231021'\n",
    "\n",
    "# figure out series id mapping\n",
    "SERIES_MAPPING_ENABLED = False\n",
    "if not 'series_id_mapping' in vars() and SERIES_MAPPING_ENABLED:\n",
    "    series_id_mapping = {'train': dict(), 'validation': dict()}\n",
    "    t = ds.dataset(NEW_TRAIN_DATA).to_table(columns=['series_id'])\n",
    "    #t = pq.ParquetDataset(TRAIN_DATA).read(columns=['series_id'])\n",
    "    for i, data in enumerate(t.to_pandas()['series_id'].unique()):\n",
    "        series_id_mapping['train'][data] = i\n",
    "    #v = pq.ParquetDataset(VALIDATION_DATA).read(columns=['series_id'])\n",
    "    v = ds.dataset(NEW_VALIDATION_DATA).to_table(columns=['series_id'])\n",
    "    for i, data in enumerate(v.to_pandas()['series_id'].unique()):\n",
    "        series_id_mapping['validation'][data] = i\n",
    "    del t, v\n",
    "    gc.collect()\n",
    "\n",
    "#train_dataset_length = pq.ParquetFile(TRAIN_DATA).metadata.num_rows\n",
    "train_dataset_length = ds.dataset(NEW_TRAIN_DATA).count_rows()\n",
    "validation_dataset_length = ds.dataset(NEW_VALIDATION_DATA).count_rows()\n",
    "\n",
    "def dataloader_full_dataset(validation=False):\n",
    "    return pd.read_parquet(VALIDATION_DATA if validation else TRAIN_DATA)\n",
    "\n",
    "def dataloader(validation=False, batch_size=5_000_000):\n",
    "    parquet_file = pq.ParquetFile(VALIDATION_DATA if validation else TRAIN_DATA)\n",
    "    for i in parquet_file.iter_batches(batch_size=batch_size):\n",
    "        yield i.to_pandas()\n",
    "\n",
    "def batched_dataloader(validation=False, batch_size=100_000):\n",
    "    dataset = ds.dataset(NEW_VALIDATION_DATA if validation else NEW_TRAIN_DATA)\n",
    "    batch = pd.DataFrame()\n",
    "    for file_batch in dataset.to_batches(batch_size=batch_size):\n",
    "        batch = pd.concat([batch, file_batch.to_pandas()])\n",
    "        if len(batch) >= batch_size:\n",
    "            yield batch.reset_index(drop=True)\n",
    "            batch = pd.DataFrame()\n",
    "    yield batch.reset_index(drop=True)\n"
   ]
  },
  {
   "cell_type": "code",
   "execution_count": 11,
   "metadata": {},
   "outputs": [],
   "source": [
    "def load_model_from_back(path: str) -> RandomForestClassifier:\n",
    "    with open(path, 'rb') as f:\n",
    "        model = load(f)\n",
    "    return model"
   ]
  },
  {
   "cell_type": "code",
   "execution_count": 12,
   "metadata": {},
   "outputs": [],
   "source": [
    "columns_to_drop = ['step', 'series_id', 'awake', 'wearable_on', 'seconds', 'year']"
   ]
  },
  {
   "cell_type": "code",
   "execution_count": 1,
   "metadata": {},
   "outputs": [
    {
     "ename": "ValueError",
     "evalue": "Forced stop, allows restarting the kernel and using the runn all button.",
     "output_type": "error",
     "traceback": [
      "\u001b[1;31m---------------------------------------------------------------------------\u001b[0m",
      "\u001b[1;31mValueError\u001b[0m                                Traceback (most recent call last)",
      "\u001b[1;32mf:\\git\\AICH\\code\\classic_approach.ipynb Cell 19\u001b[0m line \u001b[0;36m1\n\u001b[1;32m----> <a href='vscode-notebook-cell:/f%3A/git/AICH/code/classic_approach.ipynb#X26sZmlsZQ%3D%3D?line=0'>1</a>\u001b[0m \u001b[39mraise\u001b[39;00m(\u001b[39mValueError\u001b[39;00m(\u001b[39m'\u001b[39m\u001b[39mForced stop, allows restarting the kernel and using the runn all button.\u001b[39m\u001b[39m'\u001b[39m))\n",
      "\u001b[1;31mValueError\u001b[0m: Forced stop, allows restarting the kernel and using the runn all button."
     ]
    }
   ],
   "source": [
    "raise(ValueError('Forced stop, allows restarting the kernel and using the runn all button.'))"
   ]
  },
  {
   "cell_type": "markdown",
   "metadata": {},
   "source": [
    "### Run the pipeline\n",
    "\n",
    "This pipline trains two classifiers with all possible combinations of hyperparameters, the sensor worn classifier and the sleep state classifier"
   ]
  },
  {
   "cell_type": "code",
   "execution_count": null,
   "metadata": {},
   "outputs": [],
   "source": [
    "# define all the combinations of models and features\n",
    "models_and_hyperparams = {\n",
    "    RandomForestClassifier: {\n",
    "        'params': {\n",
    "            'n_estimators': [500], #, 600, 400],\n",
    "            'max_depth': [None, 20, 40, 60],\n",
    "            'min_samples_leaf': [5, 15, 25],\n",
    "            'random_state': [42],\n",
    "            'n_jobs': [10],\n",
    "            #'criterion': ['gini', 'entropy', 'log_loss'],\n",
    "            'warm_start': [True]\n",
    "        },\n",
    "        'modeltype': SkLearnModel,\n",
    "        'scaler': StandardScaler,\n",
    "        'training_type': ModelTrainingType.BATCH,\n",
    "        'batch_size': 3_000_000\n",
    "    }\n",
    "}\n",
    "\n",
    "# define scaler\n",
    "pretrained_scalers = dict() # used to store trained scalers for later use\n",
    "\n",
    "# loop over all combinations and append it to the configurations list\n",
    "# if there are no hyperparams, just instantiate the model without params\n",
    "for model_type, hyperparams in models_and_hyperparams.items():\n",
    "    if len(hyperparams['params']) > 0: # if there are hyperparams, build a dict and pass it to the model as parameters\n",
    "        fx_param_names, fx_param_values = zip(*hyperparams['params'].items())\n",
    "        for cartesian_product_values in product(*fx_param_values):\n",
    "            hyperparam_dict = dict(zip(fx_param_names, cartesian_product_values))\n",
    "\n",
    "            # create or reuse the scaler specified in the models_and_hyperparams dictionary\n",
    "            if hyperparams['scaler'] in pretrained_scalers:\n",
    "                print(f'Using pretrained scaler {hyperparams[\"scaler\"].__name__}')\n",
    "                scaler = pretrained_scalers[hyperparams['scaler']]\n",
    "            else:\n",
    "                scaler = hyperparams['scaler']()\n",
    "                print(f'Start fitting scaler {hyperparams[\"scaler\"].__name__}')\n",
    "                for batch in tqdm(batched_dataloader(batch_size=hyperparams['batch_size']) if hyperparams['training_type'] == ModelTrainingType.BATCH else dataloader_full_dataset()):\n",
    "                    X = batch.drop(columns_to_drop, axis=1)\n",
    "                    #X = batch.drop(['wearable_on', 'awake', 'wakeup', 'onset'], axis=1)\n",
    "                    #X['series_id'] = X['series_id'].map(series_id_mapping['train'])\n",
    "                    scaler.partial_fit(X)\n",
    "                    del X\n",
    "                    gc.collect()\n",
    "                # save the scaler for later use\n",
    "                pretrained_scalers[hyperparams['scaler']] = scaler\n",
    "\n",
    "            # create the model from the modeltype and the hyperparam_dict\n",
    "            m = hyperparams['modeltype'](model_type(**hyperparam_dict), \\\n",
    "                                        f'{model_type.__name__}-wrist-{\"-\".join([f\"{na}__{str(va)}\" for na, va in hyperparam_dict.items()])}'.lower(), \\\n",
    "                                        scaler, \\\n",
    "                                        hyperparam_dict)\n",
    "            m2 = hyperparams['modeltype'](model_type(**hyperparam_dict), \\\n",
    "                                        f'{model_type.__name__}-sleep-{\"-\".join([f\"{na}__{str(va)}\" for na, va in hyperparam_dict.items()])}'.lower(), \\\n",
    "                                        scaler, \\\n",
    "                                        hyperparam_dict)\n",
    "\n",
    "            # init wandb\n",
    "            # start a new wandb run to track this script\n",
    "            #cfg = m._model_params.copy()\n",
    "            #cfg['model'] = m._model.__name__\n",
    "            #wandb.init(project=\"classic_models\", config=cfg)\n",
    "\n",
    "            # train model\n",
    "            rounds = 1\n",
    "            if hyperparams['training_type'] == ModelTrainingType.BATCH:\n",
    "                print(f'Model will be traind in batches of {hyperparams[\"batch_size\"]} samples.')\n",
    "                print(f'Dataset contains {train_dataset_length} samples. Batchsize is {hyperparams[\"batch_size\"]}. That means {(rounds := train_dataset_length / hyperparams[\"batch_size\"])} batches will be used to fit the model.')\n",
    "                if model_type == RandomForestClassifier:\n",
    "                    # print(f'At the end {hyperparam_dict[\"n_estimators\"]} estimators will be fitted. That means, {hyperparam_dict[\"n_estimators\"]//rounds} estimators per batch.')\n",
    "                    m._model.n_estimators = 0 #set to 0. model will increase the number of estimators in each round\n",
    "                    m2._model.n_estimators = 0 #set to 0. model will increase the number of estimators in each round\n",
    "                    print(f'Build estimator distribution for {rounds} rounds.')\n",
    "                    est_anteil = [1 for _ in range(floor(rounds))]\n",
    "                    est_anteil.append(rounds % floor(rounds))\n",
    "                    est_anteil = softmax(est_anteil)\n",
    "                    est_anteil *= hyperparam_dict['n_estimators']\n",
    "                    est_anteil = est_anteil.round().astype(int)\n",
    "                    print(f'Estimator distribution per round: {est_anteil}')\n",
    "\n",
    "            print(f'Start training model {m.identifier}')\n",
    "            for i, batch in enumerate(tqdm(batched_dataloader(batch_size=hyperparams['batch_size']) if hyperparams['training_type'] == ModelTrainingType.BATCH else dataloader_full_dataset(), total=floor(rounds)+1)):\n",
    "                y = batch['wearable_on']\n",
    "                X = batch.drop(columns_to_drop, axis=1)\n",
    "                #X = batch.drop(['wearable_on', 'awake'], axis=1)\n",
    "                #X['series_id'] = X['series_id'].map(series_id_mapping['train'])\n",
    "                args = {}\n",
    "                if model_type == RandomForestClassifier and hyperparams['training_type'] == ModelTrainingType.BATCH: args['add_estimators'] = est_anteil[i]\n",
    "                m.train(X, y, not_scaled=True, **args)\n",
    "                del X\n",
    "                del y\n",
    "                gc.collect()\n",
    "\n",
    "            #  evaluate model\n",
    "            print(f'Start evaluating model {m.identifier}')\n",
    "            score_value_average_precision_score, score_value_recall, score_value_precision, score_f1 = [], [], [], []\n",
    "            for validation in tqdm(batched_dataloader(batch_size=hyperparams['batch_size'], validation=True) if hyperparams['training_type'] == ModelTrainingType.BATCH else dataloader_full_dataset(validation=True), total = ceil(validation_dataset_length / hyperparams[\"batch_size\"])):\n",
    "                #validation['series_id'] = validation['series_id'].map(series_id_mapping['validation'])\n",
    "                validation_y = validation['wearable_on']\n",
    "                validation.drop(columns_to_drop, axis=1, inplace=True)\n",
    "                #validation.drop(['wearable_on', 'awake'], axis=1, inplace=True)\n",
    "                validation_y_hat = m.predict(validation, not_scaled=True)\n",
    "                # this does the same as scoreFX(y, y_hat). It is wrapped in the models evaluate function.\n",
    "                # the model itself could also do the prediction if prepredicted is None\n",
    "                # then, the first argument of the evaluate function would be the X_validation data\n",
    "                score_value_average_precision_score.append(m.evaluate(None, validation_y, scoreFx=average_precision_score, not_scaled=True, prepredicted=validation_y_hat))\n",
    "                score_value_recall.append(m.evaluate(None, validation_y, scoreFx=recall_score, not_scaled=True, prepredicted=validation_y_hat))\n",
    "                score_value_precision.append(m.evaluate(None, validation_y, scoreFx=precision_score, not_scaled=True, prepredicted=validation_y_hat))\n",
    "                score_f1.append(m.evaluate(None, validation_y, scoreFx=f1_score, not_scaled=True, prepredicted=validation_y_hat))\n",
    "                del validation, validation_y\n",
    "\n",
    "            print(sum(score_value_average_precision_score) / len(score_value_average_precision_score))\n",
    "            print(sum(score_value_recall) / len(score_value_recall))\n",
    "            print(sum(score_value_precision) / len(score_value_precision))\n",
    "            print(sum(score_f1) / len(score_f1))\n",
    "            #  save model\n",
    "            m.save()\n",
    "\n",
    "            print(f'Start training model {m2.identifier}')\n",
    "            for i, batch in enumerate(tqdm(batched_dataloader(batch_size=hyperparams['batch_size']) if hyperparams['training_type'] == ModelTrainingType.BATCH else dataloader_full_dataset(), total=floor(rounds)+1)):\n",
    "                y = batch['awake']\n",
    "                X = batch.drop(columns_to_drop, axis=1)\n",
    "                #X = batch.drop(['wearable_on', 'awake'], axis=1)\n",
    "                #X['series_id'] = X['series_id'].map(series_id_mapping['train'])\n",
    "                args = {}\n",
    "                if model_type == RandomForestClassifier and hyperparams['training_type'] == ModelTrainingType.BATCH: args['add_estimators'] = est_anteil[i]\n",
    "                worn_y_hat = m.predict(X, not_scaled=True)\n",
    "                # add worn_y_hat as new column to X\n",
    "                X['pred_worn'] = worn_y_hat\n",
    "                # filter out all rows where worn_y_hat is 0\n",
    "                X = X[X['pred_worn'] == 1]\n",
    "                y = y[y.index.isin(X.index)]\n",
    "                X = X.drop(['pred_worn'], axis=1)\n",
    "                m2.train(X, y, not_scaled=True, **args)\n",
    "                del X, y\n",
    "                gc.collect()\n",
    "\n",
    "            print(f'Start evaluating model {m2.identifier}')\n",
    "            score_value_average_precision_score_m2, score_value_recall_m2, score_value_precision_m2, f1_score_m2 = [], [], [], []\n",
    "            for validation in tqdm(batched_dataloader(batch_size=hyperparams['batch_size'], validation=True) if hyperparams['training_type'] == ModelTrainingType.BATCH else dataloader_full_dataset(validation=True), total = ceil(validation_dataset_length / hyperparams[\"batch_size\"])):\n",
    "                #validation['series_id'] = validation['series_id'].map(series_id_mapping['validation'])\n",
    "                validation_y = validation['awake']\n",
    "                validation.drop(columns_to_drop, axis=1, inplace=True)\n",
    "                #validation.drop(['wearable_on', 'awake'], axis=1, inplace=True)\n",
    "                worn_y_hat = m.predict(validation, not_scaled=True)\n",
    "                validation['pred_worn'] = worn_y_hat\n",
    "                validation = validation[validation['pred_worn'] == 1]\n",
    "                validation_y = validation_y[validation_y.index.isin(validation.index)]\n",
    "                validation = validation.drop(['pred_worn'], axis=1)\n",
    "                validation_y_hat = m2.predict(validation, not_scaled=True)\n",
    "                # this does the same as scoreFX(y, y_hat). It is wrapped in the models evaluate function.\n",
    "                # the model itself could also do the prediction if prepredicted is None\n",
    "                # then, the first argument of the evaluate function would be the X_validation data\n",
    "                score_value_average_precision_score_m2.append(m2.evaluate(None, validation_y, scoreFx=average_precision_score, not_scaled=True, prepredicted=validation_y_hat))\n",
    "                score_value_recall_m2.append(m2.evaluate(None, validation_y, scoreFx=recall_score, not_scaled=True, prepredicted=validation_y_hat))\n",
    "                score_value_precision_m2.append(m2.evaluate(None, validation_y, scoreFx=precision_score, not_scaled=True, prepredicted=validation_y_hat))\n",
    "                f1_score_m2.append(m2.evaluate(None, validation_y, scoreFx=f1_score, not_scaled=True, prepredicted=validation_y_hat))\n",
    "\n",
    "                del validation, validation_y\n",
    "\n",
    "            print(sum(score_value_average_precision_score_m2) / len(score_value_average_precision_score_m2))\n",
    "            print(sum(score_value_recall_m2) / len(score_value_recall_m2))\n",
    "            print(sum(score_value_precision_m2) / len(score_value_precision_m2))\n",
    "            print(sum(f1_score_m2) / len(f1_score_m2))\n",
    "            #  save model\n",
    "            m2.save()\n",
    "\n",
    "            #break\n",
    "\n",
    "            #wandb.finish()\n",
    "    else:\n",
    "        print(\"params in the dictionary cannot be empty. Use the standard values in the dictionary for the model\", model_type.__name__)"
   ]
  },
  {
   "cell_type": "code",
   "execution_count": 72,
   "metadata": {},
   "outputs": [
    {
     "name": "stderr",
     "output_type": "stream",
     "text": [
      "f:\\venv\\AICH\\Lib\\site-packages\\plotly\\offline\\offline.py:562: UserWarning:\n",
      "\n",
      "Your filename `plots/model_randomforestclassifier-wrist-n_estimators__500-max_depth__20-min_samples_leaf__15-random_state__42-n_jobs__10-warm_start__true.jlb.png` didn't end with .html. Adding .html to the end of your file.\n",
      "\n"
     ]
    },
    {
     "data": {
      "application/vnd.plotly.v1+json": {
       "config": {
        "plotlyServerURL": "https://plot.ly"
       },
       "data": [
        {
         "alignmentgroup": "True",
         "hovertemplate": "x=%{x}<br>y=%{y}<extra></extra>",
         "legendgroup": "",
         "marker": {
          "color": "#636efa",
          "pattern": {
           "shape": ""
          }
         },
         "name": "",
         "offsetgroup": "",
         "orientation": "v",
         "showlegend": false,
         "textposition": "auto",
         "type": "bar",
         "x": [
          "step",
          "anglez",
          "enmo",
          "hour",
          "day",
          "month",
          "anglez_rolling_mean_5",
          "anglez_rolling_max_5",
          "anglez_rolling_std_5",
          "anglez_diff_rolling_std_5",
          "anglez_rolling_mean_30",
          "anglez_rolling_max_30",
          "anglez_rolling_std_30",
          "anglez_diff_rolling_max_30",
          "anglez_diff_rolling_std_30",
          "anglez_rolling_mean_120",
          "anglez_rolling_max_120",
          "anglez_rolling_std_120",
          "anglez_diff_rolling_mean_120",
          "anglez_diff_rolling_max_120",
          "anglez_diff_rolling_std_120",
          "anglez_rolling_mean_480",
          "anglez_rolling_max_480",
          "anglez_rolling_std_480",
          "anglez_diff_rolling_mean_480",
          "anglez_diff_rolling_max_480",
          "anglez_diff_rolling_std_480",
          "enmo_rolling_mean_5",
          "enmo_rolling_mean_30",
          "enmo_rolling_max_30",
          "enmo_rolling_std_30",
          "enmo_diff_rolling_max_30",
          "enmo_diff_rolling_std_30",
          "enmo_rolling_mean_120",
          "enmo_rolling_max_120",
          "enmo_rolling_std_120",
          "enmo_diff_rolling_mean_120",
          "enmo_diff_rolling_max_120",
          "enmo_diff_rolling_std_120",
          "enmo_rolling_mean_480",
          "enmo_rolling_max_480",
          "enmo_rolling_std_480",
          "enmo_diff_rolling_mean_480",
          "enmo_diff_rolling_max_480",
          "enmo_diff_rolling_std_480"
         ],
         "xaxis": "x",
         "y": [
          0.10822888729782562,
          0.0017564314019757033,
          0.002155732172861284,
          0.009958203903816997,
          0.02505263712791225,
          0.04641688656991627,
          0.002806353795329512,
          0.002380330925301828,
          0.0018450210075009782,
          0.002703688756950965,
          0.005463357683332942,
          0.006890877365923475,
          0.009629083364286575,
          0.007058070927794512,
          0.020612883386633456,
          0.014043179355248521,
          0.029449557739336395,
          0.03979359687946871,
          0.005708144933201032,
          0.02728425964279591,
          0.03524397743913159,
          0.028070326324799128,
          0.06425714540477993,
          0.058464693769874225,
          0.017054889588689996,
          0.07867902111948243,
          0.06869428911806556,
          0.002454388944980686,
          0.00544543377656412,
          0.004822131752357323,
          0.003309116976630979,
          0.002949016499055541,
          0.006345266369587612,
          0.012165329575299694,
          0.01568129663197266,
          0.011471357772800918,
          0.005869822295229782,
          0.013823656816507008,
          0.014180529812582393,
          0.016946788965855886,
          0.03968552288639698,
          0.023498853014913196,
          0.016760007393169574,
          0.03557827892021745,
          0.049311674593642524
         ],
         "yaxis": "y"
        }
       ],
       "layout": {
        "barmode": "relative",
        "height": 500,
        "legend": {
         "tracegroupgap": 0
        },
        "template": {
         "data": {
          "bar": [
           {
            "error_x": {
             "color": "#2a3f5f"
            },
            "error_y": {
             "color": "#2a3f5f"
            },
            "marker": {
             "line": {
              "color": "#E5ECF6",
              "width": 0.5
             },
             "pattern": {
              "fillmode": "overlay",
              "size": 10,
              "solidity": 0.2
             }
            },
            "type": "bar"
           }
          ],
          "barpolar": [
           {
            "marker": {
             "line": {
              "color": "#E5ECF6",
              "width": 0.5
             },
             "pattern": {
              "fillmode": "overlay",
              "size": 10,
              "solidity": 0.2
             }
            },
            "type": "barpolar"
           }
          ],
          "carpet": [
           {
            "aaxis": {
             "endlinecolor": "#2a3f5f",
             "gridcolor": "white",
             "linecolor": "white",
             "minorgridcolor": "white",
             "startlinecolor": "#2a3f5f"
            },
            "baxis": {
             "endlinecolor": "#2a3f5f",
             "gridcolor": "white",
             "linecolor": "white",
             "minorgridcolor": "white",
             "startlinecolor": "#2a3f5f"
            },
            "type": "carpet"
           }
          ],
          "choropleth": [
           {
            "colorbar": {
             "outlinewidth": 0,
             "ticks": ""
            },
            "type": "choropleth"
           }
          ],
          "contour": [
           {
            "colorbar": {
             "outlinewidth": 0,
             "ticks": ""
            },
            "colorscale": [
             [
              0,
              "#0d0887"
             ],
             [
              0.1111111111111111,
              "#46039f"
             ],
             [
              0.2222222222222222,
              "#7201a8"
             ],
             [
              0.3333333333333333,
              "#9c179e"
             ],
             [
              0.4444444444444444,
              "#bd3786"
             ],
             [
              0.5555555555555556,
              "#d8576b"
             ],
             [
              0.6666666666666666,
              "#ed7953"
             ],
             [
              0.7777777777777778,
              "#fb9f3a"
             ],
             [
              0.8888888888888888,
              "#fdca26"
             ],
             [
              1,
              "#f0f921"
             ]
            ],
            "type": "contour"
           }
          ],
          "contourcarpet": [
           {
            "colorbar": {
             "outlinewidth": 0,
             "ticks": ""
            },
            "type": "contourcarpet"
           }
          ],
          "heatmap": [
           {
            "colorbar": {
             "outlinewidth": 0,
             "ticks": ""
            },
            "colorscale": [
             [
              0,
              "#0d0887"
             ],
             [
              0.1111111111111111,
              "#46039f"
             ],
             [
              0.2222222222222222,
              "#7201a8"
             ],
             [
              0.3333333333333333,
              "#9c179e"
             ],
             [
              0.4444444444444444,
              "#bd3786"
             ],
             [
              0.5555555555555556,
              "#d8576b"
             ],
             [
              0.6666666666666666,
              "#ed7953"
             ],
             [
              0.7777777777777778,
              "#fb9f3a"
             ],
             [
              0.8888888888888888,
              "#fdca26"
             ],
             [
              1,
              "#f0f921"
             ]
            ],
            "type": "heatmap"
           }
          ],
          "heatmapgl": [
           {
            "colorbar": {
             "outlinewidth": 0,
             "ticks": ""
            },
            "colorscale": [
             [
              0,
              "#0d0887"
             ],
             [
              0.1111111111111111,
              "#46039f"
             ],
             [
              0.2222222222222222,
              "#7201a8"
             ],
             [
              0.3333333333333333,
              "#9c179e"
             ],
             [
              0.4444444444444444,
              "#bd3786"
             ],
             [
              0.5555555555555556,
              "#d8576b"
             ],
             [
              0.6666666666666666,
              "#ed7953"
             ],
             [
              0.7777777777777778,
              "#fb9f3a"
             ],
             [
              0.8888888888888888,
              "#fdca26"
             ],
             [
              1,
              "#f0f921"
             ]
            ],
            "type": "heatmapgl"
           }
          ],
          "histogram": [
           {
            "marker": {
             "pattern": {
              "fillmode": "overlay",
              "size": 10,
              "solidity": 0.2
             }
            },
            "type": "histogram"
           }
          ],
          "histogram2d": [
           {
            "colorbar": {
             "outlinewidth": 0,
             "ticks": ""
            },
            "colorscale": [
             [
              0,
              "#0d0887"
             ],
             [
              0.1111111111111111,
              "#46039f"
             ],
             [
              0.2222222222222222,
              "#7201a8"
             ],
             [
              0.3333333333333333,
              "#9c179e"
             ],
             [
              0.4444444444444444,
              "#bd3786"
             ],
             [
              0.5555555555555556,
              "#d8576b"
             ],
             [
              0.6666666666666666,
              "#ed7953"
             ],
             [
              0.7777777777777778,
              "#fb9f3a"
             ],
             [
              0.8888888888888888,
              "#fdca26"
             ],
             [
              1,
              "#f0f921"
             ]
            ],
            "type": "histogram2d"
           }
          ],
          "histogram2dcontour": [
           {
            "colorbar": {
             "outlinewidth": 0,
             "ticks": ""
            },
            "colorscale": [
             [
              0,
              "#0d0887"
             ],
             [
              0.1111111111111111,
              "#46039f"
             ],
             [
              0.2222222222222222,
              "#7201a8"
             ],
             [
              0.3333333333333333,
              "#9c179e"
             ],
             [
              0.4444444444444444,
              "#bd3786"
             ],
             [
              0.5555555555555556,
              "#d8576b"
             ],
             [
              0.6666666666666666,
              "#ed7953"
             ],
             [
              0.7777777777777778,
              "#fb9f3a"
             ],
             [
              0.8888888888888888,
              "#fdca26"
             ],
             [
              1,
              "#f0f921"
             ]
            ],
            "type": "histogram2dcontour"
           }
          ],
          "mesh3d": [
           {
            "colorbar": {
             "outlinewidth": 0,
             "ticks": ""
            },
            "type": "mesh3d"
           }
          ],
          "parcoords": [
           {
            "line": {
             "colorbar": {
              "outlinewidth": 0,
              "ticks": ""
             }
            },
            "type": "parcoords"
           }
          ],
          "pie": [
           {
            "automargin": true,
            "type": "pie"
           }
          ],
          "scatter": [
           {
            "fillpattern": {
             "fillmode": "overlay",
             "size": 10,
             "solidity": 0.2
            },
            "type": "scatter"
           }
          ],
          "scatter3d": [
           {
            "line": {
             "colorbar": {
              "outlinewidth": 0,
              "ticks": ""
             }
            },
            "marker": {
             "colorbar": {
              "outlinewidth": 0,
              "ticks": ""
             }
            },
            "type": "scatter3d"
           }
          ],
          "scattercarpet": [
           {
            "marker": {
             "colorbar": {
              "outlinewidth": 0,
              "ticks": ""
             }
            },
            "type": "scattercarpet"
           }
          ],
          "scattergeo": [
           {
            "marker": {
             "colorbar": {
              "outlinewidth": 0,
              "ticks": ""
             }
            },
            "type": "scattergeo"
           }
          ],
          "scattergl": [
           {
            "marker": {
             "colorbar": {
              "outlinewidth": 0,
              "ticks": ""
             }
            },
            "type": "scattergl"
           }
          ],
          "scattermapbox": [
           {
            "marker": {
             "colorbar": {
              "outlinewidth": 0,
              "ticks": ""
             }
            },
            "type": "scattermapbox"
           }
          ],
          "scatterpolar": [
           {
            "marker": {
             "colorbar": {
              "outlinewidth": 0,
              "ticks": ""
             }
            },
            "type": "scatterpolar"
           }
          ],
          "scatterpolargl": [
           {
            "marker": {
             "colorbar": {
              "outlinewidth": 0,
              "ticks": ""
             }
            },
            "type": "scatterpolargl"
           }
          ],
          "scatterternary": [
           {
            "marker": {
             "colorbar": {
              "outlinewidth": 0,
              "ticks": ""
             }
            },
            "type": "scatterternary"
           }
          ],
          "surface": [
           {
            "colorbar": {
             "outlinewidth": 0,
             "ticks": ""
            },
            "colorscale": [
             [
              0,
              "#0d0887"
             ],
             [
              0.1111111111111111,
              "#46039f"
             ],
             [
              0.2222222222222222,
              "#7201a8"
             ],
             [
              0.3333333333333333,
              "#9c179e"
             ],
             [
              0.4444444444444444,
              "#bd3786"
             ],
             [
              0.5555555555555556,
              "#d8576b"
             ],
             [
              0.6666666666666666,
              "#ed7953"
             ],
             [
              0.7777777777777778,
              "#fb9f3a"
             ],
             [
              0.8888888888888888,
              "#fdca26"
             ],
             [
              1,
              "#f0f921"
             ]
            ],
            "type": "surface"
           }
          ],
          "table": [
           {
            "cells": {
             "fill": {
              "color": "#EBF0F8"
             },
             "line": {
              "color": "white"
             }
            },
            "header": {
             "fill": {
              "color": "#C8D4E3"
             },
             "line": {
              "color": "white"
             }
            },
            "type": "table"
           }
          ]
         },
         "layout": {
          "annotationdefaults": {
           "arrowcolor": "#2a3f5f",
           "arrowhead": 0,
           "arrowwidth": 1
          },
          "autotypenumbers": "strict",
          "coloraxis": {
           "colorbar": {
            "outlinewidth": 0,
            "ticks": ""
           }
          },
          "colorscale": {
           "diverging": [
            [
             0,
             "#8e0152"
            ],
            [
             0.1,
             "#c51b7d"
            ],
            [
             0.2,
             "#de77ae"
            ],
            [
             0.3,
             "#f1b6da"
            ],
            [
             0.4,
             "#fde0ef"
            ],
            [
             0.5,
             "#f7f7f7"
            ],
            [
             0.6,
             "#e6f5d0"
            ],
            [
             0.7,
             "#b8e186"
            ],
            [
             0.8,
             "#7fbc41"
            ],
            [
             0.9,
             "#4d9221"
            ],
            [
             1,
             "#276419"
            ]
           ],
           "sequential": [
            [
             0,
             "#0d0887"
            ],
            [
             0.1111111111111111,
             "#46039f"
            ],
            [
             0.2222222222222222,
             "#7201a8"
            ],
            [
             0.3333333333333333,
             "#9c179e"
            ],
            [
             0.4444444444444444,
             "#bd3786"
            ],
            [
             0.5555555555555556,
             "#d8576b"
            ],
            [
             0.6666666666666666,
             "#ed7953"
            ],
            [
             0.7777777777777778,
             "#fb9f3a"
            ],
            [
             0.8888888888888888,
             "#fdca26"
            ],
            [
             1,
             "#f0f921"
            ]
           ],
           "sequentialminus": [
            [
             0,
             "#0d0887"
            ],
            [
             0.1111111111111111,
             "#46039f"
            ],
            [
             0.2222222222222222,
             "#7201a8"
            ],
            [
             0.3333333333333333,
             "#9c179e"
            ],
            [
             0.4444444444444444,
             "#bd3786"
            ],
            [
             0.5555555555555556,
             "#d8576b"
            ],
            [
             0.6666666666666666,
             "#ed7953"
            ],
            [
             0.7777777777777778,
             "#fb9f3a"
            ],
            [
             0.8888888888888888,
             "#fdca26"
            ],
            [
             1,
             "#f0f921"
            ]
           ]
          },
          "colorway": [
           "#636efa",
           "#EF553B",
           "#00cc96",
           "#ab63fa",
           "#FFA15A",
           "#19d3f3",
           "#FF6692",
           "#B6E880",
           "#FF97FF",
           "#FECB52"
          ],
          "font": {
           "color": "#2a3f5f"
          },
          "geo": {
           "bgcolor": "white",
           "lakecolor": "white",
           "landcolor": "#E5ECF6",
           "showlakes": true,
           "showland": true,
           "subunitcolor": "white"
          },
          "hoverlabel": {
           "align": "left"
          },
          "hovermode": "closest",
          "mapbox": {
           "style": "light"
          },
          "paper_bgcolor": "white",
          "plot_bgcolor": "#E5ECF6",
          "polar": {
           "angularaxis": {
            "gridcolor": "white",
            "linecolor": "white",
            "ticks": ""
           },
           "bgcolor": "#E5ECF6",
           "radialaxis": {
            "gridcolor": "white",
            "linecolor": "white",
            "ticks": ""
           }
          },
          "scene": {
           "xaxis": {
            "backgroundcolor": "#E5ECF6",
            "gridcolor": "white",
            "gridwidth": 2,
            "linecolor": "white",
            "showbackground": true,
            "ticks": "",
            "zerolinecolor": "white"
           },
           "yaxis": {
            "backgroundcolor": "#E5ECF6",
            "gridcolor": "white",
            "gridwidth": 2,
            "linecolor": "white",
            "showbackground": true,
            "ticks": "",
            "zerolinecolor": "white"
           },
           "zaxis": {
            "backgroundcolor": "#E5ECF6",
            "gridcolor": "white",
            "gridwidth": 2,
            "linecolor": "white",
            "showbackground": true,
            "ticks": "",
            "zerolinecolor": "white"
           }
          },
          "shapedefaults": {
           "line": {
            "color": "#2a3f5f"
           }
          },
          "ternary": {
           "aaxis": {
            "gridcolor": "white",
            "linecolor": "white",
            "ticks": ""
           },
           "baxis": {
            "gridcolor": "white",
            "linecolor": "white",
            "ticks": ""
           },
           "bgcolor": "#E5ECF6",
           "caxis": {
            "gridcolor": "white",
            "linecolor": "white",
            "ticks": ""
           }
          },
          "title": {
           "x": 0.05
          },
          "xaxis": {
           "automargin": true,
           "gridcolor": "white",
           "linecolor": "white",
           "ticks": "",
           "title": {
            "standoff": 15
           },
           "zerolinecolor": "white",
           "zerolinewidth": 2
          },
          "yaxis": {
           "automargin": true,
           "gridcolor": "white",
           "linecolor": "white",
           "ticks": "",
           "title": {
            "standoff": 15
           },
           "zerolinecolor": "white",
           "zerolinewidth": 2
          }
         }
        },
        "title": {
         "text": "Sensor Worn Classifier Feature Importance (> 0.025 only)"
        },
        "width": 1000,
        "xaxis": {
         "anchor": "y",
         "domain": [
          0,
          1
         ],
         "tickfont": {
          "size": 10
         },
         "tickvals": [
          "step",
          "day",
          "month",
          "anglez_rolling_max_120",
          "anglez_rolling_std_120",
          "anglez_diff_rolling_max_120",
          "anglez_diff_rolling_std_120",
          "anglez_rolling_mean_480",
          "anglez_rolling_max_480",
          "anglez_rolling_std_480",
          "anglez_diff_rolling_max_480",
          "anglez_diff_rolling_std_480",
          "enmo_rolling_max_480",
          "enmo_diff_rolling_max_480",
          "enmo_diff_rolling_std_480"
         ],
         "title": {
          "text": "Feature"
         }
        },
        "yaxis": {
         "anchor": "x",
         "domain": [
          0,
          1
         ],
         "title": {
          "text": "Feature Importance"
         }
        }
       }
      }
     },
     "metadata": {},
     "output_type": "display_data"
    },
    {
     "data": {
      "text/plain": [
       "<Figure size 640x480 with 0 Axes>"
      ]
     },
     "metadata": {},
     "output_type": "display_data"
    }
   ],
   "source": [
    "import matplotlib.pyplot as plt\n",
    "import plotly.express as px\n",
    "import plotly\n",
    "from plotly.subplots import make_subplots\n",
    "import plotly.graph_objects as go\n",
    "from os import listdir\n",
    "\n",
    "def plot_all_models_in_models(feature_names):\n",
    "    # look up all models in the models folder\n",
    "    models = [f for f in listdir('models') if f.startswith('model') and f.find('random_state__42') != -1 and f.find('both') != -1]\n",
    "    models = ['model_randomforestclassifier-both-n_estimators__500-max_depth__40-min_samples_leaf__15-random_state__42-n_jobs__10-warm_start__true.jlb']\n",
    "    models = ['model_randomforestclassifier-wrist-n_estimators__500-max_depth__20-min_samples_leaf__15-random_state__42-n_jobs__10-warm_start__true.jlb']\n",
    "    for mod in models:\n",
    "        with open (f'models/{mod}', 'rb') as f:\n",
    "            m_to_print = load(f)\n",
    "            fig = px.bar(\n",
    "                x=feature_names,\n",
    "                y=m_to_print.feature_importances_,\n",
    "                title='Sensor Worn Classifier Feature Importance (> 0.025 only)'\n",
    "                )\n",
    "            # figure uptade y axis label\n",
    "            fig.update_yaxes(title_text='Feature Importance')\n",
    "            # figure update x axis label\n",
    "            fig.update_xaxes(title_text='Feature')\n",
    "            # plot only x axis labels if value is greater than 0.03\n",
    "            fig.update_xaxes(tickvals=[f for i, f in enumerate(feature_names) if m_to_print.feature_importances_[i] >= 0.025])\n",
    "            # plot x labels bigger\n",
    "            fig.update_xaxes(tickfont=dict(size=10))\n",
    "            # reduce area of plot to show only the relevant features\n",
    "            fig.update_layout(width=1000, height=500)\n",
    "            plt.tight_layout()\n",
    "            plotly.offline.plot(fig, filename=f'plots/{mod}.png')\n",
    "            fig.show()\n",
    "\n",
    "\n",
    "\n",
    "plot_all_models_in_models(fg.columns)"
   ]
  },
  {
   "cell_type": "code",
   "execution_count": 32,
   "metadata": {},
   "outputs": [],
   "source": [
    "additionally_drop = ['anglez_rolling_mean_1', 'anglez_rolling_max_1', 'anglez_rolling_std_1',\n",
    "       'anglez_diff_1', 'anglez_diff_rolling_mean_1',\n",
    "       'anglez_diff_rolling_max_1', 'anglez_diff_rolling_std_1', 'enmo_rolling_max_1', 'enmo_rolling_std_1', 'enmo_diff_1',\n",
    "       'enmo_diff_rolling_mean_1', 'enmo_diff_rolling_max_1',\n",
    "       'enmo_diff_rolling_std_1']\n",
    "\n",
    "bad_performer_drop = [\"enmo_rolling_mean_1\",\n",
    "\"enmo_rolling_max_5\",\n",
    "\"anglez_diff_480\",\n",
    "\"enmo_diff_rolling_mean_30\",\n",
    "\"anglez_diff_rolling_mean_30\",\n",
    "\"enmo_diff_480\",\n",
    "\"enmo_diff_rolling_std_5\",\n",
    "\"anglez_diff_rolling_max_5\",\n",
    "\"anglez_diff_120\",\n",
    "\"enmo_rolling_std_5\",\n",
    "\"enmo_diff_120\",\n",
    "\"anglez_diff_30\",\n",
    "\"minute\",\n",
    "\"enmo_diff_rolling_max_5\",\n",
    "\"enmo_diff_30\",\n",
    "\"anglez_diff_rolling_mean_5\",\n",
    "\"enmo_diff_rolling_mean_5\",\n",
    "\"anglez_diff_5\",\n",
    "\"enmo_diff_5\", \"anglez_abs\", \"enmo_abs\"]\n",
    "columns_to_drop = ['series_id', 'awake', 'wearable_on', 'seconds', 'year'] + additionally_drop + bad_performer_drop"
   ]
  },
  {
   "cell_type": "code",
   "execution_count": 25,
   "metadata": {},
   "outputs": [
    {
     "data": {
      "text/plain": [
       "45"
      ]
     },
     "execution_count": 25,
     "metadata": {},
     "output_type": "execute_result"
    }
   ],
   "source": [
    "len(m.feature_importances_)"
   ]
  },
  {
   "cell_type": "code",
   "execution_count": null,
   "metadata": {},
   "outputs": [],
   "source": [
    "m._model.feature_importances_"
   ]
  },
  {
   "cell_type": "code",
   "execution_count": 14,
   "metadata": {},
   "outputs": [],
   "source": [
    "NEW_VALIDATION_DATA = '../data/OLD_DATA/'"
   ]
  },
  {
   "cell_type": "code",
   "execution_count": 33,
   "metadata": {},
   "outputs": [],
   "source": [
    "ff = batched_dataloader(validation=True, batch_size=1)"
   ]
  },
  {
   "cell_type": "code",
   "execution_count": 34,
   "metadata": {},
   "outputs": [],
   "source": [
    "fg = next(ff)"
   ]
  },
  {
   "cell_type": "code",
   "execution_count": 35,
   "metadata": {},
   "outputs": [],
   "source": [
    "fg.drop(columns_to_drop, axis=1, inplace=True)"
   ]
  },
  {
   "cell_type": "code",
   "execution_count": 36,
   "metadata": {},
   "outputs": [
    {
     "data": {
      "text/plain": [
       "Index(['step', 'anglez', 'enmo', 'hour', 'day', 'month',\n",
       "       'anglez_rolling_mean_5', 'anglez_rolling_max_5', 'anglez_rolling_std_5',\n",
       "       'anglez_diff_rolling_std_5', 'anglez_rolling_mean_30',\n",
       "       'anglez_rolling_max_30', 'anglez_rolling_std_30',\n",
       "       'anglez_diff_rolling_max_30', 'anglez_diff_rolling_std_30',\n",
       "       'anglez_rolling_mean_120', 'anglez_rolling_max_120',\n",
       "       'anglez_rolling_std_120', 'anglez_diff_rolling_mean_120',\n",
       "       'anglez_diff_rolling_max_120', 'anglez_diff_rolling_std_120',\n",
       "       'anglez_rolling_mean_480', 'anglez_rolling_max_480',\n",
       "       'anglez_rolling_std_480', 'anglez_diff_rolling_mean_480',\n",
       "       'anglez_diff_rolling_max_480', 'anglez_diff_rolling_std_480',\n",
       "       'enmo_rolling_mean_5', 'enmo_rolling_mean_30', 'enmo_rolling_max_30',\n",
       "       'enmo_rolling_std_30', 'enmo_diff_rolling_max_30',\n",
       "       'enmo_diff_rolling_std_30', 'enmo_rolling_mean_120',\n",
       "       'enmo_rolling_max_120', 'enmo_rolling_std_120',\n",
       "       'enmo_diff_rolling_mean_120', 'enmo_diff_rolling_max_120',\n",
       "       'enmo_diff_rolling_std_120', 'enmo_rolling_mean_480',\n",
       "       'enmo_rolling_max_480', 'enmo_rolling_std_480',\n",
       "       'enmo_diff_rolling_mean_480', 'enmo_diff_rolling_max_480',\n",
       "       'enmo_diff_rolling_std_480'],\n",
       "      dtype='object')"
      ]
     },
     "execution_count": 36,
     "metadata": {},
     "output_type": "execute_result"
    }
   ],
   "source": [
    "fg.columns"
   ]
  },
  {
   "cell_type": "code",
   "execution_count": null,
   "metadata": {},
   "outputs": [],
   "source": [
    "#sorted(list(zip(fg.columns, m2._model.feature_importances_.round(4))), key=lambda x: x[1], reverse=True)"
   ]
  },
  {
   "cell_type": "markdown",
   "metadata": {},
   "source": [
    "This pipline trains all hyperparameter combinations for only one model, the sleep state classifier."
   ]
  },
  {
   "cell_type": "code",
   "execution_count": null,
   "metadata": {},
   "outputs": [
    {
     "name": "stdout",
     "output_type": "stream",
     "text": [
      "Start fitting scaler StandardScaler\n"
     ]
    },
    {
     "name": "stderr",
     "output_type": "stream",
     "text": [
      "6it [01:28, 14.82s/it]\n"
     ]
    },
    {
     "name": "stdout",
     "output_type": "stream",
     "text": [
      "Model will be traind in batches of 1500000 samples.\n",
      "Dataset contains 8695770 samples. Batchsize is 1500000. That means 5.79718 batches will be used to fit the model.\n",
      "Build estimator distribution for 5.79718 rounds.\n",
      "Estimator distribution per round: [69 69 69 69 69 56]\n",
      "Start training model v2-randomforestclassifier-both-n_estimators__400-max_depth__none-min_samples_leaf__5-random_state__42-n_jobs__10-warm_start__true\n"
     ]
    },
    {
     "name": "stderr",
     "output_type": "stream",
     "text": [
      "100%|██████████| 6/6 [53:54<00:00, 539.02s/it]\n"
     ]
    },
    {
     "name": "stdout",
     "output_type": "stream",
     "text": [
      "Start evaluating model v2-randomforestclassifier-both-n_estimators__400-max_depth__none-min_samples_leaf__5-random_state__42-n_jobs__10-warm_start__true\n"
     ]
    },
    {
     "name": "stderr",
     "output_type": "stream",
     "text": [
      "100%|██████████| 2/2 [00:35<00:00, 17.58s/it]\n"
     ]
    },
    {
     "name": "stdout",
     "output_type": "stream",
     "text": [
      "0.9674511932512078\n",
      "0.9550855800187008\n",
      "0.9770996518824876\n",
      "0.9659262021309147\n"
     ]
    }
   ],
   "source": [
    "# define all the combinations of models and features\n",
    "models_and_hyperparams = {\n",
    "    RandomForestClassifier: {\n",
    "        'params': {\n",
    "            'n_estimators': [400, 600, 200],\n",
    "            'max_depth': [None],\n",
    "            'min_samples_leaf': [5, 1],\n",
    "            'random_state': [42],\n",
    "            'n_jobs': [10],\n",
    "            'warm_start': [True]\n",
    "        },\n",
    "        'modeltype': SkLearnModel,\n",
    "        'scaler': StandardScaler,\n",
    "        'training_type': ModelTrainingType.BATCH,\n",
    "        'batch_size': 1_500_000\n",
    "    }\n",
    "}\n",
    "\n",
    "# define scaler\n",
    "pretrained_scalers = dict() # used to store trained scalers for later use\n",
    "\n",
    "# loop over all combinations and append it to the configurations list\n",
    "# if there are no hyperparams, just instantiate the model without params\n",
    "for model_type, hyperparams in models_and_hyperparams.items():\n",
    "    if len(hyperparams['params']) > 0: # if there are hyperparams, build a dict and pass it to the model as parameters\n",
    "        fx_param_names, fx_param_values = zip(*hyperparams['params'].items())\n",
    "        for cartesian_product_values in product(*fx_param_values):\n",
    "            hyperparam_dict = dict(zip(fx_param_names, cartesian_product_values))\n",
    "\n",
    "            # create or reuse the scaler specified in the models_and_hyperparams dictionary\n",
    "            if hyperparams['scaler'] in pretrained_scalers:\n",
    "                print(f'Using pretrained scaler {hyperparams[\"scaler\"].__name__}')\n",
    "                scaler = pretrained_scalers[hyperparams['scaler']]\n",
    "            else:\n",
    "                scaler = hyperparams['scaler']()\n",
    "                print(f'Start fitting scaler {hyperparams[\"scaler\"].__name__}')\n",
    "                for batch in tqdm(batched_dataloader(batch_size=hyperparams['batch_size']) if hyperparams['training_type'] == ModelTrainingType.BATCH else dataloader_full_dataset()):\n",
    "                    X = batch.drop(columns_to_drop, axis=1)\n",
    "                    X.dropna(inplace=True)\n",
    "                    scaler.partial_fit(X)\n",
    "                    del X\n",
    "                    gc.collect()\n",
    "                # save the scaler for later use\n",
    "                pretrained_scalers[hyperparams['scaler']] = scaler\n",
    "\n",
    "            # create the model from the modeltype and the hyperparam_dict\n",
    "            m2 = hyperparams['modeltype'](model_type(**hyperparam_dict), \\\n",
    "                                        f'V2-{model_type.__name__}-BOTH-{\"-\".join([f\"{na}__{str(va)}\" for na, va in hyperparam_dict.items()])}'.lower(), \\\n",
    "                                        scaler, \\\n",
    "                                        hyperparam_dict)\n",
    "\n",
    "            # train model\n",
    "            rounds = 1\n",
    "            if hyperparams['training_type'] == ModelTrainingType.BATCH:\n",
    "                print(f'Model will be traind in batches of {hyperparams[\"batch_size\"]} samples.')\n",
    "                print(f'Dataset contains {train_dataset_length} samples. Batchsize is {hyperparams[\"batch_size\"]}. That means {(rounds := train_dataset_length / hyperparams[\"batch_size\"])} batches will be used to fit the model.')\n",
    "                if model_type == RandomForestClassifier:\n",
    "                    # print(f'At the end {hyperparam_dict[\"n_estimators\"]} estimators will be fitted. That means, {hyperparam_dict[\"n_estimators\"]//rounds} estimators per batch.')\n",
    "                    m2._model.n_estimators = 0 #set to 0. model will increase the number of estimators in each round\n",
    "                    # # tune hyperparameter 'n_estimators' based on the number of batches\n",
    "                    print(f'Build estimator distribution for {rounds} rounds.')\n",
    "                    est_anteil = [1 for _ in range(floor(rounds))]\n",
    "                    est_anteil.append(rounds % floor(rounds))\n",
    "                    est_anteil = softmax(est_anteil)\n",
    "                    est_anteil *= hyperparam_dict['n_estimators']\n",
    "                    est_anteil = est_anteil.round().astype(int)\n",
    "                    print(f'Estimator distribution per round: {est_anteil}')\n",
    "\n",
    "            print(f'Start training model {m2.identifier}')\n",
    "            for i, batch in enumerate(tqdm(batched_dataloader(batch_size=hyperparams['batch_size']) if hyperparams['training_type'] == ModelTrainingType.BATCH else dataloader_full_dataset(), total=floor(rounds)+1)):\n",
    "                batch.dropna(inplace=True)\n",
    "                y = batch['awake']\n",
    "                X = batch.drop(columns_to_drop, axis=1)\n",
    "                args = {}\n",
    "                if model_type == RandomForestClassifier and hyperparams['training_type'] == ModelTrainingType.BATCH:\n",
    "                    args['add_estimators'] = est_anteil[i]\n",
    "                m2.train(X, y, not_scaled=True, **args)\n",
    "                del X, y\n",
    "                gc.collect()\n",
    "\n",
    "            print(f'Start evaluating model {m2.identifier}')\n",
    "            score_value_average_precision_score_m2, score_value_recall_m2, score_value_precision_m2, f1_score_m2 = [], [], [], []\n",
    "            for validation in tqdm(batched_dataloader(batch_size=hyperparams['batch_size'], validation=True) if hyperparams['training_type'] == ModelTrainingType.BATCH else dataloader_full_dataset(validation=True), total = ceil(validation_dataset_length / hyperparams[\"batch_size\"])):\n",
    "                validation.dropna(inplace=True)\n",
    "                validation_y = validation['awake']\n",
    "                validation.drop(columns_to_drop, axis=1, inplace=True)\n",
    "                validation_y_hat = m2.predict(validation, not_scaled=True)\n",
    "                # this does the same as scoreFX(y, y_hat). It is wrapped in the models evaluate function.\n",
    "                # the model itself could also do the prediction if prepredicted is None\n",
    "                # then, the first argument of the evaluate function would be the X_validation data\n",
    "                score_value_average_precision_score_m2.append(m2.evaluate(None, validation_y, scoreFx=average_precision_score, not_scaled=True, prepredicted=validation_y_hat))\n",
    "                score_value_recall_m2.append(m2.evaluate(None, validation_y, scoreFx=recall_score, not_scaled=True, prepredicted=validation_y_hat))\n",
    "                score_value_precision_m2.append(m2.evaluate(None, validation_y, scoreFx=precision_score, not_scaled=True, prepredicted=validation_y_hat))\n",
    "                f1_score_m2.append(m2.evaluate(None, validation_y, scoreFx=f1_score, not_scaled=True, prepredicted=validation_y_hat))\n",
    "\n",
    "                del validation, validation_y\n",
    "\n",
    "            print(sum(score_value_average_precision_score_m2) / len(score_value_average_precision_score_m2))\n",
    "            print(sum(score_value_recall_m2) / len(score_value_recall_m2))\n",
    "            print(sum(score_value_precision_m2) / len(score_value_precision_m2))\n",
    "            print(sum(f1_score_m2) / len(f1_score_m2))\n",
    "            #  save model\n",
    "            m2.save()\n",
    "\n",
    "            break\n",
    "\n",
    "            #wandb.finish()\n",
    "    else:\n",
    "        print(\"params in the dictionary cannot be empty. Use the standard values in the dictionary for the model\", model_type.__name__)"
   ]
  }
 ],
 "metadata": {
  "kernelspec": {
   "display_name": "aich",
   "language": "python",
   "name": "python3"
  },
  "language_info": {
   "codemirror_mode": {
    "name": "ipython",
    "version": 3
   },
   "file_extension": ".py",
   "mimetype": "text/x-python",
   "name": "python",
   "nbconvert_exporter": "python",
   "pygments_lexer": "ipython3",
   "version": "3.11.6"
  },
  "orig_nbformat": 4
 },
 "nbformat": 4,
 "nbformat_minor": 2
}
