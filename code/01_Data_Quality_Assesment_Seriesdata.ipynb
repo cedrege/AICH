{
 "cells": [
  {
   "cell_type": "markdown",
   "metadata": {},
   "source": [
    "# 01 Data Quality Assesment Seriesdata"
   ]
  },
  {
   "cell_type": "markdown",
   "metadata": {},
   "source": [
    "Import of libraries"
   ]
  },
  {
   "cell_type": "code",
   "execution_count": null,
   "metadata": {},
   "outputs": [],
   "source": [
    "import numpy as np\n",
    "import pandas as pd\n",
    "import matplotlib.pyplot as plt\n",
    "import seaborn as sns\n",
    "from ydata_profiling import ProfileReport"
   ]
  },
  {
   "cell_type": "markdown",
   "metadata": {},
   "source": [
    "Define paths to data files"
   ]
  },
  {
   "cell_type": "code",
   "execution_count": null,
   "metadata": {},
   "outputs": [],
   "source": [
    "path_events_csv = '../data/train_events.csv'\n",
    "path_sensor_parquet = '../data/train_series.parquet'"
   ]
  },
  {
   "cell_type": "markdown",
   "metadata": {},
   "source": [
    "## Length of series"
   ]
  },
  {
   "cell_type": "code",
   "execution_count": null,
   "metadata": {},
   "outputs": [],
   "source": [
    "train_events = pd.read_csv(path_events_csv)\n",
    "train_events['timestamp'] = pd.to_datetime(train_events['timestamp'])"
   ]
  },
  {
   "cell_type": "code",
   "execution_count": null,
   "metadata": {},
   "outputs": [],
   "source": [
    "train_events.dropna(inplace=True)"
   ]
  },
  {
   "cell_type": "code",
   "execution_count": null,
   "metadata": {},
   "outputs": [],
   "source": [
    "min_max_timestamp_of_series = train_events.groupby('series_id').agg({'timestamp': ['min','max']})\n",
    "\n",
    "min_max_timestamp_of_series.columns = ['_'.join(col).strip() for col in min_max_timestamp_of_series.columns.values]\n",
    "min_max_timestamp_of_series['timestamp_diff'] = min_max_timestamp_of_series['timestamp_max'] - min_max_timestamp_of_series['timestamp_min']\n",
    "min_max_timestamp_of_series['timestamp_diff_days'] = [x.days for x in min_max_timestamp_of_series['timestamp_diff']]"
   ]
  },
  {
   "cell_type": "code",
   "execution_count": null,
   "metadata": {},
   "outputs": [],
   "source": [
    "mean_value = min_max_timestamp_of_series['timestamp_diff_days'].mean()\n",
    "print(f\"Mean: {mean_value}\")\n",
    "\n",
    "# Maximum\n",
    "max_value = min_max_timestamp_of_series['timestamp_diff_days'].max()\n",
    "print(f\"Max: {max_value}\")\n",
    "\n",
    "# Minimum\n",
    "min_value = min_max_timestamp_of_series['timestamp_diff_days'].min()\n",
    "print(f\"Min: {min_value}\")\n",
    "\n",
    "# Median\n",
    "median_value = min_max_timestamp_of_series['timestamp_diff_days'].median()\n",
    "print(f\"Median: {median_value}\")\n",
    "\n",
    "# Standard deviation\n",
    "std_deviation = min_max_timestamp_of_series['timestamp_diff_days'].std()\n",
    "print(f\"Standard Deviation: {std_deviation}\")\n",
    "\n",
    "# Variance\n",
    "variance_value = min_max_timestamp_of_series['timestamp_diff_days'].var()\n",
    "print(f\"Variance: {variance_value}\")\n",
    "\n",
    "# Sum\n",
    "sum_value = min_max_timestamp_of_series['timestamp_diff_days'].sum()\n",
    "print(f\"Sum: {sum_value}\")"
   ]
  },
  {
   "cell_type": "code",
   "execution_count": null,
   "metadata": {},
   "outputs": [],
   "source": [
    "plt.hist(min_max_timestamp_of_series['timestamp_diff_days'], bins=15, color='blue', edgecolor='none')\n",
    "\n",
    "plt.xlabel('Days')\n",
    "plt.ylabel('Amount of series')\n",
    "plt.title('Length of series')\n",
    "\n",
    "plt.show()"
   ]
  },
  {
   "cell_type": "markdown",
   "metadata": {},
   "source": [
    "## ENMO and Angle-Z"
   ]
  },
  {
   "cell_type": "code",
   "execution_count": null,
   "metadata": {},
   "outputs": [],
   "source": [
    "enmo_anglez = pd.read_parquet(path_sensor_parquet)[['enmo', 'anglez']]"
   ]
  },
  {
   "cell_type": "code",
   "execution_count": null,
   "metadata": {},
   "outputs": [],
   "source": [
    "ProfileReport(enmo_anglez)"
   ]
  },
  {
   "cell_type": "code",
   "execution_count": null,
   "metadata": {},
   "outputs": [],
   "source": [
    "fig, ax = plt.subplots(2, sharex=True, gridspec_kw={\"height_ratios\": (.3, .7)})\n",
    "\n",
    "ax[0].boxplot(enmo_anglez['enmo'], vert=False, widths=0.5, patch_artist=True, showfliers=True)\n",
    "ax[0].set_xlabel('')\n",
    "ax[0].set_ylabel('')\n",
    "ax[0].set_title('')\n",
    "\n",
    "ax[0].spines['top'].set_visible(False)\n",
    "ax[0].spines['right'].set_visible(False)\n",
    "ax[0].spines['bottom'].set_visible(False)\n",
    "ax[0].spines['left'].set_visible(False)\n",
    "\n",
    "ax[0].set_xticks([])\n",
    "ax[0].set_yticks([])\n",
    "\n",
    "ax[0].set_title('ENMO distribution')\n",
    "\n",
    "\n",
    "ax[1].hist(enmo_anglez['enmo'], bins=20, color='blue', edgecolor='none' , weights=np.ones(len(enmo_anglez['enmo'])) / len(enmo_anglez['enmo']))\n",
    "\n",
    "ax[1].set_xlabel('ENMO value')\n",
    "ax[1].set_yscale('log')\n",
    "ax[1].set_ylabel('Percentage of datapoints')\n",
    "ax[1].set_xticks(range(0,13))\n",
    "\n",
    "plt.show()"
   ]
  },
  {
   "cell_type": "code",
   "execution_count": null,
   "metadata": {},
   "outputs": [],
   "source": [
    "fig, ax = plt.subplots(2, sharex=True, gridspec_kw={\"height_ratios\": (.3, .7)})\n",
    "\n",
    "ax[0].boxplot(enmo_anglez['anglez'], vert=False, widths=0.5, patch_artist=True, showfliers=True)\n",
    "ax[0].set_xlabel('')\n",
    "ax[0].set_ylabel('')\n",
    "ax[0].set_title('')\n",
    "\n",
    "ax[0].spines['top'].set_visible(False)\n",
    "ax[0].spines['right'].set_visible(False)\n",
    "ax[0].spines['bottom'].set_visible(False)\n",
    "ax[0].spines['left'].set_visible(False)\n",
    "\n",
    "ax[0].set_xticks([])\n",
    "ax[0].set_yticks([])\n",
    "\n",
    "ax[0].set_title('Angle-Z distribution')\n",
    "\n",
    "\n",
    "ax[1].hist(enmo_anglez['anglez'], bins=20, color='blue', edgecolor='none' , weights=np.ones(len(enmo_anglez['anglez'])) / len(enmo_anglez['anglez']))\n",
    "\n",
    "ax[1].set_xlabel('Angle-Z value')\n",
    "ax[1].set_ylabel('Percentage of datapoints')\n",
    "ax[1].set_xticks(range(-90,90,25))\n",
    "\n",
    "\n",
    "\n",
    "plt.show()"
   ]
  },
  {
   "cell_type": "code",
   "execution_count": null,
   "metadata": {},
   "outputs": [],
   "source": [
    "series = '44d8c02b369e'\n",
    "\n",
    "train_series = pd.read_parquet(path_sensor_parquet, filters=[('series_id','=',series)])\n",
    "\n",
    "train_series['timestamp'] = pd.to_datetime(train_series['timestamp'])\n",
    "train_series['timestamp'] = train_series['timestamp'].apply(lambda x: x.replace(tzinfo=None))\n",
    "\n",
    "plot_data = train_series[(train_series['timestamp'] > '2018-11-13 15:30:00') & (train_series['timestamp'] < '2018-11-17 15:30:00')]"
   ]
  },
  {
   "cell_type": "code",
   "execution_count": null,
   "metadata": {},
   "outputs": [],
   "source": [
    "train_events = pd.read_csv(path_events_csv).query('series_id == @series')\n",
    "train_events.dropna(inplace=True)\n",
    "train_events['timestamp'] = pd.to_datetime(train_events['timestamp'])\n",
    "train_events['timestamp'] = train_events['timestamp'].apply(lambda x: x.replace(tzinfo=None))\n",
    "\n",
    "train_events = train_events[(train_events['timestamp'] > '2018-11-13 15:30:00') & (train_events['timestamp'] < '2018-11-17 15:30:00')]"
   ]
  },
  {
   "cell_type": "code",
   "execution_count": null,
   "metadata": {},
   "outputs": [],
   "source": [
    "plt.figure(figsize=(22, 4))\n",
    "plt.plot(plot_data['timestamp'], plot_data['enmo'], label='ENMO', linewidth=0.5, color='black')\n",
    "\n",
    "handles, labels = plt.gca().get_legend_handles_labels()\n",
    "new_labels, new_handles = [], []\n",
    "for handle, label in zip(handles, labels):\n",
    "    if label not in new_labels:\n",
    "        new_handles.append(handle)\n",
    "        new_labels.append(label)\n",
    "\n",
    "plt.ylim(0, 1)\n",
    "\n",
    "plt.legend(new_handles, new_labels, fontsize=20)\n",
    "plt.xlabel('Timestamp', fontsize=20, labelpad=15)\n",
    "plt.ylabel('ENMO value', fontsize=20, labelpad=20)\n",
    "plt.title(f'ENMO value over three days', fontsize=20)\n",
    "plt.xticks(fontsize=20)  \n",
    "plt.yticks(fontsize=20)"
   ]
  },
  {
   "cell_type": "code",
   "execution_count": null,
   "metadata": {},
   "outputs": [],
   "source": [
    "plt.figure(figsize=(22, 4))\n",
    "plt.plot(plot_data['timestamp'], plot_data['anglez'], label='Angle-Z', linewidth=0.5, color='black')\n",
    "\n",
    "handles, labels = plt.gca().get_legend_handles_labels()\n",
    "new_labels, new_handles = [], []\n",
    "for handle, label in zip(handles, labels):\n",
    "    if label not in new_labels:\n",
    "        new_handles.append(handle)\n",
    "        new_labels.append(label)\n",
    "\n",
    "plt.ylim(-90, 90)\n",
    "\n",
    "plt.legend(new_handles, new_labels, fontsize=20)\n",
    "plt.xlabel('Timestamp', fontsize=20, labelpad=15)\n",
    "plt.ylabel('Angle-Z value', fontsize=20, labelpad=20)\n",
    "plt.title(f'Angle-Z value over three days', fontsize=20)\n",
    "plt.xticks(fontsize=20)  \n",
    "plt.yticks(fontsize=20)"
   ]
  },
  {
   "cell_type": "code",
   "execution_count": null,
   "metadata": {},
   "outputs": [],
   "source": [
    "onsets = train_events[train_events['event'] == 'onset']\n",
    "wakeups = train_events[train_events['event'] == 'wakeup']\n",
    "\n",
    "plt.figure(figsize=(22, 4))\n",
    "\n",
    "for _, onset in onsets.iterrows():\n",
    "    plt.axvline(x=onset['timestamp'], color='darkgreen', linestyle='-', label='onset event', linewidth=3.5)\n",
    "\n",
    "for _, wakeup in wakeups.iterrows():\n",
    "    plt.axvline(x=wakeup['timestamp'], color='darkorange', linestyle='-', label='wakeup event', linewidth=3.5)\n",
    "\n",
    "plt.plot(plot_data['timestamp'], plot_data['anglez'], label='Angle-Z', linewidth=0.5, color='black')\n",
    "\n",
    "handles, labels = plt.gca().get_legend_handles_labels()\n",
    "new_labels, new_handles = [], []\n",
    "for handle, label in zip(handles, labels):\n",
    "    if label not in new_labels:\n",
    "        new_handles.append(handle)\n",
    "        new_labels.append(label)\n",
    "\n",
    "plt.ylim(-90, 90)\n",
    "\n",
    "plt.legend(new_handles, new_labels, fontsize=20)\n",
    "plt.xlabel('Timestamp', fontsize=20, labelpad=15)\n",
    "plt.ylabel('Angle-Z value', fontsize=20, labelpad=20)\n",
    "plt.title(f'Angle-Z value over three days with events', fontsize=20)\n",
    "plt.xticks(fontsize=20)  \n",
    "plt.yticks(fontsize=20)"
   ]
  },
  {
   "cell_type": "code",
   "execution_count": null,
   "metadata": {},
   "outputs": [],
   "source": [
    "onsets = train_events[train_events['event'] == 'onset']\n",
    "wakeups = train_events[train_events['event'] == 'wakeup']\n",
    "\n",
    "plt.figure(figsize=(22, 4))\n",
    "\n",
    "\n",
    "for _, onset in onsets.iterrows():\n",
    "    plt.axvline(x=onset['timestamp'], color='darkgreen', linestyle='-', label='onset event', linewidth=3.5)\n",
    "\n",
    "for _, wakeup in wakeups.iterrows():\n",
    "    plt.axvline(x=wakeup['timestamp'], color='darkorange', linestyle='-', label='wakeup event', linewidth=3.5)\n",
    "\n",
    "\n",
    "plt.plot(plot_data['timestamp'], plot_data['enmo'], label='ENMO', linewidth=0.5, color='black')\n",
    "\n",
    "handles, labels = plt.gca().get_legend_handles_labels()\n",
    "new_labels, new_handles = [], []\n",
    "for handle, label in zip(handles, labels):\n",
    "    if label not in new_labels:\n",
    "        new_handles.append(handle)\n",
    "        new_labels.append(label)\n",
    "\n",
    "plt.ylim(0, 1)\n",
    "\n",
    "plt.legend(new_handles, new_labels, fontsize=20)\n",
    "plt.xlabel('Timestamp', fontsize=20, labelpad=15)\n",
    "plt.ylabel('ENMO value', fontsize=20, labelpad=20)\n",
    "plt.title(f'ENMO value over three days with events', fontsize=20)\n",
    "plt.xticks(fontsize=20)  \n",
    "plt.yticks(fontsize=20)"
   ]
  },
  {
   "cell_type": "markdown",
   "metadata": {},
   "source": [
    "## Distribution of data over time"
   ]
  },
  {
   "cell_type": "code",
   "execution_count": null,
   "metadata": {},
   "outputs": [],
   "source": [
    "train_series = pd.read_parquet(path_sensor_parquet)[['series_id', 'timestamp']]\n",
    "\n",
    "train_series = train_series.groupby('series_id').apply(lambda x: x.iloc[0::17280]).reset_index(drop=True)\n",
    "\n",
    "train_series['timestamp'] = pd.to_datetime(train_series['timestamp'])\n",
    "train_series['timestamp'] = train_series['timestamp'].apply(lambda x: x.replace(tzinfo=None))"
   ]
  },
  {
   "cell_type": "code",
   "execution_count": null,
   "metadata": {},
   "outputs": [],
   "source": [
    "train_series['timestamp'].min()"
   ]
  },
  {
   "cell_type": "code",
   "execution_count": null,
   "metadata": {},
   "outputs": [],
   "source": [
    "train_series['timestamp'].max()"
   ]
  },
  {
   "cell_type": "code",
   "execution_count": null,
   "metadata": {},
   "outputs": [],
   "source": [
    "(train_series['timestamp'].max() - train_series['timestamp'].min()).days"
   ]
  },
  {
   "cell_type": "code",
   "execution_count": null,
   "metadata": {},
   "outputs": [],
   "source": [
    "# create dataframe with column for each date between max and min date. And fill foreach series allall values 0.\n",
    "column_names = pd.date_range(start=train_series['timestamp'].min(), end=train_series['timestamp'].max(), freq='D').strftime('%Y-%m-%d')\n",
    "df = pd.DataFrame(columns=column_names)\n",
    "for i in range(len(train_series['series_id'].unique())):\n",
    "    df.loc[i] = 0\n",
    "\n",
    "df = df.set_index(train_series['series_id'].unique())"
   ]
  },
  {
   "cell_type": "code",
   "execution_count": null,
   "metadata": {},
   "outputs": [],
   "source": [
    "# replace the 0 value with 1 if a datarecord exists\n",
    "for serie in train_series['series_id'].unique():\n",
    "    serie_data = train_series[train_series['series_id'] == serie]\n",
    "    serie_data['timestamp_date'] = serie_data['timestamp'].dt.strftime('%Y-%m-%d')\n",
    "\n",
    "    max_serie_date = serie_data['timestamp'].max()\n",
    "    min_serie_date = serie_data['timestamp'].min()\n",
    "\n",
    "    serie_interval = pd.date_range(start=min_serie_date, end=max_serie_date, freq='D').strftime('%Y-%m-%d')\n",
    "\n",
    "    for x in serie_interval: \n",
    "        if (serie_data['timestamp_date'] == x).any():\n",
    "            df.at[serie, x] = 1\n",
    "        else:\n",
    "            df.at[serie, x] = -1\n",
    "\n",
    "def set_value(x):\n",
    "    if x > 0.5:\n",
    "        return 1\n",
    "    else:\n",
    "        return 0\n",
    "\n",
    "df = df.applymap(lambda x: set_value(x))"
   ]
  },
  {
   "cell_type": "code",
   "execution_count": null,
   "metadata": {},
   "outputs": [],
   "source": [
    "custom_palette = sns.color_palette([\"#000000\", \"#FFFFFF\"])\n",
    "\n",
    "cg = sns.clustermap(df, col_cluster=False, figsize=(15, 8), cmap=custom_palette, cbar_kws={\"ticks\":[0.25,0.75], \"drawedges\": True}, yticklabels=10, xticklabels=50, cbar_pos=(0.05, 0.6, 0.05, 0.18))\n",
    "cg.ax_row_dendrogram.set_visible(False)\n",
    "cg.ax_cbar.set_yticklabels(['No data available', 'Data available'])\n",
    "\n",
    "cg.ax_cbar.spines['top'].set_visible(True)\n",
    "cg.ax_cbar.spines['right'].set_visible(True)\n",
    "cg.ax_cbar.spines['bottom'].set_visible(True)\n",
    "cg.ax_cbar.spines['left'].set_visible(True)\n"
   ]
  },
  {
   "cell_type": "markdown",
   "metadata": {},
   "source": [
    "## Correlation of data"
   ]
  },
  {
   "cell_type": "code",
   "execution_count": null,
   "metadata": {},
   "outputs": [],
   "source": [
    "train_series = pd.read_parquet(path_sensor_parquet)[['enmo', 'anglez']]\n",
    "\n",
    "correlation = train_series.corr()\n",
    "\n",
    "plt.figure(figsize=(10, 8))\n",
    "sns.heatmap(correlation, annot=True, cmap='coolwarm', fmt='.2f', linewidths=.5)\n",
    "plt.title('Correlation Matrix Heatmap')\n",
    "plt.show()"
   ]
  },
  {
   "cell_type": "markdown",
   "metadata": {},
   "source": [
    "## Repetitive patterns"
   ]
  },
  {
   "cell_type": "code",
   "execution_count": null,
   "metadata": {},
   "outputs": [],
   "source": [
    "train_events = pd.read_csv(path_events_csv).query('series_id == @series')\n",
    "train_events.dropna(inplace=True)\n",
    "\n",
    "train_events['timestamp'] = pd.to_datetime(train_events['timestamp'])\n",
    "train_events['timestamp'] = train_events['timestamp'].apply(lambda x: x.replace(tzinfo=None))\n",
    "\n",
    "train_events = train_events[(train_events['timestamp'] > '2018-10-10 15:30:00') & (train_events['timestamp'] < '2018-10-22 15:30:00')]\n",
    "\n",
    "onsets = train_events[train_events['event'] == 'onset']\n",
    "wakeups = train_events[train_events['event'] == 'wakeup']\n",
    "\n",
    "plot_data = pd.read_parquet(path_sensor_parquet, filters=[('series_id','=',series)])\n",
    "\n",
    "plot_data = plot_data[(plot_data['step'] > 159000) & (plot_data['step'] < 260000)]\n",
    "\n",
    "plot_data['timestamp'] = pd.to_datetime(plot_data['timestamp'])\n",
    "plot_data['timestamp'] = plot_data['timestamp'].apply(lambda x: x.replace(tzinfo=None))"
   ]
  },
  {
   "cell_type": "code",
   "execution_count": null,
   "metadata": {},
   "outputs": [],
   "source": [
    "plt.figure(figsize=(22, 4))\n",
    "\n",
    "for _, onset in onsets.iterrows():\n",
    "    plt.axvline(x=onset['timestamp'], color='darkgreen', linestyle='-', label='onset event', linewidth=3.5)\n",
    "\n",
    "for _, wakeup in wakeups.iterrows():\n",
    "    plt.axvline(x=wakeup['timestamp'], color='darkorange', linestyle='-', label='wakeup event', linewidth=3.5)\n",
    "\n",
    "plt.plot(plot_data['timestamp'], plot_data['anglez'], label='Angle-Z', linewidth=0.5, color='black')\n",
    "\n",
    "handles, labels = plt.gca().get_legend_handles_labels()\n",
    "new_labels, new_handles = [], []\n",
    "for handle, label in zip(handles, labels):\n",
    "    if label not in new_labels:\n",
    "        new_handles.append(handle)\n",
    "        new_labels.append(label)\n",
    "\n",
    "plt.ylim(-90, 90)\n",
    "\n",
    "plt.legend(new_handles, new_labels, fontsize=20)\n",
    "plt.xlabel('Timestamp', fontsize=20, labelpad=15)\n",
    "plt.ylabel('Angle-Z value', fontsize=20, labelpad=20)\n",
    "plt.title(f'Angle-Z value in regular nights and repetetive pattern', fontsize=20)\n",
    "plt.xticks(fontsize=20)  \n",
    "plt.yticks(fontsize=20)"
   ]
  },
  {
   "cell_type": "code",
   "execution_count": null,
   "metadata": {},
   "outputs": [],
   "source": [
    "plt.figure(figsize=(22, 4))\n",
    "\n",
    "for _, onset in onsets.iterrows():\n",
    "    plt.axvline(x=onset['timestamp'], color='darkgreen', linestyle='-', label='onset event', linewidth=3.5)\n",
    "\n",
    "for _, wakeup in wakeups.iterrows():\n",
    "    plt.axvline(x=wakeup['timestamp'], color='darkorange', linestyle='-', label='wakeup event', linewidth=3.5)\n",
    "\n",
    "\n",
    "plt.plot(plot_data['timestamp'], plot_data['enmo'], label='ENMO', linewidth=0.5, color='black')\n",
    "\n",
    "handles, labels = plt.gca().get_legend_handles_labels()\n",
    "new_labels, new_handles = [], []\n",
    "for handle, label in zip(handles, labels):\n",
    "    if label not in new_labels:\n",
    "        new_handles.append(handle)\n",
    "        new_labels.append(label)\n",
    "\n",
    "plt.ylim(0, 1)\n",
    "\n",
    "plt.legend(new_handles, new_labels, fontsize=20)\n",
    "plt.xlabel('Timestamp', fontsize=20, labelpad=15)\n",
    "plt.ylabel('ENMO value', fontsize=20, labelpad=20)\n",
    "plt.title(f'ENMO value in regular nights and repetetive pattern', fontsize=20)\n",
    "plt.xticks(fontsize=20)  \n",
    "plt.yticks(fontsize=20)"
   ]
  },
  {
   "cell_type": "markdown",
   "metadata": {},
   "source": [
    "## Difference in repetitive nights"
   ]
  },
  {
   "cell_type": "code",
   "execution_count": null,
   "metadata": {},
   "outputs": [],
   "source": [
    "plot_data['enmo_diff_previous'] = abs(plot_data['enmo'] - plot_data['enmo'].shift(-60 * 24))\n",
    "plot_data['enmo_diff_next'] = abs(plot_data['enmo'] - plot_data['enmo'].shift(60 * 24))\n",
    "\n",
    "plt.figure(figsize=(22, 4))\n",
    "\n",
    "\n",
    "for _, onset in onsets.iterrows():\n",
    "    plt.axvline(x=onset['timestamp'], color='darkgreen', linestyle='-', label='onset event', linewidth=3.5)\n",
    "\n",
    "for _, wakeup in wakeups.iterrows():\n",
    "    plt.axvline(x=wakeup['timestamp'], color='darkorange', linestyle='-', label='wakeup event', linewidth=3.5)\n",
    "\n",
    "\n",
    "plt.plot(plot_data['timestamp'], plot_data['enmo'], label='ENMO', linewidth=0.5, color='black')\n",
    "\n",
    "plt.plot(plot_data['timestamp'], plot_data['enmo_diff_previous'], label='ENMO difference to previous 24 hours', linewidth=0.5, color='red')\n",
    "# plt.plot(plot_data['timestamp'], plot_data['enmo_diff_next'], label='enmo_diff_next', linewidth=0.5, color='black')\n",
    "\n",
    "\n",
    "handles, labels = plt.gca().get_legend_handles_labels()\n",
    "new_labels, new_handles = [], []\n",
    "for handle, label in zip(handles, labels):\n",
    "    if label not in new_labels:\n",
    "        new_handles.append(handle)\n",
    "        new_labels.append(label)\n",
    "\n",
    "plt.ylim(-0.01, 1)\n",
    "\n",
    "plt.legend(new_handles, new_labels, fontsize=20)\n",
    "plt.xlabel('Timestamp', fontsize=20, labelpad=15)\n",
    "plt.ylabel('ENMO value', fontsize=20, labelpad=20)\n",
    "plt.title(f'Change in ENMO value compared with 24 hours before in regular nights and repetetive pattern', fontsize=20)\n",
    "plt.xticks(fontsize=20)  \n",
    "plt.yticks(fontsize=20)"
   ]
  },
  {
   "cell_type": "code",
   "execution_count": null,
   "metadata": {},
   "outputs": [],
   "source": [
    "\n",
    "plot_data['enmo_diff_previous'] = abs(plot_data['anglez'] - plot_data['anglez'].shift(-60 * 24))\n",
    "plot_data['enmo_diff_next'] = abs(plot_data['anglez'] - plot_data['anglez'].shift(60 * 24))\n",
    "\n",
    "plt.figure(figsize=(22, 4))\n",
    "\n",
    "for _, onset in onsets.iterrows():\n",
    "    plt.axvline(x=onset['timestamp'], color='darkgreen', linestyle='-', label='onset event', linewidth=3.5)\n",
    "\n",
    "for _, wakeup in wakeups.iterrows():\n",
    "    plt.axvline(x=wakeup['timestamp'], color='darkorange', linestyle='-', label='wakeup event', linewidth=3.5)\n",
    "\n",
    "\n",
    "plt.plot(plot_data['timestamp'], plot_data['anglez'], label='Angle-Z', linewidth=0.5, color='black')\n",
    "\n",
    "plt.plot(plot_data['timestamp'], plot_data['enmo_diff_previous'], label='Angle-Z difference to previous 24 hours', linewidth=0.5, color='red')\n",
    "# plt.plot(plot_data['timestamp'], plot_data['enmo_diff_next'], label='enmo_diff_next', linewidth=0.5, color='black')\n",
    "\n",
    "handles, labels = plt.gca().get_legend_handles_labels()\n",
    "new_labels, new_handles = [], []\n",
    "for handle, label in zip(handles, labels):\n",
    "    if label not in new_labels:\n",
    "        new_handles.append(handle)\n",
    "        new_labels.append(label)\n",
    "\n",
    "plt.ylim(-90, 90)\n",
    "\n",
    "plt.legend(new_handles, new_labels, fontsize=20, loc='upper right')\n",
    "plt.xlabel('Timestamp', fontsize=20, labelpad=15)\n",
    "plt.ylabel('Angle-Z value', fontsize=20, labelpad=20)\n",
    "plt.title(f'Change in Angle-Z value compared with 24 hours before in regular nights and repetetive pattern', fontsize=20)\n",
    "plt.xticks(fontsize=20)  \n",
    "plt.yticks(fontsize=20)"
   ]
  }
 ],
 "metadata": {
  "kernelspec": {
   "display_name": "Python 3",
   "language": "python",
   "name": "python3"
  },
  "language_info": {
   "codemirror_mode": {
    "name": "ipython",
    "version": 3
   },
   "file_extension": ".py",
   "mimetype": "text/x-python",
   "name": "python",
   "nbconvert_exporter": "python",
   "pygments_lexer": "ipython3",
   "version": "3.10.11"
  }
 },
 "nbformat": 4,
 "nbformat_minor": 2
}
