{
 "cells": [
  {
   "cell_type": "code",
   "execution_count": null,
   "metadata": {},
   "outputs": [],
   "source": [
    "import plotly.express as px\n",
    "import pandas as pd"
   ]
  },
  {
   "cell_type": "code",
   "execution_count": null,
   "metadata": {},
   "outputs": [],
   "source": [
    "df = pd.read_csv('models/params.csv')"
   ]
  },
  {
   "cell_type": "code",
   "execution_count": null,
   "metadata": {},
   "outputs": [],
   "source": [
    "# type\testimators\tdepth\tleaf\trandom_state\twarm_start\tn_jobs\n",
    "df = df.astype({'type': 'category', 'estimators': 'int64', 'depth': 'category', 'leaf': 'int64', 'random_state': 'int64', 'warm_start': 'category', 'n_jobs': 'int64', 'average_precision': 'float64', 'recall': 'float64', 'precision': 'float64', 'F1': 'float64'})"
   ]
  },
  {
   "cell_type": "code",
   "execution_count": null,
   "metadata": {},
   "outputs": [],
   "source": [
    "df = df.round({'average_precision': 4, 'recall': 4, 'precision': 4, 'F1': 4})\n",
    "df.sort_values('F1', ascending=False).head()"
   ]
  },
  {
   "cell_type": "code",
   "execution_count": null,
   "metadata": {},
   "outputs": [],
   "source": [
    "color_map = px.colors.diverging.Picnic\n",
    "color_map = px.colors.sequential.Agsunset\n",
    "do_save = True\n",
    "\n",
    "for m_type in ['wrist', 'sleep', 'both']:\n",
    "    fig = px.parallel_categories(df[df.type == m_type].sort_values('F1', ascending=False),\n",
    "                                 dimensions=['type', 'estimators', 'depth', 'leaf', 'random_state', 'F1'],\n",
    "                                 color=\"F1\",\n",
    "                                 color_continuous_scale=color_map,\n",
    "                                 height=300,\n",
    "                                 width=1000,\n",
    "                                 \n",
    "    )\n",
    "    fig.update_layout(\n",
    "        title=f\"Model hyperparameter for {m_type}\",\n",
    "        font=dict(\n",
    "            size=14,\n",
    "            color=\"#000000\"\n",
    "        ),\n",
    "        margin=dict(\n",
    "            l=20,\n",
    "            r=50,\n",
    "            b=20,\n",
    "            t=50,\n",
    "            pad=4\n",
    "        )\n",
    "    )\n",
    "\n",
    "    if do_save:\n",
    "        fig.write_image(f\"plots/parallel_categories_{m_type}_params.svg\") #), width=1500, height=600)\n",
    "    else:\n",
    "        fig.show()\n",
    "\n",
    "\n",
    "\n",
    "#fig.write_image(\"fig1.svg\", width=1500, height=600)"
   ]
  },
  {
   "cell_type": "code",
   "execution_count": null,
   "metadata": {},
   "outputs": [],
   "source": [
    "df.sort_values('F1', ascending=False).head(50)\n"
   ]
  },
  {
   "cell_type": "markdown",
   "metadata": {},
   "source": [
    "powershell:\n",
    "```powershell\n",
    "\n",
    "$csv = @()\n",
    "$files = @(\"r1_m.txt\",\"r1_m2.txt\",\"r1_mboth.txt\")\n",
    "\n",
    "gc $files | Select-String \"^Start evaluating model randomforestclassifier-(?<type>\\w+)-n_estimators__(?<est>\\d+)-max_depth__(?<depth>\\w+)-min_samples_leaf__(?<lead>\\d+)-random_state__42-.*$\" -Context 0,5 |%{[pscustomobject] @{type=$_.Matches.Groups[1].Value; estimators=$_.Matches.Groups[2].Value; depth=$_.Matches.Groups[3].Value; leaf=$_.Matches.Groups[4].Value; random_state=42; warm_start=$true; n_jobs=10; average_precision = $_.Context.PostContext[1]; recall = $_.Context.PostContext[2]; precision = $_.Context.PostContext[3]; F1 = $_.Context.PostContext[4]}} | ConvertTo-Csv -NoTypeInformation | Out-File params.csv\n",
    "```"
   ]
  },
  {
   "cell_type": "markdown",
   "metadata": {},
   "source": []
  },
  {
   "cell_type": "code",
   "execution_count": null,
   "metadata": {},
   "outputs": [],
   "source": [
    "import plotly.express as px\n",
    "\n",
    "x = [\"200\",\"200\",\"300\",\"300\"]\n",
    "y = [0.6558 , 0.6594 , 0.6569 , 0.6639]\n",
    "z = [\"whole\" , \"batched\" , \"whole\" , \"batched\"]\n",
    "\n",
    "df = pd.DataFrame(dict(type=x, value=y, z=z), columns=['type', 'value', 'z'])   \n",
    "df\n"
   ]
  },
  {
   "cell_type": "code",
   "execution_count": null,
   "metadata": {},
   "outputs": [],
   "source": [
    "fig = px.histogram(df, x=\"type\", y=\"value\", color=\"z\",\n",
    "              barmode='group', height=400, width=600, text_auto=True, title=\"F1 score for batched vs non-batched \")\n",
    "\n",
    "fig.update_layout(\n",
    "    xaxis_tickfont_size=14,\n",
    "    yaxis_tickfont_size=14,\n",
    "    yaxis=dict(\n",
    "        title='F1 score',\n",
    "    ),\n",
    "    xaxis=dict(\n",
    "        title='Number of estimators',\n",
    "    ),\n",
    "    )\n",
    "\n",
    "fig.show()\n",
    "fig.write_image(\"plots/batched_vs_non_batched.svg\")"
   ]
  },
  {
   "cell_type": "code",
   "execution_count": null,
   "metadata": {},
   "outputs": [],
   "source": []
  }
 ],
 "metadata": {
  "kernelspec": {
   "display_name": "AICH",
   "language": "python",
   "name": "python3"
  },
  "language_info": {
   "codemirror_mode": {
    "name": "ipython",
    "version": 3
   },
   "file_extension": ".py",
   "mimetype": "text/x-python",
   "name": "python",
   "nbconvert_exporter": "python",
   "pygments_lexer": "ipython3",
   "version": "3.11.4"
  }
 },
 "nbformat": 4,
 "nbformat_minor": 2
}
