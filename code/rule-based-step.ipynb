{
 "cells": [
  {
   "cell_type": "code",
   "execution_count": 1,
   "metadata": {},
   "outputs": [],
   "source": [
    "import pandas as pd\n",
    "import pyarrow as parquet"
   ]
  },
  {
   "cell_type": "markdown",
   "metadata": {},
   "source": [
    "## Get some data to experiment"
   ]
  },
  {
   "cell_type": "markdown",
   "metadata": {},
   "source": [
    "I take two series from the validation set, and change the data to some degree."
   ]
  },
  {
   "cell_type": "code",
   "execution_count": 2,
   "metadata": {},
   "outputs": [
    {
     "ename": "TypeError",
     "evalue": "read_parquet() missing 1 required positional argument: 'path'",
     "output_type": "error",
     "traceback": [
      "\u001b[0;31m---------------------------------------------------------------------------\u001b[0m",
      "\u001b[0;31mTypeError\u001b[0m                                 Traceback (most recent call last)",
      "\u001b[1;32m/Users/ra/Documents/HSLU/2023_HS_AICH/AICH/code/rule-based-step.ipynb Cell 4\u001b[0m line \u001b[0;36m1\n\u001b[0;32m----> <a href='vscode-notebook-cell:/Users/ra/Documents/HSLU/2023_HS_AICH/AICH/code/rule-based-step.ipynb#W1sZmlsZQ%3D%3D?line=0'>1</a>\u001b[0m sample \u001b[39m=\u001b[39m pd\u001b[39m.\u001b[39;49mread_parquet(df \u001b[39m=\u001b[39;49m pd\u001b[39m.\u001b[39;49mread_parquet(\u001b[39m\"\u001b[39;49m\u001b[39m/Users/ra/Library/CloudStorage/OneDrive-HochschuleLuzern/AICH/data/Prepared/V2/train_20231021\u001b[39;49m\u001b[39m\"\u001b[39;49m))\n",
      "\u001b[0;31mTypeError\u001b[0m: read_parquet() missing 1 required positional argument: 'path'"
     ]
    }
   ],
   "source": [
    "sample = pd.read_parquet(df = pd.read_parquet(\"/Users/ra/Library/CloudStorage/OneDrive-HochschuleLuzern/AICH/data/Prepared/V2/train_20231021\"))"
   ]
  },
  {
   "cell_type": "markdown",
   "metadata": {},
   "source": [
    "## Step 1 binning the data on 1 min"
   ]
  },
  {
   "cell_type": "code",
   "execution_count": null,
   "metadata": {},
   "outputs": [],
   "source": [
    "# bin the serie dataframe\n",
    "subset_serie = subset_serie.resample(bin_size, on='timestamp').agg({\n",
    "    'anglez': 'mean',\n",
    "    'enmo': 'mean',\n",
    "    'series_id': 'first',\n",
    "    'step': 'first'\n",
    "    }).reset_index()"
   ]
  },
  {
   "cell_type": "markdown",
   "metadata": {},
   "source": []
  }
 ],
 "metadata": {
  "kernelspec": {
   "display_name": "aich",
   "language": "python",
   "name": "aich"
  },
  "language_info": {
   "codemirror_mode": {
    "name": "ipython",
    "version": 3
   },
   "file_extension": ".py",
   "mimetype": "text/x-python",
   "name": "python",
   "nbconvert_exporter": "python",
   "pygments_lexer": "ipython3",
   "version": "3.11.5"
  }
 },
 "nbformat": 4,
 "nbformat_minor": 2
}
