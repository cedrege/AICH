{
 "cells": [
  {
   "cell_type": "code",
   "execution_count": 189,
   "metadata": {},
   "outputs": [],
   "source": [
    "import pandas as pd\n",
    "import pyarrow.parquet as pq\n",
    "import datetime\n"
   ]
  },
  {
   "cell_type": "markdown",
   "metadata": {},
   "source": [
    "## Get some data to experiment"
   ]
  },
  {
   "cell_type": "markdown",
   "metadata": {},
   "source": [
    "I extract one series from the train set, i need later to change the code to go series by series, otherwise mistakes will occure."
   ]
  },
  {
   "cell_type": "code",
   "execution_count": 190,
   "metadata": {},
   "outputs": [],
   "source": [
    "file_path = '/Users/ra/Library/CloudStorage/OneDrive-HochschuleLuzern/AICH/data/Prepared/V2/train_20231021'\n",
    "\n",
    "table = pq.read_table(file_path)\n",
    "\n",
    "# Convert the table to a Pandas DataFrame\n",
    "df = table.to_pandas()"
   ]
  },
  {
   "cell_type": "code",
   "execution_count": 191,
   "metadata": {},
   "outputs": [
    {
     "data": {
      "text/html": [
       "<div>\n",
       "<style scoped>\n",
       "    .dataframe tbody tr th:only-of-type {\n",
       "        vertical-align: middle;\n",
       "    }\n",
       "\n",
       "    .dataframe tbody tr th {\n",
       "        vertical-align: top;\n",
       "    }\n",
       "\n",
       "    .dataframe thead th {\n",
       "        text-align: right;\n",
       "    }\n",
       "</style>\n",
       "<table border=\"1\" class=\"dataframe\">\n",
       "  <thead>\n",
       "    <tr style=\"text-align: right;\">\n",
       "      <th></th>\n",
       "      <th>step</th>\n",
       "      <th>anglez</th>\n",
       "      <th>enmo</th>\n",
       "      <th>hour</th>\n",
       "      <th>minute</th>\n",
       "      <th>seconds</th>\n",
       "      <th>day</th>\n",
       "      <th>month</th>\n",
       "      <th>year</th>\n",
       "      <th>seconds_from_midnight</th>\n",
       "      <th>awake</th>\n",
       "      <th>wearable_on</th>\n",
       "      <th>series_id</th>\n",
       "      <th>onset</th>\n",
       "      <th>wakeup</th>\n",
       "    </tr>\n",
       "  </thead>\n",
       "  <tbody>\n",
       "    <tr>\n",
       "      <th>25764840</th>\n",
       "      <td>0</td>\n",
       "      <td>-89.497597</td>\n",
       "      <td>0.0182</td>\n",
       "      <td>11</td>\n",
       "      <td>0</td>\n",
       "      <td>0</td>\n",
       "      <td>6</td>\n",
       "      <td>8</td>\n",
       "      <td>2018</td>\n",
       "      <td>39600</td>\n",
       "      <td>1.0</td>\n",
       "      <td>0.0</td>\n",
       "      <td>2fc653ca75c7</td>\n",
       "      <td>0</td>\n",
       "      <td>0</td>\n",
       "    </tr>\n",
       "    <tr>\n",
       "      <th>25764841</th>\n",
       "      <td>1</td>\n",
       "      <td>-89.497398</td>\n",
       "      <td>0.0182</td>\n",
       "      <td>11</td>\n",
       "      <td>0</td>\n",
       "      <td>5</td>\n",
       "      <td>6</td>\n",
       "      <td>8</td>\n",
       "      <td>2018</td>\n",
       "      <td>39605</td>\n",
       "      <td>1.0</td>\n",
       "      <td>0.0</td>\n",
       "      <td>2fc653ca75c7</td>\n",
       "      <td>0</td>\n",
       "      <td>0</td>\n",
       "    </tr>\n",
       "    <tr>\n",
       "      <th>25764842</th>\n",
       "      <td>2</td>\n",
       "      <td>-89.495598</td>\n",
       "      <td>0.0180</td>\n",
       "      <td>11</td>\n",
       "      <td>0</td>\n",
       "      <td>10</td>\n",
       "      <td>6</td>\n",
       "      <td>8</td>\n",
       "      <td>2018</td>\n",
       "      <td>39610</td>\n",
       "      <td>1.0</td>\n",
       "      <td>0.0</td>\n",
       "      <td>2fc653ca75c7</td>\n",
       "      <td>0</td>\n",
       "      <td>0</td>\n",
       "    </tr>\n",
       "  </tbody>\n",
       "</table>\n",
       "</div>"
      ],
      "text/plain": [
       "          step     anglez    enmo  hour  minute  seconds  day  month  year  \\\n",
       "25764840     0 -89.497597  0.0182    11       0        0    6      8  2018   \n",
       "25764841     1 -89.497398  0.0182    11       0        5    6      8  2018   \n",
       "25764842     2 -89.495598  0.0180    11       0       10    6      8  2018   \n",
       "\n",
       "          seconds_from_midnight  awake  wearable_on     series_id  onset  \\\n",
       "25764840                  39600    1.0          0.0  2fc653ca75c7      0   \n",
       "25764841                  39605    1.0          0.0  2fc653ca75c7      0   \n",
       "25764842                  39610    1.0          0.0  2fc653ca75c7      0   \n",
       "\n",
       "          wakeup  \n",
       "25764840       0  \n",
       "25764841       0  \n",
       "25764842       0  "
      ]
     },
     "execution_count": 191,
     "metadata": {},
     "output_type": "execute_result"
    }
   ],
   "source": [
    "df.head(3)"
   ]
  },
  {
   "cell_type": "code",
   "execution_count": 192,
   "metadata": {},
   "outputs": [],
   "source": [
    "series_list =df.series_id.unique().tolist()"
   ]
  },
  {
   "cell_type": "code",
   "execution_count": 193,
   "metadata": {},
   "outputs": [
    {
     "data": {
      "text/plain": [
       "['2fc653ca75c7', '31011ade7c0a']"
      ]
     },
     "execution_count": 193,
     "metadata": {},
     "output_type": "execute_result"
    }
   ],
   "source": [
    "series_list[:2]"
   ]
  },
  {
   "cell_type": "markdown",
   "metadata": {},
   "source": [
    "only taking to series for experimenting"
   ]
  },
  {
   "cell_type": "code",
   "execution_count": 194,
   "metadata": {},
   "outputs": [
    {
     "data": {
      "text/html": [
       "<div>\n",
       "<style scoped>\n",
       "    .dataframe tbody tr th:only-of-type {\n",
       "        vertical-align: middle;\n",
       "    }\n",
       "\n",
       "    .dataframe tbody tr th {\n",
       "        vertical-align: top;\n",
       "    }\n",
       "\n",
       "    .dataframe thead th {\n",
       "        text-align: right;\n",
       "    }\n",
       "</style>\n",
       "<table border=\"1\" class=\"dataframe\">\n",
       "  <thead>\n",
       "    <tr style=\"text-align: right;\">\n",
       "      <th></th>\n",
       "      <th>step</th>\n",
       "      <th>anglez</th>\n",
       "      <th>enmo</th>\n",
       "      <th>hour</th>\n",
       "      <th>minute</th>\n",
       "      <th>seconds</th>\n",
       "      <th>day</th>\n",
       "      <th>month</th>\n",
       "      <th>year</th>\n",
       "      <th>seconds_from_midnight</th>\n",
       "      <th>awake</th>\n",
       "      <th>wearable_on</th>\n",
       "      <th>series_id</th>\n",
       "      <th>onset</th>\n",
       "      <th>wakeup</th>\n",
       "    </tr>\n",
       "  </thead>\n",
       "  <tbody>\n",
       "    <tr>\n",
       "      <th>26181720</th>\n",
       "      <td>0</td>\n",
       "      <td>-82.680603</td>\n",
       "      <td>0.0</td>\n",
       "      <td>16</td>\n",
       "      <td>45</td>\n",
       "      <td>0</td>\n",
       "      <td>15</td>\n",
       "      <td>8</td>\n",
       "      <td>2017</td>\n",
       "      <td>60300</td>\n",
       "      <td>1.0</td>\n",
       "      <td>0.0</td>\n",
       "      <td>31011ade7c0a</td>\n",
       "      <td>0</td>\n",
       "      <td>0</td>\n",
       "    </tr>\n",
       "    <tr>\n",
       "      <th>26181721</th>\n",
       "      <td>1</td>\n",
       "      <td>-82.680603</td>\n",
       "      <td>0.0</td>\n",
       "      <td>16</td>\n",
       "      <td>45</td>\n",
       "      <td>5</td>\n",
       "      <td>15</td>\n",
       "      <td>8</td>\n",
       "      <td>2017</td>\n",
       "      <td>60305</td>\n",
       "      <td>1.0</td>\n",
       "      <td>0.0</td>\n",
       "      <td>31011ade7c0a</td>\n",
       "      <td>0</td>\n",
       "      <td>0</td>\n",
       "    </tr>\n",
       "    <tr>\n",
       "      <th>26181722</th>\n",
       "      <td>2</td>\n",
       "      <td>-82.680603</td>\n",
       "      <td>0.0</td>\n",
       "      <td>16</td>\n",
       "      <td>45</td>\n",
       "      <td>10</td>\n",
       "      <td>15</td>\n",
       "      <td>8</td>\n",
       "      <td>2017</td>\n",
       "      <td>60310</td>\n",
       "      <td>1.0</td>\n",
       "      <td>0.0</td>\n",
       "      <td>31011ade7c0a</td>\n",
       "      <td>0</td>\n",
       "      <td>0</td>\n",
       "    </tr>\n",
       "  </tbody>\n",
       "</table>\n",
       "</div>"
      ],
      "text/plain": [
       "          step     anglez  enmo  hour  minute  seconds  day  month  year  \\\n",
       "26181720     0 -82.680603   0.0    16      45        0   15      8  2017   \n",
       "26181721     1 -82.680603   0.0    16      45        5   15      8  2017   \n",
       "26181722     2 -82.680603   0.0    16      45       10   15      8  2017   \n",
       "\n",
       "          seconds_from_midnight  awake  wearable_on     series_id  onset  \\\n",
       "26181720                  60300    1.0          0.0  31011ade7c0a      0   \n",
       "26181721                  60305    1.0          0.0  31011ade7c0a      0   \n",
       "26181722                  60310    1.0          0.0  31011ade7c0a      0   \n",
       "\n",
       "          wakeup  \n",
       "26181720       0  \n",
       "26181721       0  \n",
       "26181722       0  "
      ]
     },
     "execution_count": 194,
     "metadata": {},
     "output_type": "execute_result"
    }
   ],
   "source": [
    "sample = df[df.series_id.isin(series_list[1:2])]\n",
    "\n",
    "sample.head(3)"
   ]
  },
  {
   "cell_type": "code",
   "execution_count": 195,
   "metadata": {},
   "outputs": [
    {
     "data": {
      "text/plain": [
       "array(['31011ade7c0a'], dtype=object)"
      ]
     },
     "execution_count": 195,
     "metadata": {},
     "output_type": "execute_result"
    }
   ],
   "source": [
    "sample.series_id.unique()"
   ]
  },
  {
   "cell_type": "code",
   "execution_count": 196,
   "metadata": {},
   "outputs": [
    {
     "data": {
      "text/plain": [
       "array([1., 0.])"
      ]
     },
     "execution_count": 196,
     "metadata": {},
     "output_type": "execute_result"
    }
   ],
   "source": [
    "sample.awake.unique()"
   ]
  },
  {
   "cell_type": "code",
   "execution_count": 197,
   "metadata": {},
   "outputs": [
    {
     "data": {
      "text/plain": [
       "array([0., 1.])"
      ]
     },
     "execution_count": 197,
     "metadata": {},
     "output_type": "execute_result"
    }
   ],
   "source": [
    "sample.wearable_on.unique()"
   ]
  },
  {
   "cell_type": "markdown",
   "metadata": {},
   "source": [
    "I have to recreat the timestamp, maybe we fix this an keep the timestamp for the future or so?"
   ]
  },
  {
   "cell_type": "code",
   "execution_count": 198,
   "metadata": {},
   "outputs": [
    {
     "name": "stderr",
     "output_type": "stream",
     "text": [
      "/var/folders/40/3xwnc19j5wddty6wnqjyxg1h0000gn/T/ipykernel_3536/1806208151.py:10: SettingWithCopyWarning: \n",
      "A value is trying to be set on a copy of a slice from a DataFrame.\n",
      "Try using .loc[row_indexer,col_indexer] = value instead\n",
      "\n",
      "See the caveats in the documentation: https://pandas.pydata.org/pandas-docs/stable/user_guide/indexing.html#returning-a-view-versus-a-copy\n",
      "  sample['timestamp'] = sample['year'] + '-' + sample['month'] + '-' + sample['day'] + ' ' + sample['hour'] + ':' + sample['minute'] + ':' + sample['seconds']\n",
      "/var/folders/40/3xwnc19j5wddty6wnqjyxg1h0000gn/T/ipykernel_3536/1806208151.py:13: SettingWithCopyWarning: \n",
      "A value is trying to be set on a copy of a slice from a DataFrame.\n",
      "Try using .loc[row_indexer,col_indexer] = value instead\n",
      "\n",
      "See the caveats in the documentation: https://pandas.pydata.org/pandas-docs/stable/user_guide/indexing.html#returning-a-view-versus-a-copy\n",
      "  sample['timestamp'] = pd.to_datetime(sample['timestamp'])\n"
     ]
    }
   ],
   "source": [
    "# Convert numeric columns to strings\n",
    "sample.loc[:, 'hour'] = sample['hour'].astype(str).str.zfill(2)\n",
    "sample.loc[:, 'minute'] = sample['minute'].astype(str).str.zfill(2)\n",
    "sample.loc[:, 'seconds'] = sample['seconds'].astype(str).str.zfill(2)\n",
    "sample.loc[:, 'day'] = sample['day'].astype(str).str.zfill(2)\n",
    "sample.loc[:, 'month'] = sample['month'].astype(str).str.zfill(2)\n",
    "sample.loc[:, 'year'] = sample['year'].astype(str)\n",
    "\n",
    "# Combine the columns into a new column 'timestamp'\n",
    "sample['timestamp'] = sample['year'] + '-' + sample['month'] + '-' + sample['day'] + ' ' + sample['hour'] + ':' + sample['minute'] + ':' + sample['seconds']\n",
    "\n",
    "# Convert 'timestamp' to datetime format\n",
    "sample['timestamp'] = pd.to_datetime(sample['timestamp'])\n"
   ]
  },
  {
   "cell_type": "code",
   "execution_count": 199,
   "metadata": {},
   "outputs": [
    {
     "data": {
      "text/html": [
       "<div>\n",
       "<style scoped>\n",
       "    .dataframe tbody tr th:only-of-type {\n",
       "        vertical-align: middle;\n",
       "    }\n",
       "\n",
       "    .dataframe tbody tr th {\n",
       "        vertical-align: top;\n",
       "    }\n",
       "\n",
       "    .dataframe thead th {\n",
       "        text-align: right;\n",
       "    }\n",
       "</style>\n",
       "<table border=\"1\" class=\"dataframe\">\n",
       "  <thead>\n",
       "    <tr style=\"text-align: right;\">\n",
       "      <th></th>\n",
       "      <th>step</th>\n",
       "      <th>anglez</th>\n",
       "      <th>enmo</th>\n",
       "      <th>hour</th>\n",
       "      <th>minute</th>\n",
       "      <th>seconds</th>\n",
       "      <th>day</th>\n",
       "      <th>month</th>\n",
       "      <th>year</th>\n",
       "      <th>seconds_from_midnight</th>\n",
       "      <th>awake</th>\n",
       "      <th>wearable_on</th>\n",
       "      <th>series_id</th>\n",
       "      <th>onset</th>\n",
       "      <th>wakeup</th>\n",
       "      <th>timestamp</th>\n",
       "    </tr>\n",
       "  </thead>\n",
       "  <tbody>\n",
       "    <tr>\n",
       "      <th>26181720</th>\n",
       "      <td>0</td>\n",
       "      <td>-82.680603</td>\n",
       "      <td>0.0</td>\n",
       "      <td>16</td>\n",
       "      <td>45</td>\n",
       "      <td>00</td>\n",
       "      <td>15</td>\n",
       "      <td>08</td>\n",
       "      <td>2017</td>\n",
       "      <td>60300</td>\n",
       "      <td>1.0</td>\n",
       "      <td>0.0</td>\n",
       "      <td>31011ade7c0a</td>\n",
       "      <td>0</td>\n",
       "      <td>0</td>\n",
       "      <td>2017-08-15 16:45:00</td>\n",
       "    </tr>\n",
       "    <tr>\n",
       "      <th>26181721</th>\n",
       "      <td>1</td>\n",
       "      <td>-82.680603</td>\n",
       "      <td>0.0</td>\n",
       "      <td>16</td>\n",
       "      <td>45</td>\n",
       "      <td>05</td>\n",
       "      <td>15</td>\n",
       "      <td>08</td>\n",
       "      <td>2017</td>\n",
       "      <td>60305</td>\n",
       "      <td>1.0</td>\n",
       "      <td>0.0</td>\n",
       "      <td>31011ade7c0a</td>\n",
       "      <td>0</td>\n",
       "      <td>0</td>\n",
       "      <td>2017-08-15 16:45:05</td>\n",
       "    </tr>\n",
       "    <tr>\n",
       "      <th>26181722</th>\n",
       "      <td>2</td>\n",
       "      <td>-82.680603</td>\n",
       "      <td>0.0</td>\n",
       "      <td>16</td>\n",
       "      <td>45</td>\n",
       "      <td>10</td>\n",
       "      <td>15</td>\n",
       "      <td>08</td>\n",
       "      <td>2017</td>\n",
       "      <td>60310</td>\n",
       "      <td>1.0</td>\n",
       "      <td>0.0</td>\n",
       "      <td>31011ade7c0a</td>\n",
       "      <td>0</td>\n",
       "      <td>0</td>\n",
       "      <td>2017-08-15 16:45:10</td>\n",
       "    </tr>\n",
       "  </tbody>\n",
       "</table>\n",
       "</div>"
      ],
      "text/plain": [
       "          step     anglez  enmo hour minute seconds day month  year  \\\n",
       "26181720     0 -82.680603   0.0   16     45      00  15    08  2017   \n",
       "26181721     1 -82.680603   0.0   16     45      05  15    08  2017   \n",
       "26181722     2 -82.680603   0.0   16     45      10  15    08  2017   \n",
       "\n",
       "          seconds_from_midnight  awake  wearable_on     series_id  onset  \\\n",
       "26181720                  60300    1.0          0.0  31011ade7c0a      0   \n",
       "26181721                  60305    1.0          0.0  31011ade7c0a      0   \n",
       "26181722                  60310    1.0          0.0  31011ade7c0a      0   \n",
       "\n",
       "          wakeup           timestamp  \n",
       "26181720       0 2017-08-15 16:45:00  \n",
       "26181721       0 2017-08-15 16:45:05  \n",
       "26181722       0 2017-08-15 16:45:10  "
      ]
     },
     "execution_count": 199,
     "metadata": {},
     "output_type": "execute_result"
    }
   ],
   "source": [
    "sample.head(3)"
   ]
  },
  {
   "cell_type": "markdown",
   "metadata": {},
   "source": [
    "i only keep necessary columns for the moment"
   ]
  },
  {
   "cell_type": "code",
   "execution_count": 200,
   "metadata": {},
   "outputs": [
    {
     "data": {
      "text/html": [
       "<div>\n",
       "<style scoped>\n",
       "    .dataframe tbody tr th:only-of-type {\n",
       "        vertical-align: middle;\n",
       "    }\n",
       "\n",
       "    .dataframe tbody tr th {\n",
       "        vertical-align: top;\n",
       "    }\n",
       "\n",
       "    .dataframe thead th {\n",
       "        text-align: right;\n",
       "    }\n",
       "</style>\n",
       "<table border=\"1\" class=\"dataframe\">\n",
       "  <thead>\n",
       "    <tr style=\"text-align: right;\">\n",
       "      <th></th>\n",
       "      <th>step</th>\n",
       "      <th>awake</th>\n",
       "      <th>wearable_on</th>\n",
       "      <th>series_id</th>\n",
       "      <th>timestamp</th>\n",
       "    </tr>\n",
       "  </thead>\n",
       "  <tbody>\n",
       "    <tr>\n",
       "      <th>0</th>\n",
       "      <td>0</td>\n",
       "      <td>1.0</td>\n",
       "      <td>0.0</td>\n",
       "      <td>31011ade7c0a</td>\n",
       "      <td>2017-08-15 16:45:00</td>\n",
       "    </tr>\n",
       "    <tr>\n",
       "      <th>1</th>\n",
       "      <td>1</td>\n",
       "      <td>1.0</td>\n",
       "      <td>0.0</td>\n",
       "      <td>31011ade7c0a</td>\n",
       "      <td>2017-08-15 16:45:05</td>\n",
       "    </tr>\n",
       "    <tr>\n",
       "      <th>2</th>\n",
       "      <td>2</td>\n",
       "      <td>1.0</td>\n",
       "      <td>0.0</td>\n",
       "      <td>31011ade7c0a</td>\n",
       "      <td>2017-08-15 16:45:10</td>\n",
       "    </tr>\n",
       "  </tbody>\n",
       "</table>\n",
       "</div>"
      ],
      "text/plain": [
       "   step  awake  wearable_on     series_id           timestamp\n",
       "0     0    1.0          0.0  31011ade7c0a 2017-08-15 16:45:00\n",
       "1     1    1.0          0.0  31011ade7c0a 2017-08-15 16:45:05\n",
       "2     2    1.0          0.0  31011ade7c0a 2017-08-15 16:45:10"
      ]
     },
     "execution_count": 200,
     "metadata": {},
     "output_type": "execute_result"
    }
   ],
   "source": [
    "sample = sample.reset_index()\n",
    "sample= sample[['step', 'awake', 'wearable_on', 'series_id', 'timestamp']]\n",
    "sample.head(3)"
   ]
  },
  {
   "cell_type": "code",
   "execution_count": 205,
   "metadata": {},
   "outputs": [
    {
     "data": {
      "text/plain": [
       "array([1., 0.])"
      ]
     },
     "execution_count": 205,
     "metadata": {},
     "output_type": "execute_result"
    }
   ],
   "source": [
    "sample.awake.unique()"
   ]
  },
  {
   "cell_type": "code",
   "execution_count": 204,
   "metadata": {},
   "outputs": [
    {
     "data": {
      "text/plain": [
       "array([0., 1.])"
      ]
     },
     "execution_count": 204,
     "metadata": {},
     "output_type": "execute_result"
    }
   ],
   "source": [
    "sample.wearable_on.unique()"
   ]
  },
  {
   "cell_type": "markdown",
   "metadata": {},
   "source": [
    "## What happens with removed device timesteps...?"
   ]
  },
  {
   "cell_type": "markdown",
   "metadata": {},
   "source": [
    "TO DO: restore the lost information of device removed\n",
    "For the moment i work if i already had done this"
   ]
  },
  {
   "cell_type": "markdown",
   "metadata": {},
   "source": [
    "## Encode wearable not on"
   ]
  },
  {
   "cell_type": "markdown",
   "metadata": {},
   "source": [
    "For device not worn i give number 3 to awake, maybe i need smarter solution later on."
   ]
  },
  {
   "cell_type": "code",
   "execution_count": 207,
   "metadata": {},
   "outputs": [],
   "source": [
    "sample.loc[sample['wearable_on'] == 0.0, 'awake'] = 3"
   ]
  },
  {
   "cell_type": "code",
   "execution_count": 208,
   "metadata": {},
   "outputs": [
    {
     "data": {
      "text/plain": [
       "array([3., 1., 0.])"
      ]
     },
     "execution_count": 208,
     "metadata": {},
     "output_type": "execute_result"
    }
   ],
   "source": [
    "sample.awake.unique()"
   ]
  },
  {
   "cell_type": "code",
   "execution_count": 209,
   "metadata": {},
   "outputs": [
    {
     "data": {
      "text/html": [
       "<div>\n",
       "<style scoped>\n",
       "    .dataframe tbody tr th:only-of-type {\n",
       "        vertical-align: middle;\n",
       "    }\n",
       "\n",
       "    .dataframe tbody tr th {\n",
       "        vertical-align: top;\n",
       "    }\n",
       "\n",
       "    .dataframe thead th {\n",
       "        text-align: right;\n",
       "    }\n",
       "</style>\n",
       "<table border=\"1\" class=\"dataframe\">\n",
       "  <thead>\n",
       "    <tr style=\"text-align: right;\">\n",
       "      <th></th>\n",
       "      <th>step</th>\n",
       "      <th>awake</th>\n",
       "      <th>wearable_on</th>\n",
       "      <th>series_id</th>\n",
       "      <th>timestamp</th>\n",
       "    </tr>\n",
       "  </thead>\n",
       "  <tbody>\n",
       "    <tr>\n",
       "      <th>0</th>\n",
       "      <td>0</td>\n",
       "      <td>3.0</td>\n",
       "      <td>0.0</td>\n",
       "      <td>31011ade7c0a</td>\n",
       "      <td>2017-08-15 16:45:00</td>\n",
       "    </tr>\n",
       "    <tr>\n",
       "      <th>1</th>\n",
       "      <td>1</td>\n",
       "      <td>3.0</td>\n",
       "      <td>0.0</td>\n",
       "      <td>31011ade7c0a</td>\n",
       "      <td>2017-08-15 16:45:05</td>\n",
       "    </tr>\n",
       "    <tr>\n",
       "      <th>2</th>\n",
       "      <td>2</td>\n",
       "      <td>3.0</td>\n",
       "      <td>0.0</td>\n",
       "      <td>31011ade7c0a</td>\n",
       "      <td>2017-08-15 16:45:10</td>\n",
       "    </tr>\n",
       "    <tr>\n",
       "      <th>3</th>\n",
       "      <td>3</td>\n",
       "      <td>3.0</td>\n",
       "      <td>0.0</td>\n",
       "      <td>31011ade7c0a</td>\n",
       "      <td>2017-08-15 16:45:15</td>\n",
       "    </tr>\n",
       "    <tr>\n",
       "      <th>4</th>\n",
       "      <td>4</td>\n",
       "      <td>3.0</td>\n",
       "      <td>0.0</td>\n",
       "      <td>31011ade7c0a</td>\n",
       "      <td>2017-08-15 16:45:20</td>\n",
       "    </tr>\n",
       "  </tbody>\n",
       "</table>\n",
       "</div>"
      ],
      "text/plain": [
       "   step  awake  wearable_on     series_id           timestamp\n",
       "0     0    3.0          0.0  31011ade7c0a 2017-08-15 16:45:00\n",
       "1     1    3.0          0.0  31011ade7c0a 2017-08-15 16:45:05\n",
       "2     2    3.0          0.0  31011ade7c0a 2017-08-15 16:45:10\n",
       "3     3    3.0          0.0  31011ade7c0a 2017-08-15 16:45:15\n",
       "4     4    3.0          0.0  31011ade7c0a 2017-08-15 16:45:20"
      ]
     },
     "execution_count": 209,
     "metadata": {},
     "output_type": "execute_result"
    }
   ],
   "source": [
    "sample.head()"
   ]
  },
  {
   "cell_type": "markdown",
   "metadata": {},
   "source": []
  },
  {
   "cell_type": "markdown",
   "metadata": {},
   "source": [
    "## Step 1 binning the data on 1 min"
   ]
  },
  {
   "cell_type": "code",
   "execution_count": 218,
   "metadata": {},
   "outputs": [],
   "source": [
    "# gets the most often occured value\n",
    "custom_agg_function = lambda x: x.value_counts().idxmax()\n",
    "\n",
    "# bin the serie dataframe\n",
    "bin_size = '1Min'\n",
    "new = sample.resample(bin_size, on='timestamp').agg({\n",
    "    'series_id': 'first',\n",
    "    'step': 'first',\n",
    "    'awake': custom_agg_function,\n",
    "    'wearable_on': custom_agg_function\n",
    "}).reset_index()"
   ]
  },
  {
   "cell_type": "code",
   "execution_count": 219,
   "metadata": {},
   "outputs": [
    {
     "data": {
      "text/html": [
       "<div>\n",
       "<style scoped>\n",
       "    .dataframe tbody tr th:only-of-type {\n",
       "        vertical-align: middle;\n",
       "    }\n",
       "\n",
       "    .dataframe tbody tr th {\n",
       "        vertical-align: top;\n",
       "    }\n",
       "\n",
       "    .dataframe thead th {\n",
       "        text-align: right;\n",
       "    }\n",
       "</style>\n",
       "<table border=\"1\" class=\"dataframe\">\n",
       "  <thead>\n",
       "    <tr style=\"text-align: right;\">\n",
       "      <th></th>\n",
       "      <th>timestamp</th>\n",
       "      <th>series_id</th>\n",
       "      <th>step</th>\n",
       "      <th>awake</th>\n",
       "      <th>wearable_on</th>\n",
       "    </tr>\n",
       "  </thead>\n",
       "  <tbody>\n",
       "  </tbody>\n",
       "</table>\n",
       "</div>"
      ],
      "text/plain": [
       "Empty DataFrame\n",
       "Columns: [timestamp, series_id, step, awake, wearable_on]\n",
       "Index: []"
      ]
     },
     "execution_count": 219,
     "metadata": {},
     "output_type": "execute_result"
    }
   ],
   "source": [
    "# sanity check\n",
    "new[new.step.isna()]"
   ]
  },
  {
   "cell_type": "code",
   "execution_count": 220,
   "metadata": {},
   "outputs": [
    {
     "data": {
      "text/html": [
       "<div>\n",
       "<style scoped>\n",
       "    .dataframe tbody tr th:only-of-type {\n",
       "        vertical-align: middle;\n",
       "    }\n",
       "\n",
       "    .dataframe tbody tr th {\n",
       "        vertical-align: top;\n",
       "    }\n",
       "\n",
       "    .dataframe thead th {\n",
       "        text-align: right;\n",
       "    }\n",
       "</style>\n",
       "<table border=\"1\" class=\"dataframe\">\n",
       "  <thead>\n",
       "    <tr style=\"text-align: right;\">\n",
       "      <th></th>\n",
       "      <th>timestamp</th>\n",
       "      <th>series_id</th>\n",
       "      <th>step</th>\n",
       "      <th>awake</th>\n",
       "      <th>wearable_on</th>\n",
       "    </tr>\n",
       "  </thead>\n",
       "  <tbody>\n",
       "    <tr>\n",
       "      <th>0</th>\n",
       "      <td>2017-08-15 16:45:00</td>\n",
       "      <td>31011ade7c0a</td>\n",
       "      <td>0</td>\n",
       "      <td>3.0</td>\n",
       "      <td>0.0</td>\n",
       "    </tr>\n",
       "    <tr>\n",
       "      <th>1</th>\n",
       "      <td>2017-08-15 16:46:00</td>\n",
       "      <td>31011ade7c0a</td>\n",
       "      <td>12</td>\n",
       "      <td>3.0</td>\n",
       "      <td>0.0</td>\n",
       "    </tr>\n",
       "    <tr>\n",
       "      <th>2</th>\n",
       "      <td>2017-08-15 16:47:00</td>\n",
       "      <td>31011ade7c0a</td>\n",
       "      <td>24</td>\n",
       "      <td>3.0</td>\n",
       "      <td>0.0</td>\n",
       "    </tr>\n",
       "    <tr>\n",
       "      <th>3</th>\n",
       "      <td>2017-08-15 16:48:00</td>\n",
       "      <td>31011ade7c0a</td>\n",
       "      <td>36</td>\n",
       "      <td>3.0</td>\n",
       "      <td>0.0</td>\n",
       "    </tr>\n",
       "    <tr>\n",
       "      <th>4</th>\n",
       "      <td>2017-08-15 16:49:00</td>\n",
       "      <td>31011ade7c0a</td>\n",
       "      <td>48</td>\n",
       "      <td>3.0</td>\n",
       "      <td>0.0</td>\n",
       "    </tr>\n",
       "  </tbody>\n",
       "</table>\n",
       "</div>"
      ],
      "text/plain": [
       "            timestamp     series_id  step  awake  wearable_on\n",
       "0 2017-08-15 16:45:00  31011ade7c0a     0    3.0          0.0\n",
       "1 2017-08-15 16:46:00  31011ade7c0a    12    3.0          0.0\n",
       "2 2017-08-15 16:47:00  31011ade7c0a    24    3.0          0.0\n",
       "3 2017-08-15 16:48:00  31011ade7c0a    36    3.0          0.0\n",
       "4 2017-08-15 16:49:00  31011ade7c0a    48    3.0          0.0"
      ]
     },
     "execution_count": 220,
     "metadata": {},
     "output_type": "execute_result"
    }
   ],
   "source": [
    "new.head()"
   ]
  },
  {
   "cell_type": "markdown",
   "metadata": {},
   "source": [
    "## find the changes"
   ]
  },
  {
   "cell_type": "code",
   "execution_count": 224,
   "metadata": {},
   "outputs": [
    {
     "name": "stdout",
     "output_type": "stream",
     "text": [
      "Index([    0,   296,   836,  1653,  2276,  3251,  3802,  4612,  5186,  6116,\n",
      "        6611,  7428,  8111,  8913,  9513, 10342, 10965, 11885, 12457, 13327,\n",
      "       13845, 14658, 15341],\n",
      "      dtype='int64')\n"
     ]
    }
   ],
   "source": [
    "# Find the occurrences of changes in the 'awake' column\n",
    "change_indices = new[new['awake'].diff().ne(0)].index\n",
    "\n",
    "# Print the indices where the 'awake' column value changes\n",
    "print(change_indices)"
   ]
  },
  {
   "cell_type": "code",
   "execution_count": 225,
   "metadata": {},
   "outputs": [
    {
     "data": {
      "text/html": [
       "<div>\n",
       "<style scoped>\n",
       "    .dataframe tbody tr th:only-of-type {\n",
       "        vertical-align: middle;\n",
       "    }\n",
       "\n",
       "    .dataframe tbody tr th {\n",
       "        vertical-align: top;\n",
       "    }\n",
       "\n",
       "    .dataframe thead th {\n",
       "        text-align: right;\n",
       "    }\n",
       "</style>\n",
       "<table border=\"1\" class=\"dataframe\">\n",
       "  <thead>\n",
       "    <tr style=\"text-align: right;\">\n",
       "      <th></th>\n",
       "      <th>timestamp</th>\n",
       "      <th>series_id</th>\n",
       "      <th>step</th>\n",
       "      <th>awake</th>\n",
       "      <th>wearable_on</th>\n",
       "      <th>awake_changes</th>\n",
       "    </tr>\n",
       "  </thead>\n",
       "  <tbody>\n",
       "    <tr>\n",
       "      <th>0</th>\n",
       "      <td>2017-08-15 16:45:00</td>\n",
       "      <td>31011ade7c0a</td>\n",
       "      <td>0</td>\n",
       "      <td>3.0</td>\n",
       "      <td>0.0</td>\n",
       "      <td>1</td>\n",
       "    </tr>\n",
       "    <tr>\n",
       "      <th>1</th>\n",
       "      <td>2017-08-15 16:46:00</td>\n",
       "      <td>31011ade7c0a</td>\n",
       "      <td>12</td>\n",
       "      <td>3.0</td>\n",
       "      <td>0.0</td>\n",
       "      <td>0</td>\n",
       "    </tr>\n",
       "    <tr>\n",
       "      <th>2</th>\n",
       "      <td>2017-08-15 16:47:00</td>\n",
       "      <td>31011ade7c0a</td>\n",
       "      <td>24</td>\n",
       "      <td>3.0</td>\n",
       "      <td>0.0</td>\n",
       "      <td>0</td>\n",
       "    </tr>\n",
       "  </tbody>\n",
       "</table>\n",
       "</div>"
      ],
      "text/plain": [
       "            timestamp     series_id  step  awake  wearable_on  awake_changes\n",
       "0 2017-08-15 16:45:00  31011ade7c0a     0    3.0          0.0              1\n",
       "1 2017-08-15 16:46:00  31011ade7c0a    12    3.0          0.0              0\n",
       "2 2017-08-15 16:47:00  31011ade7c0a    24    3.0          0.0              0"
      ]
     },
     "execution_count": 225,
     "metadata": {},
     "output_type": "execute_result"
    }
   ],
   "source": [
    "new['awake_changes'] = new['awake'].diff().ne(0).astype(int)\n",
    "new.head(3)"
   ]
  },
  {
   "cell_type": "markdown",
   "metadata": {},
   "source": [
    "Just print the changes once to see"
   ]
  },
  {
   "cell_type": "code",
   "execution_count": 226,
   "metadata": {},
   "outputs": [
    {
     "name": "stdout",
     "output_type": "stream",
     "text": [
      "Row 0:\n",
      "  - Value of 'awake' for current row: 3.0\n",
      "  - No previous row\n",
      "--------------------------\n",
      "Row 296:\n",
      "  - Value of 'awake' for current row: 0.0\n",
      "  - Value of 'awake' for previous row: 3.0\n",
      "--------------------------\n",
      "Row 836:\n",
      "  - Value of 'awake' for current row: 1.0\n",
      "  - Value of 'awake' for previous row: 0.0\n",
      "--------------------------\n",
      "Row 1653:\n",
      "  - Value of 'awake' for current row: 0.0\n",
      "  - Value of 'awake' for previous row: 1.0\n",
      "--------------------------\n",
      "Row 2276:\n",
      "  - Value of 'awake' for current row: 1.0\n",
      "  - Value of 'awake' for previous row: 0.0\n",
      "--------------------------\n",
      "Row 3251:\n",
      "  - Value of 'awake' for current row: 0.0\n",
      "  - Value of 'awake' for previous row: 1.0\n",
      "--------------------------\n",
      "Row 3802:\n",
      "  - Value of 'awake' for current row: 1.0\n",
      "  - Value of 'awake' for previous row: 0.0\n",
      "--------------------------\n",
      "Row 4612:\n",
      "  - Value of 'awake' for current row: 0.0\n",
      "  - Value of 'awake' for previous row: 1.0\n",
      "--------------------------\n",
      "Row 5186:\n",
      "  - Value of 'awake' for current row: 1.0\n",
      "  - Value of 'awake' for previous row: 0.0\n",
      "--------------------------\n",
      "Row 6116:\n",
      "  - Value of 'awake' for current row: 0.0\n",
      "  - Value of 'awake' for previous row: 1.0\n",
      "--------------------------\n",
      "Row 6611:\n",
      "  - Value of 'awake' for current row: 1.0\n",
      "  - Value of 'awake' for previous row: 0.0\n",
      "--------------------------\n",
      "Row 7428:\n",
      "  - Value of 'awake' for current row: 0.0\n",
      "  - Value of 'awake' for previous row: 1.0\n",
      "--------------------------\n",
      "Row 8111:\n",
      "  - Value of 'awake' for current row: 1.0\n",
      "  - Value of 'awake' for previous row: 0.0\n",
      "--------------------------\n",
      "Row 8913:\n",
      "  - Value of 'awake' for current row: 0.0\n",
      "  - Value of 'awake' for previous row: 1.0\n",
      "--------------------------\n",
      "Row 9513:\n",
      "  - Value of 'awake' for current row: 1.0\n",
      "  - Value of 'awake' for previous row: 0.0\n",
      "--------------------------\n",
      "Row 10342:\n",
      "  - Value of 'awake' for current row: 0.0\n",
      "  - Value of 'awake' for previous row: 1.0\n",
      "--------------------------\n",
      "Row 10965:\n",
      "  - Value of 'awake' for current row: 1.0\n",
      "  - Value of 'awake' for previous row: 0.0\n",
      "--------------------------\n",
      "Row 11885:\n",
      "  - Value of 'awake' for current row: 0.0\n",
      "  - Value of 'awake' for previous row: 1.0\n",
      "--------------------------\n",
      "Row 12457:\n",
      "  - Value of 'awake' for current row: 1.0\n",
      "  - Value of 'awake' for previous row: 0.0\n",
      "--------------------------\n",
      "Row 13327:\n",
      "  - Value of 'awake' for current row: 0.0\n",
      "  - Value of 'awake' for previous row: 1.0\n",
      "--------------------------\n",
      "Row 13845:\n",
      "  - Value of 'awake' for current row: 1.0\n",
      "  - Value of 'awake' for previous row: 0.0\n",
      "--------------------------\n",
      "Row 14658:\n",
      "  - Value of 'awake' for current row: 0.0\n",
      "  - Value of 'awake' for previous row: 1.0\n",
      "--------------------------\n",
      "Row 15341:\n",
      "  - Value of 'awake' for current row: 1.0\n",
      "  - Value of 'awake' for previous row: 0.0\n",
      "--------------------------\n"
     ]
    }
   ],
   "source": [
    "def print_changes(df):\n",
    "    for index, row in df.iterrows():\n",
    "        if row['awake_changes'] == 1:\n",
    "            print(f\"Row {index}:\")\n",
    "            print(f\"  - Value of 'awake' for current row: {row['awake']}\")\n",
    "            if index > 0:\n",
    "                previous_row = df.loc[index - 1]\n",
    "                print(f\"  - Value of 'awake' for previous row: {previous_row['awake']}\")\n",
    "            else:\n",
    "                print(\"  - No previous row\")\n",
    "            print(\"--------------------------\")\n",
    "\n",
    "# Call the function\n",
    "print_changes(new)\n"
   ]
  },
  {
   "cell_type": "markdown",
   "metadata": {},
   "source": [
    "## add onset and wakeup"
   ]
  },
  {
   "cell_type": "markdown",
   "metadata": {},
   "source": [
    "From the information of change and awake/asleep/not worn, i define possible canditates for onset and wakeup"
   ]
  },
  {
   "cell_type": "code",
   "execution_count": 241,
   "metadata": {},
   "outputs": [],
   "source": [
    "def add_onset_add_wakeup(df):\n",
    "    # Initialize a new column 'wakeup' with zeros\n",
    "    df['wakeup'] = 0\n",
    "    df['onset'] = 0\n",
    "\n",
    "    for index, row in df.iterrows():\n",
    "        if row['awake_changes'] == 1:\n",
    "            if index > 0:\n",
    "                previous_row = df.loc[index - 1]\n",
    "                # Check condition for setting 'onset' column\n",
    "                if row['awake'] == 0.0 and previous_row['awake'] == 1.0:\n",
    "                    df.at[index, 'onset'] = 1\n",
    "                \n",
    "                # Check condition for setting 'wakeup' column\n",
    "                if row['awake'] == 1.0 and previous_row['awake'] == 0.0:\n",
    "                    df.at[index, 'wakeup'] = 1\n",
    "\n",
    "# Call the function\n",
    "add_onset_add_wakeup(new)\n"
   ]
  },
  {
   "cell_type": "code",
   "execution_count": 242,
   "metadata": {},
   "outputs": [
    {
     "data": {
      "text/html": [
       "<div>\n",
       "<style scoped>\n",
       "    .dataframe tbody tr th:only-of-type {\n",
       "        vertical-align: middle;\n",
       "    }\n",
       "\n",
       "    .dataframe tbody tr th {\n",
       "        vertical-align: top;\n",
       "    }\n",
       "\n",
       "    .dataframe thead th {\n",
       "        text-align: right;\n",
       "    }\n",
       "</style>\n",
       "<table border=\"1\" class=\"dataframe\">\n",
       "  <thead>\n",
       "    <tr style=\"text-align: right;\">\n",
       "      <th></th>\n",
       "      <th>timestamp</th>\n",
       "      <th>series_id</th>\n",
       "      <th>step</th>\n",
       "      <th>awake</th>\n",
       "      <th>wearable_on</th>\n",
       "      <th>awake_changes</th>\n",
       "      <th>wakeup</th>\n",
       "      <th>onset</th>\n",
       "    </tr>\n",
       "  </thead>\n",
       "  <tbody>\n",
       "    <tr>\n",
       "      <th>0</th>\n",
       "      <td>2017-08-15 16:45:00</td>\n",
       "      <td>31011ade7c0a</td>\n",
       "      <td>0</td>\n",
       "      <td>3.0</td>\n",
       "      <td>0.0</td>\n",
       "      <td>1</td>\n",
       "      <td>0</td>\n",
       "      <td>0</td>\n",
       "    </tr>\n",
       "    <tr>\n",
       "      <th>1</th>\n",
       "      <td>2017-08-15 16:46:00</td>\n",
       "      <td>31011ade7c0a</td>\n",
       "      <td>12</td>\n",
       "      <td>3.0</td>\n",
       "      <td>0.0</td>\n",
       "      <td>0</td>\n",
       "      <td>0</td>\n",
       "      <td>0</td>\n",
       "    </tr>\n",
       "    <tr>\n",
       "      <th>2</th>\n",
       "      <td>2017-08-15 16:47:00</td>\n",
       "      <td>31011ade7c0a</td>\n",
       "      <td>24</td>\n",
       "      <td>3.0</td>\n",
       "      <td>0.0</td>\n",
       "      <td>0</td>\n",
       "      <td>0</td>\n",
       "      <td>0</td>\n",
       "    </tr>\n",
       "    <tr>\n",
       "      <th>3</th>\n",
       "      <td>2017-08-15 16:48:00</td>\n",
       "      <td>31011ade7c0a</td>\n",
       "      <td>36</td>\n",
       "      <td>3.0</td>\n",
       "      <td>0.0</td>\n",
       "      <td>0</td>\n",
       "      <td>0</td>\n",
       "      <td>0</td>\n",
       "    </tr>\n",
       "    <tr>\n",
       "      <th>4</th>\n",
       "      <td>2017-08-15 16:49:00</td>\n",
       "      <td>31011ade7c0a</td>\n",
       "      <td>48</td>\n",
       "      <td>3.0</td>\n",
       "      <td>0.0</td>\n",
       "      <td>0</td>\n",
       "      <td>0</td>\n",
       "      <td>0</td>\n",
       "    </tr>\n",
       "  </tbody>\n",
       "</table>\n",
       "</div>"
      ],
      "text/plain": [
       "            timestamp     series_id  step  awake  wearable_on  awake_changes  \\\n",
       "0 2017-08-15 16:45:00  31011ade7c0a     0    3.0          0.0              1   \n",
       "1 2017-08-15 16:46:00  31011ade7c0a    12    3.0          0.0              0   \n",
       "2 2017-08-15 16:47:00  31011ade7c0a    24    3.0          0.0              0   \n",
       "3 2017-08-15 16:48:00  31011ade7c0a    36    3.0          0.0              0   \n",
       "4 2017-08-15 16:49:00  31011ade7c0a    48    3.0          0.0              0   \n",
       "\n",
       "   wakeup  onset  \n",
       "0       0      0  \n",
       "1       0      0  \n",
       "2       0      0  \n",
       "3       0      0  \n",
       "4       0      0  "
      ]
     },
     "execution_count": 242,
     "metadata": {},
     "output_type": "execute_result"
    }
   ],
   "source": [
    "new.head()"
   ]
  },
  {
   "cell_type": "code",
   "execution_count": 244,
   "metadata": {},
   "outputs": [
    {
     "data": {
      "text/html": [
       "<div>\n",
       "<style scoped>\n",
       "    .dataframe tbody tr th:only-of-type {\n",
       "        vertical-align: middle;\n",
       "    }\n",
       "\n",
       "    .dataframe tbody tr th {\n",
       "        vertical-align: top;\n",
       "    }\n",
       "\n",
       "    .dataframe thead th {\n",
       "        text-align: right;\n",
       "    }\n",
       "</style>\n",
       "<table border=\"1\" class=\"dataframe\">\n",
       "  <thead>\n",
       "    <tr style=\"text-align: right;\">\n",
       "      <th></th>\n",
       "      <th>timestamp</th>\n",
       "      <th>series_id</th>\n",
       "      <th>step</th>\n",
       "      <th>awake</th>\n",
       "      <th>wearable_on</th>\n",
       "      <th>awake_changes</th>\n",
       "      <th>wakeup</th>\n",
       "      <th>onset</th>\n",
       "    </tr>\n",
       "  </thead>\n",
       "  <tbody>\n",
       "    <tr>\n",
       "      <th>1653</th>\n",
       "      <td>2017-08-16 20:18:00</td>\n",
       "      <td>31011ade7c0a</td>\n",
       "      <td>19836</td>\n",
       "      <td>0.0</td>\n",
       "      <td>1.0</td>\n",
       "      <td>1</td>\n",
       "      <td>0</td>\n",
       "      <td>1</td>\n",
       "    </tr>\n",
       "    <tr>\n",
       "      <th>3251</th>\n",
       "      <td>2017-08-17 22:56:00</td>\n",
       "      <td>31011ade7c0a</td>\n",
       "      <td>39012</td>\n",
       "      <td>0.0</td>\n",
       "      <td>1.0</td>\n",
       "      <td>1</td>\n",
       "      <td>0</td>\n",
       "      <td>1</td>\n",
       "    </tr>\n",
       "    <tr>\n",
       "      <th>4612</th>\n",
       "      <td>2017-08-18 21:37:00</td>\n",
       "      <td>31011ade7c0a</td>\n",
       "      <td>55344</td>\n",
       "      <td>0.0</td>\n",
       "      <td>1.0</td>\n",
       "      <td>1</td>\n",
       "      <td>0</td>\n",
       "      <td>1</td>\n",
       "    </tr>\n",
       "    <tr>\n",
       "      <th>6116</th>\n",
       "      <td>2017-08-19 22:41:00</td>\n",
       "      <td>31011ade7c0a</td>\n",
       "      <td>73392</td>\n",
       "      <td>0.0</td>\n",
       "      <td>1.0</td>\n",
       "      <td>1</td>\n",
       "      <td>0</td>\n",
       "      <td>1</td>\n",
       "    </tr>\n",
       "    <tr>\n",
       "      <th>7428</th>\n",
       "      <td>2017-08-20 20:33:00</td>\n",
       "      <td>31011ade7c0a</td>\n",
       "      <td>89136</td>\n",
       "      <td>0.0</td>\n",
       "      <td>1.0</td>\n",
       "      <td>1</td>\n",
       "      <td>0</td>\n",
       "      <td>1</td>\n",
       "    </tr>\n",
       "    <tr>\n",
       "      <th>8913</th>\n",
       "      <td>2017-08-21 21:18:00</td>\n",
       "      <td>31011ade7c0a</td>\n",
       "      <td>106956</td>\n",
       "      <td>0.0</td>\n",
       "      <td>1.0</td>\n",
       "      <td>1</td>\n",
       "      <td>0</td>\n",
       "      <td>1</td>\n",
       "    </tr>\n",
       "    <tr>\n",
       "      <th>10342</th>\n",
       "      <td>2017-08-22 21:07:00</td>\n",
       "      <td>31011ade7c0a</td>\n",
       "      <td>124104</td>\n",
       "      <td>0.0</td>\n",
       "      <td>1.0</td>\n",
       "      <td>1</td>\n",
       "      <td>0</td>\n",
       "      <td>1</td>\n",
       "    </tr>\n",
       "    <tr>\n",
       "      <th>11885</th>\n",
       "      <td>2017-08-23 22:50:00</td>\n",
       "      <td>31011ade7c0a</td>\n",
       "      <td>142620</td>\n",
       "      <td>0.0</td>\n",
       "      <td>1.0</td>\n",
       "      <td>1</td>\n",
       "      <td>0</td>\n",
       "      <td>1</td>\n",
       "    </tr>\n",
       "    <tr>\n",
       "      <th>13327</th>\n",
       "      <td>2017-08-24 22:52:00</td>\n",
       "      <td>31011ade7c0a</td>\n",
       "      <td>159924</td>\n",
       "      <td>0.0</td>\n",
       "      <td>1.0</td>\n",
       "      <td>1</td>\n",
       "      <td>0</td>\n",
       "      <td>1</td>\n",
       "    </tr>\n",
       "    <tr>\n",
       "      <th>14658</th>\n",
       "      <td>2017-08-25 21:03:00</td>\n",
       "      <td>31011ade7c0a</td>\n",
       "      <td>175896</td>\n",
       "      <td>0.0</td>\n",
       "      <td>1.0</td>\n",
       "      <td>1</td>\n",
       "      <td>0</td>\n",
       "      <td>1</td>\n",
       "    </tr>\n",
       "  </tbody>\n",
       "</table>\n",
       "</div>"
      ],
      "text/plain": [
       "                timestamp     series_id    step  awake  wearable_on  \\\n",
       "1653  2017-08-16 20:18:00  31011ade7c0a   19836    0.0          1.0   \n",
       "3251  2017-08-17 22:56:00  31011ade7c0a   39012    0.0          1.0   \n",
       "4612  2017-08-18 21:37:00  31011ade7c0a   55344    0.0          1.0   \n",
       "6116  2017-08-19 22:41:00  31011ade7c0a   73392    0.0          1.0   \n",
       "7428  2017-08-20 20:33:00  31011ade7c0a   89136    0.0          1.0   \n",
       "8913  2017-08-21 21:18:00  31011ade7c0a  106956    0.0          1.0   \n",
       "10342 2017-08-22 21:07:00  31011ade7c0a  124104    0.0          1.0   \n",
       "11885 2017-08-23 22:50:00  31011ade7c0a  142620    0.0          1.0   \n",
       "13327 2017-08-24 22:52:00  31011ade7c0a  159924    0.0          1.0   \n",
       "14658 2017-08-25 21:03:00  31011ade7c0a  175896    0.0          1.0   \n",
       "\n",
       "       awake_changes  wakeup  onset  \n",
       "1653               1       0      1  \n",
       "3251               1       0      1  \n",
       "4612               1       0      1  \n",
       "6116               1       0      1  \n",
       "7428               1       0      1  \n",
       "8913               1       0      1  \n",
       "10342              1       0      1  \n",
       "11885              1       0      1  \n",
       "13327              1       0      1  \n",
       "14658              1       0      1  "
      ]
     },
     "execution_count": 244,
     "metadata": {},
     "output_type": "execute_result"
    }
   ],
   "source": [
    "new[new['onset'] == 1]"
   ]
  },
  {
   "cell_type": "markdown",
   "metadata": {},
   "source": [
    "## only keep sleeping windows longer than 30 min"
   ]
  },
  {
   "cell_type": "markdown",
   "metadata": {},
   "source": [
    "## if the break between two sleeping window is smaller than 30 min count it as one"
   ]
  },
  {
   "cell_type": "markdown",
   "metadata": {},
   "source": [
    "## only keep the longest sleeping window of one night"
   ]
  },
  {
   "cell_type": "markdown",
   "metadata": {},
   "source": [
    "## add a curve around the window with percentage"
   ]
  }
 ],
 "metadata": {
  "kernelspec": {
   "display_name": "aich",
   "language": "python",
   "name": "aich"
  },
  "language_info": {
   "codemirror_mode": {
    "name": "ipython",
    "version": 3
   },
   "file_extension": ".py",
   "mimetype": "text/x-python",
   "name": "python",
   "nbconvert_exporter": "python",
   "pygments_lexer": "ipython3",
   "version": "3.11.5"
  }
 },
 "nbformat": 4,
 "nbformat_minor": 2
}
