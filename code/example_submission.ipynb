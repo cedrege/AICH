{
 "cells": [
  {
   "cell_type": "code",
   "execution_count": 50,
   "metadata": {},
   "outputs": [],
   "source": [
    "import pandas as pd\n",
    "import datetime\n",
    "import random"
   ]
  },
  {
   "cell_type": "code",
   "execution_count": 51,
   "metadata": {},
   "outputs": [],
   "source": [
    "data_path_train_series = '../data/train_series.parquet'\n",
    "data_path_train_events = '../data/train_events.csv'\n",
    "data_path_test_series = '../data/test_series.parquet'\n",
    "\n",
    "#data_path_train_series = '/kaggle/input/child-mind-institute-detect-sleep-states/train_series.parquet'\n",
    "#data_path_train_events = '/kaggle/input/child-mind-institute-detect-sleep-states/train_events.csv'\n",
    "#data_path_test_series = '/kaggle/input/child-mind-institute-detect-sleep-states/test_series.parquet'"
   ]
  },
  {
   "cell_type": "code",
   "execution_count": 52,
   "metadata": {},
   "outputs": [],
   "source": [
    "#train_series = pd.read_parquet(data_path_train_series)\n"
   ]
  },
  {
   "cell_type": "code",
   "execution_count": 53,
   "metadata": {},
   "outputs": [],
   "source": [
    "test_series = pd.read_parquet(data_path_test_series)\n",
    "train_events = pd.read_csv(data_path_train_events)"
   ]
  },
  {
   "cell_type": "code",
   "execution_count": 54,
   "metadata": {},
   "outputs": [],
   "source": [
    "df = train_events.drop(['step','timestamp'], axis=1).merge(test_series, on='series_id', how='left').dropna()\n",
    "df['date'] = df['timestamp'].apply(lambda x: f\"{datetime.datetime.fromisoformat(x[0:-5]).year}{datetime.datetime.fromisoformat(x[0:-5]).month:02d}{datetime.datetime.fromisoformat(x[0:-5]).day}\")"
   ]
  },
  {
   "cell_type": "code",
   "execution_count": 55,
   "metadata": {},
   "outputs": [],
   "source": [
    "df1 = df.drop(['timestamp', 'anglez', 'enmo', 'date'], axis=1).astype({'step':int}) \\\n",
    "    .groupby(['series_id','night', 'event']) \\\n",
    "    .agg({'step':'max'}) \\\n",
    "    .reset_index()"
   ]
  },
  {
   "cell_type": "code",
   "execution_count": 56,
   "metadata": {},
   "outputs": [],
   "source": [
    "df1 = df1.drop('night', axis=1)"
   ]
  },
  {
   "cell_type": "code",
   "execution_count": 57,
   "metadata": {},
   "outputs": [],
   "source": [
    "df1['score'] = 0\n",
    "df1['score'] = df1.score.apply(lambda x: round(random.random(), 2))\n",
    "df1['step'] = 0\n",
    "df1['step'] = df1.step.apply(lambda x: random.randint(0, 120))"
   ]
  },
  {
   "cell_type": "code",
   "execution_count": 58,
   "metadata": {},
   "outputs": [],
   "source": [
    "df1.index.rename('row_id', inplace=True)\n",
    "df1 = df1[['series_id', 'step', 'event', 'score']]\n",
    "df1.reset_index(inplace=True)"
   ]
  },
  {
   "cell_type": "code",
   "execution_count": 59,
   "metadata": {},
   "outputs": [
    {
     "data": {
      "text/html": [
       "<div>\n",
       "<style scoped>\n",
       "    .dataframe tbody tr th:only-of-type {\n",
       "        vertical-align: middle;\n",
       "    }\n",
       "\n",
       "    .dataframe tbody tr th {\n",
       "        vertical-align: top;\n",
       "    }\n",
       "\n",
       "    .dataframe thead th {\n",
       "        text-align: right;\n",
       "    }\n",
       "</style>\n",
       "<table border=\"1\" class=\"dataframe\">\n",
       "  <thead>\n",
       "    <tr style=\"text-align: right;\">\n",
       "      <th></th>\n",
       "      <th>row_id</th>\n",
       "      <th>series_id</th>\n",
       "      <th>step</th>\n",
       "      <th>event</th>\n",
       "      <th>score</th>\n",
       "    </tr>\n",
       "  </thead>\n",
       "  <tbody>\n",
       "    <tr>\n",
       "      <th>0</th>\n",
       "      <td>0</td>\n",
       "      <td>038441c925bb</td>\n",
       "      <td>111</td>\n",
       "      <td>onset</td>\n",
       "      <td>0.61</td>\n",
       "    </tr>\n",
       "    <tr>\n",
       "      <th>1</th>\n",
       "      <td>1</td>\n",
       "      <td>038441c925bb</td>\n",
       "      <td>107</td>\n",
       "      <td>wakeup</td>\n",
       "      <td>0.96</td>\n",
       "    </tr>\n",
       "    <tr>\n",
       "      <th>2</th>\n",
       "      <td>2</td>\n",
       "      <td>038441c925bb</td>\n",
       "      <td>102</td>\n",
       "      <td>onset</td>\n",
       "      <td>0.49</td>\n",
       "    </tr>\n",
       "    <tr>\n",
       "      <th>3</th>\n",
       "      <td>3</td>\n",
       "      <td>038441c925bb</td>\n",
       "      <td>6</td>\n",
       "      <td>wakeup</td>\n",
       "      <td>0.81</td>\n",
       "    </tr>\n",
       "    <tr>\n",
       "      <th>4</th>\n",
       "      <td>4</td>\n",
       "      <td>038441c925bb</td>\n",
       "      <td>24</td>\n",
       "      <td>onset</td>\n",
       "      <td>0.68</td>\n",
       "    </tr>\n",
       "    <tr>\n",
       "      <th>...</th>\n",
       "      <td>...</td>\n",
       "      <td>...</td>\n",
       "      <td>...</td>\n",
       "      <td>...</td>\n",
       "      <td>...</td>\n",
       "    </tr>\n",
       "    <tr>\n",
       "      <th>163</th>\n",
       "      <td>163</td>\n",
       "      <td>0402a003dae9</td>\n",
       "      <td>120</td>\n",
       "      <td>wakeup</td>\n",
       "      <td>0.98</td>\n",
       "    </tr>\n",
       "    <tr>\n",
       "      <th>164</th>\n",
       "      <td>164</td>\n",
       "      <td>0402a003dae9</td>\n",
       "      <td>23</td>\n",
       "      <td>onset</td>\n",
       "      <td>0.84</td>\n",
       "    </tr>\n",
       "    <tr>\n",
       "      <th>165</th>\n",
       "      <td>165</td>\n",
       "      <td>0402a003dae9</td>\n",
       "      <td>2</td>\n",
       "      <td>wakeup</td>\n",
       "      <td>0.05</td>\n",
       "    </tr>\n",
       "    <tr>\n",
       "      <th>166</th>\n",
       "      <td>166</td>\n",
       "      <td>0402a003dae9</td>\n",
       "      <td>62</td>\n",
       "      <td>onset</td>\n",
       "      <td>0.36</td>\n",
       "    </tr>\n",
       "    <tr>\n",
       "      <th>167</th>\n",
       "      <td>167</td>\n",
       "      <td>0402a003dae9</td>\n",
       "      <td>18</td>\n",
       "      <td>wakeup</td>\n",
       "      <td>0.47</td>\n",
       "    </tr>\n",
       "  </tbody>\n",
       "</table>\n",
       "<p>168 rows × 5 columns</p>\n",
       "</div>"
      ],
      "text/plain": [
       "     row_id     series_id  step   event  score\n",
       "0         0  038441c925bb   111   onset   0.61\n",
       "1         1  038441c925bb   107  wakeup   0.96\n",
       "2         2  038441c925bb   102   onset   0.49\n",
       "3         3  038441c925bb     6  wakeup   0.81\n",
       "4         4  038441c925bb    24   onset   0.68\n",
       "..      ...           ...   ...     ...    ...\n",
       "163     163  0402a003dae9   120  wakeup   0.98\n",
       "164     164  0402a003dae9    23   onset   0.84\n",
       "165     165  0402a003dae9     2  wakeup   0.05\n",
       "166     166  0402a003dae9    62   onset   0.36\n",
       "167     167  0402a003dae9    18  wakeup   0.47\n",
       "\n",
       "[168 rows x 5 columns]"
      ]
     },
     "execution_count": 59,
     "metadata": {},
     "output_type": "execute_result"
    }
   ],
   "source": [
    "df1"
   ]
  },
  {
   "cell_type": "code",
   "execution_count": 62,
   "metadata": {},
   "outputs": [],
   "source": [
    "#df1.to_csv('submission.csv', index=False, encoding='utf-8', lineterminator='\\n')"
   ]
  }
 ],
 "metadata": {
  "kernelspec": {
   "display_name": "AICH",
   "language": "python",
   "name": "python3"
  },
  "language_info": {
   "codemirror_mode": {
    "name": "ipython",
    "version": 3
   },
   "file_extension": ".py",
   "mimetype": "text/x-python",
   "name": "python",
   "nbconvert_exporter": "python",
   "pygments_lexer": "ipython3",
   "version": "3.11.4"
  },
  "orig_nbformat": 4
 },
 "nbformat": 4,
 "nbformat_minor": 2
}
