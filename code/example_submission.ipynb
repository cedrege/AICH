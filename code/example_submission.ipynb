{
 "cells": [
  {
   "cell_type": "code",
   "execution_count": 1,
   "metadata": {},
   "outputs": [],
   "source": [
    "import pandas as pd\n",
    "import datetime\n",
    "import random"
   ]
  },
  {
   "cell_type": "code",
   "execution_count": 2,
   "metadata": {},
   "outputs": [],
   "source": [
    "data_path_train_series = '../data/train_series.parquet'\n",
    "data_path_train_events = '../data/train_events.csv'\n",
    "data_path_test_series = '../data/test_series.parquet'\n",
    "\n",
    "#data_path_train_series = '/kaggle/input/child-mind-institute-detect-sleep-states/train_series.parquet'\n",
    "#data_path_train_events = '/kaggle/input/child-mind-institute-detect-sleep-states/train_events.csv'\n",
    "#data_path_test_series = '/kaggle/input/child-mind-institute-detect-sleep-states/test_series.parquet'"
   ]
  },
  {
   "cell_type": "code",
   "execution_count": 3,
   "metadata": {},
   "outputs": [],
   "source": [
    "#train_series = pd.read_parquet(data_path_train_series)\n"
   ]
  },
  {
   "cell_type": "code",
   "execution_count": 4,
   "metadata": {},
   "outputs": [],
   "source": [
    "test_series = pd.read_parquet(data_path_test_series)\n",
    "train_events = pd.read_csv(data_path_train_events)"
   ]
  },
  {
   "cell_type": "code",
   "execution_count": 5,
   "metadata": {},
   "outputs": [],
   "source": [
    "test_series.to_csv('mytest.csv')"
   ]
  },
  {
   "cell_type": "code",
   "execution_count": 6,
   "metadata": {},
   "outputs": [
    {
     "data": {
      "text/html": [
       "<div>\n",
       "<style scoped>\n",
       "    .dataframe tbody tr th:only-of-type {\n",
       "        vertical-align: middle;\n",
       "    }\n",
       "\n",
       "    .dataframe tbody tr th {\n",
       "        vertical-align: top;\n",
       "    }\n",
       "\n",
       "    .dataframe thead th {\n",
       "        text-align: right;\n",
       "    }\n",
       "</style>\n",
       "<table border=\"1\" class=\"dataframe\">\n",
       "  <thead>\n",
       "    <tr style=\"text-align: right;\">\n",
       "      <th></th>\n",
       "      <th>row_id</th>\n",
       "      <th>series_id</th>\n",
       "      <th>step</th>\n",
       "      <th>event</th>\n",
       "      <th>score</th>\n",
       "    </tr>\n",
       "  </thead>\n",
       "  <tbody>\n",
       "    <tr>\n",
       "      <th>0</th>\n",
       "      <td>0</td>\n",
       "      <td>038441c925bb</td>\n",
       "      <td>0</td>\n",
       "      <td>onset</td>\n",
       "      <td>0.72</td>\n",
       "    </tr>\n",
       "    <tr>\n",
       "      <th>1</th>\n",
       "      <td>3</td>\n",
       "      <td>038441c925bb</td>\n",
       "      <td>149</td>\n",
       "      <td>wakeup</td>\n",
       "      <td>0.79</td>\n",
       "    </tr>\n",
       "    <tr>\n",
       "      <th>2</th>\n",
       "      <td>1</td>\n",
       "      <td>03d92c9f6f8a</td>\n",
       "      <td>0</td>\n",
       "      <td>onset</td>\n",
       "      <td>0.55</td>\n",
       "    </tr>\n",
       "    <tr>\n",
       "      <th>3</th>\n",
       "      <td>4</td>\n",
       "      <td>03d92c9f6f8a</td>\n",
       "      <td>149</td>\n",
       "      <td>wakeup</td>\n",
       "      <td>0.18</td>\n",
       "    </tr>\n",
       "    <tr>\n",
       "      <th>4</th>\n",
       "      <td>2</td>\n",
       "      <td>0402a003dae9</td>\n",
       "      <td>0</td>\n",
       "      <td>onset</td>\n",
       "      <td>0.52</td>\n",
       "    </tr>\n",
       "    <tr>\n",
       "      <th>5</th>\n",
       "      <td>5</td>\n",
       "      <td>0402a003dae9</td>\n",
       "      <td>149</td>\n",
       "      <td>wakeup</td>\n",
       "      <td>0.87</td>\n",
       "    </tr>\n",
       "  </tbody>\n",
       "</table>\n",
       "</div>"
      ],
      "text/plain": [
       "   row_id     series_id  step   event  score\n",
       "0       0  038441c925bb     0   onset   0.72\n",
       "1       3  038441c925bb   149  wakeup   0.79\n",
       "2       1  03d92c9f6f8a     0   onset   0.55\n",
       "3       4  03d92c9f6f8a   149  wakeup   0.18\n",
       "4       2  0402a003dae9     0   onset   0.52\n",
       "5       5  0402a003dae9   149  wakeup   0.87"
      ]
     },
     "execution_count": 6,
     "metadata": {},
     "output_type": "execute_result"
    }
   ],
   "source": [
    "max_events = test_series.groupby(['series_id']).agg({'step':'max'})\n",
    "min_events = test_series.groupby(['series_id']).agg({'step':'min'})\n",
    "\n",
    "min_events['event'] = 'onset'\n",
    "max_events['event'] = 'wakeup'\n",
    "\n",
    "df3 = pd.concat([min_events, max_events])\n",
    "df3 = df3.reset_index().sort_values('series_id')\n",
    "\n",
    "df3['score'] = 0\n",
    "df3.score = df3.score.apply(lambda x :round(random.random() , 2))\n",
    "\n",
    "df3.index.rename('row_id', inplace=True)\n",
    "df3.reset_index(inplace=True)\n",
    "\n",
    "df3"
   ]
  },
  {
   "cell_type": "code",
   "execution_count": 7,
   "metadata": {},
   "outputs": [],
   "source": [
    "df3.to_csv('submission.csv', index=False, encoding='utf-8', lineterminator='\\n')"
   ]
  },
  {
   "cell_type": "code",
   "execution_count": null,
   "metadata": {},
   "outputs": [],
   "source": []
  }
 ],
 "metadata": {
  "kernelspec": {
   "display_name": "AICH",
   "language": "python",
   "name": "python3"
  },
  "language_info": {
   "codemirror_mode": {
    "name": "ipython",
    "version": 3
   },
   "file_extension": ".py",
   "mimetype": "text/x-python",
   "name": "python",
   "nbconvert_exporter": "python",
   "pygments_lexer": "ipython3",
   "version": "3.10.4"
  },
  "orig_nbformat": 4
 },
 "nbformat": 4,
 "nbformat_minor": 2
}
