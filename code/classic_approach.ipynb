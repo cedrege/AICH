{
 "cells": [
  {
   "cell_type": "markdown",
   "metadata": {},
   "source": [
    "# Notebook to solve the kaggle competition \"Child Mind Institute - Detect Sleep States\"\n",
    "Link to the competition: https://www.kaggle.com/competitions/child-mind-institute-detect-sleep-states\n",
    "\n",
    "\n",
    "### Install packages"
   ]
  },
  {
   "cell_type": "code",
   "execution_count": 1,
   "metadata": {},
   "outputs": [
    {
     "name": "stdout",
     "output_type": "stream",
     "text": [
      "Requirement already satisfied: matplotlib in f:\\venv\\aich\\lib\\site-packages (3.8.0)\n",
      "Requirement already satisfied: plotly in f:\\venv\\aich\\lib\\site-packages (5.17.0)\n",
      "Requirement already satisfied: pandas in f:\\venv\\aich\\lib\\site-packages (2.1.1)\n",
      "Requirement already satisfied: numpy in f:\\venv\\aich\\lib\\site-packages (1.24.1)\n",
      "Requirement already satisfied: tqdm in f:\\venv\\aich\\lib\\site-packages (4.66.1)\n",
      "Requirement already satisfied: scikit-learn in f:\\venv\\aich\\lib\\site-packages (1.3.1)\n",
      "Requirement already satisfied: pyarrow in f:\\venv\\aich\\lib\\site-packages (13.0.0)\n",
      "Requirement already satisfied: contourpy>=1.0.1 in f:\\venv\\aich\\lib\\site-packages (from matplotlib) (1.1.1)\n",
      "Requirement already satisfied: cycler>=0.10 in f:\\venv\\aich\\lib\\site-packages (from matplotlib) (0.12.0)\n",
      "Requirement already satisfied: fonttools>=4.22.0 in f:\\venv\\aich\\lib\\site-packages (from matplotlib) (4.43.0)\n",
      "Requirement already satisfied: kiwisolver>=1.0.1 in f:\\venv\\aich\\lib\\site-packages (from matplotlib) (1.4.5)\n",
      "Requirement already satisfied: packaging>=20.0 in f:\\venv\\aich\\lib\\site-packages (from matplotlib) (23.1)\n",
      "Requirement already satisfied: pillow>=6.2.0 in f:\\venv\\aich\\lib\\site-packages (from matplotlib) (9.3.0)\n",
      "Requirement already satisfied: pyparsing>=2.3.1 in f:\\venv\\aich\\lib\\site-packages (from matplotlib) (3.1.1)\n",
      "Requirement already satisfied: python-dateutil>=2.7 in f:\\venv\\aich\\lib\\site-packages (from matplotlib) (2.8.2)\n",
      "Requirement already satisfied: tenacity>=6.2.0 in f:\\venv\\aich\\lib\\site-packages (from plotly) (8.2.3)\n",
      "Requirement already satisfied: pytz>=2020.1 in f:\\venv\\aich\\lib\\site-packages (from pandas) (2023.3.post1)\n",
      "Requirement already satisfied: tzdata>=2022.1 in f:\\venv\\aich\\lib\\site-packages (from pandas) (2023.3)\n",
      "Requirement already satisfied: colorama in f:\\venv\\aich\\lib\\site-packages (from tqdm) (0.4.6)\n",
      "Requirement already satisfied: scipy>=1.5.0 in f:\\venv\\aich\\lib\\site-packages (from scikit-learn) (1.11.3)\n",
      "Requirement already satisfied: joblib>=1.1.1 in f:\\venv\\aich\\lib\\site-packages (from scikit-learn) (1.3.2)\n",
      "Requirement already satisfied: threadpoolctl>=2.0.0 in f:\\venv\\aich\\lib\\site-packages (from scikit-learn) (3.2.0)\n",
      "Requirement already satisfied: six>=1.5 in f:\\venv\\aich\\lib\\site-packages (from python-dateutil>=2.7->matplotlib) (1.16.0)\n",
      "Note: you may need to restart the kernel to use updated packages.\n"
     ]
    },
    {
     "name": "stderr",
     "output_type": "stream",
     "text": [
      "\n",
      "[notice] A new release of pip is available: 23.1.2 -> 23.3.1\n",
      "[notice] To update, run: python.exe -m pip install --upgrade pip\n"
     ]
    }
   ],
   "source": [
    "%pip install matplotlib plotly pandas numpy tqdm scikit-learn pyarrow"
   ]
  },
  {
   "cell_type": "markdown",
   "metadata": {},
   "source": [
    "### Imports"
   ]
  },
  {
   "cell_type": "code",
   "execution_count": 11,
   "metadata": {},
   "outputs": [],
   "source": [
    "from itertools import product\n",
    "from tqdm import tqdm\n",
    "from score import score\n",
    "#from sklearn.svm import SVC\n",
    "#from sklearn.neighbors import KNeighborsClassifier\n",
    "from sklearn.ensemble import RandomForestClassifier\n",
    "from sklearn.preprocessing import StandardScaler\n",
    "from sklearn.metrics import recall_score, precision_score, average_precision_score, f1_score\n",
    "import wandb\n",
    "from abc import ABC, abstractmethod #, classmethod\n",
    "from math import ceil, floor\n",
    "import os\n",
    "from pathlib import Path\n",
    "from joblib import dump, load\n",
    "from custom_enums import ModelTrainingType\n",
    "import pandas as pd\n",
    "import pyarrow.parquet as pq\n",
    "import pyarrow.dataset as ds\n",
    "import gc\n",
    "from scipy.special import softmax"
   ]
  },
  {
   "cell_type": "code",
   "execution_count": 3,
   "metadata": {},
   "outputs": [],
   "source": [
    "\n",
    "# wandb.login() requires you to get your API key from your account settings\n",
    "# open the weights and biases website https://wandb.ai/login and login to your account\n",
    "# then go to your account settings and copy the API key\n",
    "# paste it in the input box and hit enter\n",
    "\n",
    "#wandb.login() #TODO: uncomment this line to login to your account"
   ]
  },
  {
   "cell_type": "code",
   "execution_count": 4,
   "metadata": {},
   "outputs": [],
   "source": [
    "# # start a new wandb run to track this script\n",
    "# wandb.init(\n",
    "#     # set the wandb project where this run will be logged\n",
    "#     project=\"my-awesome-project\",\n",
    "    \n",
    "#     # track hyperparameters and run metadata\n",
    "#     config={\n",
    "#     \"learning_rate\": 0.02,\n",
    "#     \"architecture\": \"CNN\",\n",
    "#     \"dataset\": \"CIFAR-100\",\n",
    "#     \"epochs\": 10,\n",
    "#     }\n",
    "# )"
   ]
  },
  {
   "cell_type": "markdown",
   "metadata": {},
   "source": [
    "To be able to switch between different models from different libraries at a glance, we implement an interface called `IPipelineRequirements`. This allows us to make the pipleine even more robust and easier to extend upon. "
   ]
  },
  {
   "cell_type": "code",
   "execution_count": 5,
   "metadata": {},
   "outputs": [],
   "source": [
    "class IPipelineRequirements(ABC):\n",
    "    @abstractmethod\n",
    "    def train(self):\n",
    "        pass\n",
    "\n",
    "    @abstractmethod\n",
    "    def predict(self):\n",
    "        pass\n",
    "\n",
    "    @abstractmethod\n",
    "    def save(self):\n",
    "        pass\n",
    "\n",
    "    @abstractmethod\n",
    "    def load(self):\n",
    "        pass\n",
    "\n",
    "    @abstractmethod\n",
    "    def evaluate(self):\n",
    "        pass"
   ]
  },
  {
   "cell_type": "markdown",
   "metadata": {},
   "source": [
    "Our first model is the baseline model, which just takes the mean over all onset and wakeup times and tries to predict `onset` and `wakeup` events with the calculated time."
   ]
  },
  {
   "cell_type": "code",
   "execution_count": 6,
   "metadata": {},
   "outputs": [],
   "source": [
    "class BaselineModel(IPipelineRequirements):\n",
    "    def __init__(self):\n",
    "        pass\n",
    "\n",
    "    def train(self):\n",
    "        raise NotImplementedError(\"Please Implement this method\")\n",
    "\n",
    "    def predict(self):\n",
    "        raise NotImplementedError(\"Please Implement this method\")\n",
    "\n",
    "    def save(self):\n",
    "        raise NotImplementedError(\"Please Implement this method\")\n",
    "\n",
    "    def load(self):\n",
    "        raise NotImplementedError(\"Please Implement this method\")\n",
    "\n",
    "    def evaluate(self):\n",
    "        raise NotImplementedError(\"Please Implement this method\")"
   ]
  },
  {
   "cell_type": "code",
   "execution_count": 7,
   "metadata": {},
   "outputs": [],
   "source": [
    "g = BaselineModel()"
   ]
  },
  {
   "cell_type": "code",
   "execution_count": null,
   "metadata": {},
   "outputs": [],
   "source": []
  },
  {
   "cell_type": "markdown",
   "metadata": {},
   "source": [
    "Numerous studies have concentrated on applications using `RandomForest`. The primary motivation for this preference is the model's inherent transparency in decision-making processes, which are readily identifiable in such models. Subsequent to the BaselineModel, efforts have been made to abstract models from the Scikit-learn library. Fortunately, the majority of models within their API exhibit consistent implementation patterns, facilitating their integration into the processing pipeline."
   ]
  },
  {
   "cell_type": "code",
   "execution_count": 8,
   "metadata": {},
   "outputs": [],
   "source": [
    "class SkLearnModel(IPipelineRequirements):\n",
    "\n",
    "    def __init__(self, model_path):\n",
    "        self.load(model_path)\n",
    "\n",
    "    def __init__(self, model, identifier, scaler=StandardScaler, sk_model_params=None):\n",
    "        self._model = model\n",
    "        self._scaler = scaler if not callable(scaler) else scaler() # if scaler is a classpointer, instantiate it\n",
    "        self.identifier = identifier\n",
    "        self._model_params = sk_model_params\n",
    "\n",
    "    def train(self, X, y, not_scaled=False, **kwargs):\n",
    "        if not_scaled:\n",
    "            X = self._scaler.transform(X)\n",
    "\n",
    "        # due to the big dataset we need to check wich model was instantiated and do some model\n",
    "        # specific stuff to enable us to train the model in batches\n",
    "        if isinstance(self._model, RandomForestClassifier):\n",
    "            new_estimators = kwargs['add_estimators'] if 'add_estimators' in kwargs else 50\n",
    "            if self._model.warm_start: self._model.n_estimators += new_estimators\n",
    "            #print(f'Current estimator increased to {self._model.n_estimators}, {new_estimators} added this round.')\n",
    "        # if isinstance(self._model, SVC):\n",
    "        #     pass\n",
    "\n",
    "        self._model.fit(X, y)\n",
    "\n",
    "    def predict(self, X, not_scaled=False):\n",
    "        if not self._model: raise ValueError('Please load or train a model first.')\n",
    "        if not_scaled:\n",
    "            if not self._scaler: raise ValueError('Please load or fit a scaler first.')\n",
    "            X = self._scaler.transform(X)\n",
    "        return self._model.predict(X)\n",
    "\n",
    "    def save(self):\n",
    "        try:\n",
    "            Path.mkdir(Path('models'), exist_ok=True)\n",
    "            with open(f'models/model_{self.identifier}.jlb', 'wb') as f:\n",
    "                dump(self._model, f)\n",
    "            with open(f'models/scaler_{self.identifier}.jlb', 'wb') as f:\n",
    "                dump(self._scaler, f)\n",
    "        except:\n",
    "            raise ValueError('Unable to save model and scaler.')\n",
    "\n",
    "    def load(self, filepath):\n",
    "        try:\n",
    "            # load model and scaler\n",
    "            if os.path.isfile(filepath):\n",
    "                print(f'Loading model from {filepath}')\n",
    "                with open(filepath, 'rb') as f:\n",
    "                    self._model = load(f)\n",
    "            scaler_path = f'{os.path.split(filepath)[0]}/scaler_{os.path.split(filepath)[1].split(\".\")[0].split(\"_\")[1]}.pkl'\n",
    "            if os.path.isfile(scaler_path):\n",
    "                print(f'Loading scaler from {scaler_path}')\n",
    "                with open(filepath, 'rb') as f:\n",
    "                    self._scaler = load(f)\n",
    "\n",
    "            # extract identifier from filename\n",
    "            self._identifier = filepath.split('_')[1].split('.')[0]\n",
    "        except (FileNotFoundError) as e:\n",
    "                print(f'File {e} not found')\n",
    "                raise ValueError('Filepath is not valid. Unable to load model and scaler.')\n",
    "        except (IndexError) as e:\n",
    "                print(f'The name of the file does not implement the convention \"<model|scaler>_<some identifier>\".')\n",
    "                raise ValueError('Filepath is not valid. Unable to load model and scaler.')\n",
    "        except (Exception) as e:\n",
    "            print(f'Something went wrong. {e}')\n",
    "            raise ValueError('Unknown Error.')\n",
    "\n",
    "    def evaluate(self, X, y, scoreFx=None, not_scaled=False, prepredicted=None):\n",
    "        if not scoreFx:\n",
    "            raise ValueError('Please provide a score function.')\n",
    "        if not self._model:\n",
    "            raise ValueError('Please load or train a model first.')\n",
    "        if not_scaled and prepredicted is None:\n",
    "            if not self._scaler: raise ValueError('Please load or fit a scaler first.')\n",
    "            X = self._scaler.transform(X)\n",
    "\n",
    "        return scoreFx(y, prepredicted if prepredicted is not None else self._model.predict(X))"
   ]
  },
  {
   "cell_type": "markdown",
   "metadata": {},
   "source": [
    "### Heuristics method to get the right event under the constraints given by Child Mind Institue\n",
    "\n",
    "* A single sleep period must be at least 30 minutes in length\n",
    "* A single sleep period can be interrupted by bouts of activity that do not exceed 30 consecutive minutes\n",
    "* No sleep windows can be detected unless the watch is deemed to be worn for the duration (elaborated upon, below)\n",
    "* The longest sleep window during the night is the only one which is recorded\n",
    "* If no valid sleep window is identifiable, neither an onset nor a wakeup event is recorded for that night.\n",
    "* Sleep events do not need to straddle the day-line, and therefore there is no hard rule defining how many may occur within a given period. However, no more than one window should be assigned per night. For example, it is valid for an individual to have a sleep window from 01h00–06h00 and 19h00–23h30 in the same calendar day, though assigned to consecutive nights\n",
    "* There are roughly as many nights recorded for a series as there are 24-hour periods in that series."
   ]
  },
  {
   "cell_type": "code",
   "execution_count": 9,
   "metadata": {},
   "outputs": [],
   "source": [
    "def heuristic_filter(data):\n",
    "    pass"
   ]
  },
  {
   "cell_type": "markdown",
   "metadata": {},
   "source": [
    "### Import the training and the validation data"
   ]
  },
  {
   "cell_type": "code",
   "execution_count": 10,
   "metadata": {},
   "outputs": [
    {
     "ename": "ValueError",
     "evalue": "test",
     "output_type": "error",
     "traceback": [
      "\u001b[1;31m---------------------------------------------------------------------------\u001b[0m",
      "\u001b[1;31mValueError\u001b[0m                                Traceback (most recent call last)",
      "\u001b[1;32mf:\\git\\AICH\\code\\classic_approach.ipynb Cell 18\u001b[0m line \u001b[0;36m1\n\u001b[1;32m----> <a href='vscode-notebook-cell:/f%3A/git/AICH/code/classic_approach.ipynb#X23sZmlsZQ%3D%3D?line=0'>1</a>\u001b[0m \u001b[39mraise\u001b[39;00m(\u001b[39mValueError\u001b[39;00m(\u001b[39m'\u001b[39m\u001b[39mtest\u001b[39m\u001b[39m'\u001b[39m))\n",
      "\u001b[1;31mValueError\u001b[0m: test"
     ]
    }
   ],
   "source": [
    "raise(ValueError('test'))"
   ]
  },
  {
   "cell_type": "code",
   "execution_count": 13,
   "metadata": {},
   "outputs": [],
   "source": [
    "NEW_TRAIN_DATA = '../data/train/'\n",
    "NEW_VALIDATION_DATA = '../data/val/'\n",
    "TRAIN_DATA = '../data/train_20231021'\n",
    "#TRAIN_DATA = '../data/train_20231021_20M'\n",
    "VALIDATION_DATA = '../data/validation_20231021'\n",
    "\n",
    "# figure out series id mapping\n",
    "if not 'series_id_mapping' in vars():\n",
    "    series_id_mapping = {'train': dict(), 'validation': dict()}\n",
    "    t = ds.dataset(NEW_TRAIN_DATA).to_table(columns=['series_id'])\n",
    "    #t = pq.ParquetDataset(TRAIN_DATA).read(columns=['series_id'])\n",
    "    for i, data in enumerate(t.to_pandas()['series_id'].unique()):\n",
    "        series_id_mapping['train'][data] = i\n",
    "    #v = pq.ParquetDataset(VALIDATION_DATA).read(columns=['series_id'])\n",
    "    v = ds.dataset(NEW_VALIDATION_DATA).to_table(columns=['series_id'])\n",
    "    for i, data in enumerate(v.to_pandas()['series_id'].unique()):\n",
    "        series_id_mapping['validation'][data] = i\n",
    "    del t, v\n",
    "    gc.collect()\n",
    "\n",
    "#train_dataset_length = pq.ParquetFile(TRAIN_DATA).metadata.num_rows\n",
    "train_dataset_length = ds.dataset(NEW_TRAIN_DATA).count_rows()\n",
    "validation_dataset_length = ds.dataset(NEW_VALIDATION_DATA).count_rows()\n",
    "\n",
    "def dataloader_full_dataset(validation=False):\n",
    "    return pd.read_parquet(VALIDATION_DATA if validation else TRAIN_DATA)\n",
    "\n",
    "def dataloader(validation=False, batch_size=5_000_000):\n",
    "    parquet_file = pq.ParquetFile(VALIDATION_DATA if validation else TRAIN_DATA)\n",
    "    for i in parquet_file.iter_batches(batch_size=batch_size):\n",
    "        yield i.to_pandas()\n",
    "\n",
    "def batched_dataloader(validation=False, batch_size=100_000):\n",
    "    dataset = ds.dataset(NEW_VALIDATION_DATA if validation else NEW_TRAIN_DATA)\n",
    "    batch = pd.DataFrame()\n",
    "    for file_batch in dataset.to_batches(batch_size=batch_size):\n",
    "        batch = pd.concat([batch, file_batch.to_pandas()])\n",
    "        if len(batch) >= batch_size:\n",
    "            yield batch\n",
    "            batch = pd.DataFrame()\n",
    "    yield batch\n",
    "\n",
    "    # for fragment in dataset.get_fragments():\n",
    "    #     batches = fragment.to_batches(batch_size=batch_size) # https://arrow.apache.org/docs/python/generated/pyarrow.dataset.Fragment.html#pyarrow.dataset.Fragment.to_batches\n",
    "    #     for batch in batches:\n",
    "    #         yield batch.to_pandas()\n",
    "    #         del batch\n",
    "    #     del fragment\n"
   ]
  },
  {
   "cell_type": "markdown",
   "metadata": {},
   "source": [
    "### Run the pipeline"
   ]
  },
  {
   "cell_type": "code",
   "execution_count": 15,
   "metadata": {},
   "outputs": [
    {
     "name": "stdout",
     "output_type": "stream",
     "text": [
      "Start fitting scaler StandardScaler\n"
     ]
    },
    {
     "name": "stderr",
     "output_type": "stream",
     "text": [
      "0it [00:00, ?it/s]"
     ]
    },
    {
     "name": "stderr",
     "output_type": "stream",
     "text": [
      "3it [00:37, 12.43s/it]\n"
     ]
    },
    {
     "name": "stdout",
     "output_type": "stream",
     "text": [
      "Model will be traind in batches of 3000000 samples.\n",
      "Dataset contains 8695770 samples. Batchsize is 3000000. That means 2.89859 batches will be used to fit the model.\n",
      "Build estimator distribution for 2.89859 rounds.\n",
      "Estimator distribution per round: [172 172 156]\n",
      "Start training model randomforestclassifier-wrist-n_estimators__500-max_depth__none-min_samples_leaf__25-random_state__0-n_jobs__-1-warm_start__true\n"
     ]
    },
    {
     "name": "stderr",
     "output_type": "stream",
     "text": [
      "100%|██████████| 3/3 [31:40<00:00, 633.57s/it]\n"
     ]
    },
    {
     "name": "stdout",
     "output_type": "stream",
     "text": [
      "Start evaluating model randomforestclassifier-wrist-n_estimators__500-max_depth__none-min_samples_leaf__25-random_state__0-n_jobs__-1-warm_start__true\n"
     ]
    },
    {
     "name": "stderr",
     "output_type": "stream",
     "text": [
      "100%|██████████| 1/1 [00:21<00:00, 21.29s/it]\n"
     ]
    },
    {
     "name": "stdout",
     "output_type": "stream",
     "text": [
      "0.7820176797920109\n",
      "0.9878930031331655\n",
      "0.7822966824659644\n",
      "0.8731554875384411\n",
      "Start training model randomforestclassifier-sleep-n_estimators__500-max_depth__none-min_samples_leaf__25-random_state__0-n_jobs__-1-warm_start__true\n"
     ]
    },
    {
     "name": "stderr",
     "output_type": "stream",
     "text": [
      "  0%|          | 0/3 [00:35<?, ?it/s]\n"
     ]
    },
    {
     "ename": "ValueError",
     "evalue": "The feature names should match those that were passed during fit.\nFeature names unseen at fit time:\n- pred_worn\n",
     "output_type": "error",
     "traceback": [
      "\u001b[1;31m---------------------------------------------------------------------------\u001b[0m",
      "\u001b[1;31mValueError\u001b[0m                                Traceback (most recent call last)",
      "\u001b[1;32mf:\\git\\AICH\\code\\classic_approach.ipynb Cell 21\u001b[0m line \u001b[0;36m1\n\u001b[0;32m    <a href='vscode-notebook-cell:/f%3A/git/AICH/code/classic_approach.ipynb#X26sZmlsZQ%3D%3D?line=146'>147</a>\u001b[0m X \u001b[39m=\u001b[39m X[X[\u001b[39m'\u001b[39m\u001b[39mpred_worn\u001b[39m\u001b[39m'\u001b[39m] \u001b[39m==\u001b[39m \u001b[39m1\u001b[39m]\n\u001b[0;32m    <a href='vscode-notebook-cell:/f%3A/git/AICH/code/classic_approach.ipynb#X26sZmlsZQ%3D%3D?line=147'>148</a>\u001b[0m y \u001b[39m=\u001b[39m y[y\u001b[39m.\u001b[39mindex\u001b[39m.\u001b[39misin(X\u001b[39m.\u001b[39mindex)]\n\u001b[1;32m--> <a href='vscode-notebook-cell:/f%3A/git/AICH/code/classic_approach.ipynb#X26sZmlsZQ%3D%3D?line=148'>149</a>\u001b[0m m2\u001b[39m.\u001b[39;49mtrain(X, y, not_scaled\u001b[39m=\u001b[39;49m\u001b[39mTrue\u001b[39;49;00m, \u001b[39m*\u001b[39;49m\u001b[39m*\u001b[39;49margs)\n\u001b[0;32m    <a href='vscode-notebook-cell:/f%3A/git/AICH/code/classic_approach.ipynb#X26sZmlsZQ%3D%3D?line=149'>150</a>\u001b[0m \u001b[39mdel\u001b[39;00m X, y\n\u001b[0;32m    <a href='vscode-notebook-cell:/f%3A/git/AICH/code/classic_approach.ipynb#X26sZmlsZQ%3D%3D?line=150'>151</a>\u001b[0m gc\u001b[39m.\u001b[39mcollect()\n",
      "\u001b[1;32mf:\\git\\AICH\\code\\classic_approach.ipynb Cell 21\u001b[0m line \u001b[0;36m1\n\u001b[0;32m     <a href='vscode-notebook-cell:/f%3A/git/AICH/code/classic_approach.ipynb#X26sZmlsZQ%3D%3D?line=11'>12</a>\u001b[0m \u001b[39mdef\u001b[39;00m \u001b[39mtrain\u001b[39m(\u001b[39mself\u001b[39m, X, y, not_scaled\u001b[39m=\u001b[39m\u001b[39mFalse\u001b[39;00m, \u001b[39m*\u001b[39m\u001b[39m*\u001b[39mkwargs):\n\u001b[0;32m     <a href='vscode-notebook-cell:/f%3A/git/AICH/code/classic_approach.ipynb#X26sZmlsZQ%3D%3D?line=12'>13</a>\u001b[0m     \u001b[39mif\u001b[39;00m not_scaled:\n\u001b[1;32m---> <a href='vscode-notebook-cell:/f%3A/git/AICH/code/classic_approach.ipynb#X26sZmlsZQ%3D%3D?line=13'>14</a>\u001b[0m         X \u001b[39m=\u001b[39m \u001b[39mself\u001b[39;49m\u001b[39m.\u001b[39;49m_scaler\u001b[39m.\u001b[39;49mtransform(X)\n\u001b[0;32m     <a href='vscode-notebook-cell:/f%3A/git/AICH/code/classic_approach.ipynb#X26sZmlsZQ%3D%3D?line=15'>16</a>\u001b[0m     \u001b[39m# due to the big dataset we need to check wich model was instantiated and do some model\u001b[39;00m\n\u001b[0;32m     <a href='vscode-notebook-cell:/f%3A/git/AICH/code/classic_approach.ipynb#X26sZmlsZQ%3D%3D?line=16'>17</a>\u001b[0m     \u001b[39m# specific stuff to enable us to train the model in batches\u001b[39;00m\n\u001b[0;32m     <a href='vscode-notebook-cell:/f%3A/git/AICH/code/classic_approach.ipynb#X26sZmlsZQ%3D%3D?line=17'>18</a>\u001b[0m     \u001b[39mif\u001b[39;00m \u001b[39misinstance\u001b[39m(\u001b[39mself\u001b[39m\u001b[39m.\u001b[39m_model, RandomForestClassifier):\n",
      "File \u001b[1;32mf:\\venv\\AICH\\Lib\\site-packages\\sklearn\\utils\\_set_output.py:157\u001b[0m, in \u001b[0;36m_wrap_method_output.<locals>.wrapped\u001b[1;34m(self, X, *args, **kwargs)\u001b[0m\n\u001b[0;32m    155\u001b[0m \u001b[39m@wraps\u001b[39m(f)\n\u001b[0;32m    156\u001b[0m \u001b[39mdef\u001b[39;00m \u001b[39mwrapped\u001b[39m(\u001b[39mself\u001b[39m, X, \u001b[39m*\u001b[39margs, \u001b[39m*\u001b[39m\u001b[39m*\u001b[39mkwargs):\n\u001b[1;32m--> 157\u001b[0m     data_to_wrap \u001b[39m=\u001b[39m f(\u001b[39mself\u001b[39;49m, X, \u001b[39m*\u001b[39;49margs, \u001b[39m*\u001b[39;49m\u001b[39m*\u001b[39;49mkwargs)\n\u001b[0;32m    158\u001b[0m     \u001b[39mif\u001b[39;00m \u001b[39misinstance\u001b[39m(data_to_wrap, \u001b[39mtuple\u001b[39m):\n\u001b[0;32m    159\u001b[0m         \u001b[39m# only wrap the first output for cross decomposition\u001b[39;00m\n\u001b[0;32m    160\u001b[0m         return_tuple \u001b[39m=\u001b[39m (\n\u001b[0;32m    161\u001b[0m             _wrap_data_with_container(method, data_to_wrap[\u001b[39m0\u001b[39m], X, \u001b[39mself\u001b[39m),\n\u001b[0;32m    162\u001b[0m             \u001b[39m*\u001b[39mdata_to_wrap[\u001b[39m1\u001b[39m:],\n\u001b[0;32m    163\u001b[0m         )\n",
      "File \u001b[1;32mf:\\venv\\AICH\\Lib\\site-packages\\sklearn\\preprocessing\\_data.py:1006\u001b[0m, in \u001b[0;36mStandardScaler.transform\u001b[1;34m(self, X, copy)\u001b[0m\n\u001b[0;32m   1003\u001b[0m check_is_fitted(\u001b[39mself\u001b[39m)\n\u001b[0;32m   1005\u001b[0m copy \u001b[39m=\u001b[39m copy \u001b[39mif\u001b[39;00m copy \u001b[39mis\u001b[39;00m \u001b[39mnot\u001b[39;00m \u001b[39mNone\u001b[39;00m \u001b[39melse\u001b[39;00m \u001b[39mself\u001b[39m\u001b[39m.\u001b[39mcopy\n\u001b[1;32m-> 1006\u001b[0m X \u001b[39m=\u001b[39m \u001b[39mself\u001b[39;49m\u001b[39m.\u001b[39;49m_validate_data(\n\u001b[0;32m   1007\u001b[0m     X,\n\u001b[0;32m   1008\u001b[0m     reset\u001b[39m=\u001b[39;49m\u001b[39mFalse\u001b[39;49;00m,\n\u001b[0;32m   1009\u001b[0m     accept_sparse\u001b[39m=\u001b[39;49m\u001b[39m\"\u001b[39;49m\u001b[39mcsr\u001b[39;49m\u001b[39m\"\u001b[39;49m,\n\u001b[0;32m   1010\u001b[0m     copy\u001b[39m=\u001b[39;49mcopy,\n\u001b[0;32m   1011\u001b[0m     dtype\u001b[39m=\u001b[39;49mFLOAT_DTYPES,\n\u001b[0;32m   1012\u001b[0m     force_all_finite\u001b[39m=\u001b[39;49m\u001b[39m\"\u001b[39;49m\u001b[39mallow-nan\u001b[39;49m\u001b[39m\"\u001b[39;49m,\n\u001b[0;32m   1013\u001b[0m )\n\u001b[0;32m   1015\u001b[0m \u001b[39mif\u001b[39;00m sparse\u001b[39m.\u001b[39missparse(X):\n\u001b[0;32m   1016\u001b[0m     \u001b[39mif\u001b[39;00m \u001b[39mself\u001b[39m\u001b[39m.\u001b[39mwith_mean:\n",
      "File \u001b[1;32mf:\\venv\\AICH\\Lib\\site-packages\\sklearn\\base.py:580\u001b[0m, in \u001b[0;36mBaseEstimator._validate_data\u001b[1;34m(self, X, y, reset, validate_separately, cast_to_ndarray, **check_params)\u001b[0m\n\u001b[0;32m    509\u001b[0m \u001b[39mdef\u001b[39;00m \u001b[39m_validate_data\u001b[39m(\n\u001b[0;32m    510\u001b[0m     \u001b[39mself\u001b[39m,\n\u001b[0;32m    511\u001b[0m     X\u001b[39m=\u001b[39m\u001b[39m\"\u001b[39m\u001b[39mno_validation\u001b[39m\u001b[39m\"\u001b[39m,\n\u001b[1;32m   (...)\u001b[0m\n\u001b[0;32m    516\u001b[0m     \u001b[39m*\u001b[39m\u001b[39m*\u001b[39mcheck_params,\n\u001b[0;32m    517\u001b[0m ):\n\u001b[0;32m    518\u001b[0m \u001b[39m    \u001b[39m\u001b[39m\"\"\"Validate input data and set or check the `n_features_in_` attribute.\u001b[39;00m\n\u001b[0;32m    519\u001b[0m \n\u001b[0;32m    520\u001b[0m \u001b[39m    Parameters\u001b[39;00m\n\u001b[1;32m   (...)\u001b[0m\n\u001b[0;32m    578\u001b[0m \u001b[39m        validated.\u001b[39;00m\n\u001b[0;32m    579\u001b[0m \u001b[39m    \"\"\"\u001b[39;00m\n\u001b[1;32m--> 580\u001b[0m     \u001b[39mself\u001b[39;49m\u001b[39m.\u001b[39;49m_check_feature_names(X, reset\u001b[39m=\u001b[39;49mreset)\n\u001b[0;32m    582\u001b[0m     \u001b[39mif\u001b[39;00m y \u001b[39mis\u001b[39;00m \u001b[39mNone\u001b[39;00m \u001b[39mand\u001b[39;00m \u001b[39mself\u001b[39m\u001b[39m.\u001b[39m_get_tags()[\u001b[39m\"\u001b[39m\u001b[39mrequires_y\u001b[39m\u001b[39m\"\u001b[39m]:\n\u001b[0;32m    583\u001b[0m         \u001b[39mraise\u001b[39;00m \u001b[39mValueError\u001b[39;00m(\n\u001b[0;32m    584\u001b[0m             \u001b[39mf\u001b[39m\u001b[39m\"\u001b[39m\u001b[39mThis \u001b[39m\u001b[39m{\u001b[39;00m\u001b[39mself\u001b[39m\u001b[39m.\u001b[39m\u001b[39m__class__\u001b[39m\u001b[39m.\u001b[39m\u001b[39m__name__\u001b[39m\u001b[39m}\u001b[39;00m\u001b[39m estimator \u001b[39m\u001b[39m\"\u001b[39m\n\u001b[0;32m    585\u001b[0m             \u001b[39m\"\u001b[39m\u001b[39mrequires y to be passed, but the target y is None.\u001b[39m\u001b[39m\"\u001b[39m\n\u001b[0;32m    586\u001b[0m         )\n",
      "File \u001b[1;32mf:\\venv\\AICH\\Lib\\site-packages\\sklearn\\base.py:507\u001b[0m, in \u001b[0;36mBaseEstimator._check_feature_names\u001b[1;34m(self, X, reset)\u001b[0m\n\u001b[0;32m    502\u001b[0m \u001b[39mif\u001b[39;00m \u001b[39mnot\u001b[39;00m missing_names \u001b[39mand\u001b[39;00m \u001b[39mnot\u001b[39;00m unexpected_names:\n\u001b[0;32m    503\u001b[0m     message \u001b[39m+\u001b[39m\u001b[39m=\u001b[39m (\n\u001b[0;32m    504\u001b[0m         \u001b[39m\"\u001b[39m\u001b[39mFeature names must be in the same order as they were in fit.\u001b[39m\u001b[39m\\n\u001b[39;00m\u001b[39m\"\u001b[39m\n\u001b[0;32m    505\u001b[0m     )\n\u001b[1;32m--> 507\u001b[0m \u001b[39mraise\u001b[39;00m \u001b[39mValueError\u001b[39;00m(message)\n",
      "\u001b[1;31mValueError\u001b[0m: The feature names should match those that were passed during fit.\nFeature names unseen at fit time:\n- pred_worn\n"
     ]
    }
   ],
   "source": [
    "# define all the combinations of models and features\n",
    "models_and_hyperparams = {\n",
    "    RandomForestClassifier: {\n",
    "        'params': {\n",
    "            'n_estimators': [500, 600, 400],\n",
    "            'max_depth': [None, 20, 40, 60],\n",
    "            'min_samples_leaf': [5, 15, 25],\n",
    "            'random_state': [0],\n",
    "            'n_jobs': [8],\n",
    "            #'criterion': ['gini', 'entropy', 'log_loss'],\n",
    "            'warm_start': [True]\n",
    "        },\n",
    "        'modeltype': SkLearnModel,\n",
    "        'scaler': StandardScaler,\n",
    "        'training_type': ModelTrainingType.BATCH,\n",
    "        'batch_size': 3_000_000\n",
    "    }\n",
    "}\n",
    "\n",
    "# define scaler\n",
    "scaler_type = StandardScaler\n",
    "pretrained_scalers = dict() # used to store trained scalers for later use\n",
    "\n",
    "# define columns to drop while training the model\n",
    "additionally_drop = ['anglez_rolling_mean_1', 'anglez_rolling_max_1', 'anglez_rolling_std_1',\n",
    "       'anglez_diff_1', 'anglez_diff_rolling_mean_1',\n",
    "       'anglez_diff_rolling_max_1', 'anglez_diff_rolling_std_1', 'enmo_rolling_max_1', 'enmo_rolling_std_1', 'enmo_diff_1',\n",
    "       'enmo_diff_rolling_mean_1', 'enmo_diff_rolling_max_1',\n",
    "       'enmo_diff_rolling_std_1']\n",
    "columns_to_drop = ['series_id', 'step', 'awake', 'wearable_on', 'seconds', 'year', 'anglez_abs', 'enmo_abs'] + additionally_drop\n",
    "\n",
    "# loop over all combinations and append it to the configurations list\n",
    "# if there are no hyperparams, just instantiate the model without params\n",
    "for model_type, hyperparams in models_and_hyperparams.items():\n",
    "    if len(hyperparams['params']) > 0: # if there are hyperparams, build a dict and pass it to the model as parameters\n",
    "        fx_param_names, fx_param_values = zip(*hyperparams['params'].items())\n",
    "        for cartesian_product_values in product(*fx_param_values):\n",
    "            hyperparam_dict = dict(zip(fx_param_names, cartesian_product_values))\n",
    "\n",
    "            # create or reuse the scaler specified in the models_and_hyperparams dictionary\n",
    "            if hyperparams['scaler'] in pretrained_scalers:\n",
    "                print(f'Using pretrained scaler {hyperparams[\"scaler\"].__name__}')\n",
    "                scaler = pretrained_scalers[hyperparams['scaler']]\n",
    "            else:\n",
    "                scaler = hyperparams['scaler']()\n",
    "                print(f'Start fitting scaler {hyperparams[\"scaler\"].__name__}')\n",
    "                for batch in tqdm(batched_dataloader(batch_size=hyperparams['batch_size']) if hyperparams['training_type'] == ModelTrainingType.BATCH else dataloader_full_dataset()):\n",
    "                    X = batch.drop(columns_to_drop, axis=1)\n",
    "                    #X = batch.drop(['wearable_on', 'awake', 'wakeup', 'onset'], axis=1)\n",
    "                    #X['series_id'] = X['series_id'].map(series_id_mapping['train'])\n",
    "                    scaler.partial_fit(X)\n",
    "                    del X\n",
    "                    gc.collect()\n",
    "                # save the scaler for later use\n",
    "                pretrained_scalers[hyperparams['scaler']] = scaler\n",
    "\n",
    "            # create the model from the modeltype and the hyperparam_dict\n",
    "            m = hyperparams['modeltype'](model_type(**hyperparam_dict), \\\n",
    "                                        f'{model_type.__name__}-wrist-{\"-\".join([f\"{na}__{str(va)}\" for na, va in hyperparam_dict.items()])}'.lower(), \\\n",
    "                                        scaler, \\\n",
    "                                        #StandardScaler(), \\\n",
    "                                        hyperparam_dict)\n",
    "            m2 = hyperparams['modeltype'](model_type(**hyperparam_dict), \\\n",
    "                                        f'{model_type.__name__}-sleep-{\"-\".join([f\"{na}__{str(va)}\" for na, va in hyperparam_dict.items()])}'.lower(), \\\n",
    "                                        scaler, \\\n",
    "                                        #StandardScaler(), \\\n",
    "                                        hyperparam_dict)\n",
    "\n",
    "            # init wandb\n",
    "            # start a new wandb run to track this script\n",
    "            #cfg = m._model_params.copy()\n",
    "            #cfg['model'] = m._model.__name__\n",
    "            #wandb.init(project=\"classic_models\", config=cfg)\n",
    "\n",
    "            # train model\n",
    "            rounds = 1\n",
    "            if hyperparams['training_type'] == ModelTrainingType.BATCH:\n",
    "                print(f'Model will be traind in batches of {hyperparams[\"batch_size\"]} samples.')\n",
    "                print(f'Dataset contains {train_dataset_length} samples. Batchsize is {hyperparams[\"batch_size\"]}. That means {(rounds := train_dataset_length / hyperparams[\"batch_size\"])} batches will be used to fit the model.')\n",
    "                if model_type == RandomForestClassifier:\n",
    "                    # print(f'At the end {hyperparam_dict[\"n_estimators\"]} estimators will be fitted. That means, {hyperparam_dict[\"n_estimators\"]//rounds} estimators per batch.')\n",
    "                    m._model.n_estimators = 0 #set to 0. model will increase the number of estimators in each round\n",
    "                    m2._model.n_estimators = 0 #set to 0. model will increase the number of estimators in each round\n",
    "                    # # tune hyperparameter 'n_estimators' based on the number of batches\n",
    "                    # attune_estimators_div = hyperparam_dict[\"n_estimators\"] / rounds\n",
    "                    # attuned_estimators = (floor(attune_estimators_div) if attune_estimators_div -0.3 < floor(attune_estimators_div) else ceil(attune_estimators_div)) * rounds\n",
    "                    # print(f'Hyperparameter n_estimators will be adjusted to {attuned_estimators} to fit {attuned_estimators / rounds} estimators per round for each {rounds} batches.')\n",
    "                    # hyperparam_dict[\"n_estimators\"] = attuned_estimators\n",
    "                    print(f'Build estimator distribution for {rounds} rounds.')\n",
    "                    est_anteil = [1 for _ in range(floor(rounds))]\n",
    "                    est_anteil.append(rounds % floor(rounds))\n",
    "                    est_anteil = softmax(est_anteil)\n",
    "                    est_anteil *= hyperparam_dict['n_estimators']\n",
    "                    est_anteil = est_anteil.round().astype(int)\n",
    "                    print(f'Estimator distribution per round: {est_anteil}')\n",
    "\n",
    "            print(f'Start training model {m.identifier}')\n",
    "            for i, batch in enumerate(tqdm(batched_dataloader(batch_size=hyperparams['batch_size']) if hyperparams['training_type'] == ModelTrainingType.BATCH else dataloader_full_dataset(), total=floor(rounds)+1)):\n",
    "                y = batch['wearable_on']\n",
    "                X = batch.drop(columns_to_drop, axis=1)\n",
    "                #X = batch.drop(['wearable_on', 'awake'], axis=1)\n",
    "                #X['series_id'] = X['series_id'].map(series_id_mapping['train'])\n",
    "                args = {}\n",
    "                if model_type == RandomForestClassifier and hyperparams['training_type'] == ModelTrainingType.BATCH: args['add_estimators'] = est_anteil[i]\n",
    "                m.train(X, y, not_scaled=True, **args)\n",
    "                del X\n",
    "                del y\n",
    "                gc.collect()\n",
    "\n",
    "            #  evaluate model\n",
    "            print(f'Start evaluating model {m.identifier}')\n",
    "            score_value_average_precision_score, score_value_recall, score_value_precision, score_f1 = [], [], [], []\n",
    "            for validation in tqdm(batched_dataloader(batch_size=hyperparams['batch_size'], validation=True) if hyperparams['training_type'] == ModelTrainingType.BATCH else dataloader_full_dataset(validation=True), total = ceil(validation_dataset_length / hyperparams[\"batch_size\"])):\n",
    "                #validation['series_id'] = validation['series_id'].map(series_id_mapping['validation'])\n",
    "                validation_y = validation['wearable_on']\n",
    "                validation.drop(columns_to_drop, axis=1, inplace=True)\n",
    "                #validation.drop(['wearable_on', 'awake'], axis=1, inplace=True)\n",
    "                validation_y_hat = m.predict(validation, not_scaled=True)\n",
    "                # this does the same as scoreFX(y, y_hat). It is wrapped in the models evaluate function.\n",
    "                # the model itself could also do the prediction if prepredicted is None\n",
    "                # then, the first argument of the evaluate function would be the X_validation data\n",
    "                score_value_average_precision_score.append(m.evaluate(None, validation_y, scoreFx=average_precision_score, not_scaled=True, prepredicted=validation_y_hat))\n",
    "                score_value_recall.append(m.evaluate(None, validation_y, scoreFx=recall_score, not_scaled=True, prepredicted=validation_y_hat))\n",
    "                score_value_precision.append(m.evaluate(None, validation_y, scoreFx=precision_score, not_scaled=True, prepredicted=validation_y_hat))\n",
    "                score_f1.append(m.evaluate(None, validation_y, scoreFx=f1_score, not_scaled=True, prepredicted=validation_y_hat))\n",
    "                del validation, validation_y\n",
    "\n",
    "            print(sum(score_value_average_precision_score) / len(score_value_average_precision_score))\n",
    "            print(sum(score_value_recall) / len(score_value_recall))\n",
    "            print(sum(score_value_precision) / len(score_value_precision))\n",
    "            print(sum(score_f1) / len(score_f1))\n",
    "            #  save model\n",
    "            m.save()\n",
    "\n",
    "            print(f'Start training model {m2.identifier}')\n",
    "            for i, batch in enumerate(tqdm(batched_dataloader(batch_size=hyperparams['batch_size']) if hyperparams['training_type'] == ModelTrainingType.BATCH else dataloader_full_dataset(), total=floor(rounds)+1)):\n",
    "                y = batch['awake']\n",
    "                X = batch.drop(columns_to_drop, axis=1)\n",
    "                #X = batch.drop(['wearable_on', 'awake'], axis=1)\n",
    "                #X['series_id'] = X['series_id'].map(series_id_mapping['train'])\n",
    "                args = {}\n",
    "                if model_type == RandomForestClassifier and hyperparams['training_type'] == ModelTrainingType.BATCH: args['add_estimators'] = est_anteil[i]\n",
    "                worn_y_hat = m.predict(X, not_scaled=True)\n",
    "                # add worn_y_hat as new column to X\n",
    "                X['pred_worn'] = worn_y_hat\n",
    "                # filter out all rows where worn_y_hat is 0\n",
    "                X = X[X['pred_worn'] == 1]\n",
    "                y = y[y.index.isin(X.index)]\n",
    "                X = X.drop(['pred_worn'], axis=1)\n",
    "                m2.train(X, y, not_scaled=True, **args)\n",
    "                del X, y\n",
    "                gc.collect()\n",
    "\n",
    "            print(f'Start evaluating model {m2.identifier}')\n",
    "            score_value_average_precision_score_m2, score_value_recall_m2, score_value_precision_m2, f1_score_m2 = [], [], [], []\n",
    "            for validation in tqdm(batched_dataloader(batch_size=hyperparams['batch_size'], validation=True) if hyperparams['training_type'] == ModelTrainingType.BATCH else dataloader_full_dataset(validation=True), total = ceil(validation_dataset_length / hyperparams[\"batch_size\"])):\n",
    "                #validation['series_id'] = validation['series_id'].map(series_id_mapping['validation'])\n",
    "                validation_y = validation['awake']\n",
    "                validation.drop(columns_to_drop, axis=1, inplace=True)\n",
    "                #validation.drop(['wearable_on', 'awake'], axis=1, inplace=True)\n",
    "                worn_y_hat = m.predict(validation, not_scaled=True)\n",
    "                validation['pred_worn'] = worn_y_hat\n",
    "                validation = validation[validation['pred_worn'] == 1]\n",
    "                validation_y = validation_y[validation_y.index.isin(validation.index)]\n",
    "                validation = validation.drop(['pred_worn'], axis=1)\n",
    "                validation_y_hat = m2.predict(validation, not_scaled=True)\n",
    "                # this does the same as scoreFX(y, y_hat). It is wrapped in the models evaluate function.\n",
    "                # the model itself could also do the prediction if prepredicted is None\n",
    "                # then, the first argument of the evaluate function would be the X_validation data\n",
    "                score_value_average_precision_score_m2.append(m2.evaluate(None, validation_y, scoreFx=average_precision_score, not_scaled=True, prepredicted=validation_y_hat))\n",
    "                score_value_recall_m2.append(m2.evaluate(None, validation_y, scoreFx=recall_score, not_scaled=True, prepredicted=validation_y_hat))\n",
    "                score_value_precision_m2.append(m2.evaluate(None, validation_y, scoreFx=precision_score, not_scaled=True, prepredicted=validation_y_hat))\n",
    "                f1_score_m2.append(m2.evaluate(None, validation_y, scoreFx=f1_score, not_scaled=True, prepredicted=validation_y_hat))\n",
    "\n",
    "                del validation, validation_y\n",
    "\n",
    "            print(sum(score_value_average_precision_score_m2) / len(score_value_average_precision_score_m2))\n",
    "            print(sum(score_value_recall_m2) / len(score_value_recall_m2))\n",
    "            print(sum(score_value_precision_m2) / len(score_value_precision_m2))\n",
    "            print(sum(f1_score_m2) / len(f1_score_m2))\n",
    "            #  save model\n",
    "            m2.save()\n",
    "\n",
    "            break\n",
    "\n",
    "            #wandb.finish()\n",
    "    else:\n",
    "        print(\"params in the dictionary cannot be empty. Use the standard values in the dictionary for the model\", model_type.__name__)"
   ]
  },
  {
   "cell_type": "code",
   "execution_count": 23,
   "metadata": {},
   "outputs": [
    {
     "data": {
      "text/plain": [
       "1    1883839\n",
       "0      80966\n",
       "Name: count, dtype: int64"
      ]
     },
     "execution_count": 23,
     "metadata": {},
     "output_type": "execute_result"
    }
   ],
   "source": [
    "pd.DataFrame(validation_y_hat).value_counts()"
   ]
  },
  {
   "cell_type": "code",
   "execution_count": null,
   "metadata": {},
   "outputs": [],
   "source": [
    "print(sum(score_value_average_precision_score_m2) / len(score_value_average_precision_score_m2))\n",
    "print(sum(score_value_recall_m2) / len(score_value_recall_m2))\n",
    "print(sum(score_value_precision_m2) / len(score_value_precision_m2))"
   ]
  },
  {
   "cell_type": "code",
   "execution_count": null,
   "metadata": {},
   "outputs": [],
   "source": [
    "with open('models/AAAA.pkl', 'wb') as f:\n",
    "    dump(m._model, f)"
   ]
  },
  {
   "cell_type": "code",
   "execution_count": null,
   "metadata": {},
   "outputs": [],
   "source": [
    "with open('models/BBBB.pkl', 'wb') as f:\n",
    "    dump(m2._model, f)"
   ]
  },
  {
   "cell_type": "code",
   "execution_count": null,
   "metadata": {},
   "outputs": [],
   "source": [
    "m._model.feature_importances_"
   ]
  },
  {
   "cell_type": "code",
   "execution_count": 16,
   "metadata": {},
   "outputs": [],
   "source": [
    "ff = batched_dataloader(validation=True, batch_size=1)"
   ]
  },
  {
   "cell_type": "code",
   "execution_count": 17,
   "metadata": {},
   "outputs": [],
   "source": [
    "fg = next(ff)"
   ]
  },
  {
   "cell_type": "code",
   "execution_count": 18,
   "metadata": {},
   "outputs": [],
   "source": [
    "fg.drop(columns_to_drop, axis=1, inplace=True)"
   ]
  },
  {
   "cell_type": "code",
   "execution_count": null,
   "metadata": {},
   "outputs": [],
   "source": [
    "fg['pred_worn'] = 0"
   ]
  },
  {
   "cell_type": "code",
   "execution_count": 19,
   "metadata": {},
   "outputs": [
    {
     "data": {
      "text/plain": [
       "Index(['anglez', 'enmo', 'hour', 'minute', 'day', 'month',\n",
       "       'anglez_rolling_mean_5', 'anglez_rolling_max_5', 'anglez_rolling_std_5',\n",
       "       'anglez_diff_5', 'anglez_diff_rolling_mean_5',\n",
       "       'anglez_diff_rolling_max_5', 'anglez_diff_rolling_std_5',\n",
       "       'anglez_rolling_mean_30', 'anglez_rolling_max_30',\n",
       "       'anglez_rolling_std_30', 'anglez_diff_30',\n",
       "       'anglez_diff_rolling_mean_30', 'anglez_diff_rolling_max_30',\n",
       "       'anglez_diff_rolling_std_30', 'anglez_rolling_mean_120',\n",
       "       'anglez_rolling_max_120', 'anglez_rolling_std_120', 'anglez_diff_120',\n",
       "       'anglez_diff_rolling_mean_120', 'anglez_diff_rolling_max_120',\n",
       "       'anglez_diff_rolling_std_120', 'anglez_rolling_mean_480',\n",
       "       'anglez_rolling_max_480', 'anglez_rolling_std_480', 'anglez_diff_480',\n",
       "       'anglez_diff_rolling_mean_480', 'anglez_diff_rolling_max_480',\n",
       "       'anglez_diff_rolling_std_480', 'enmo_rolling_mean_1',\n",
       "       'enmo_rolling_mean_5', 'enmo_rolling_max_5', 'enmo_rolling_std_5',\n",
       "       'enmo_diff_5', 'enmo_diff_rolling_mean_5', 'enmo_diff_rolling_max_5',\n",
       "       'enmo_diff_rolling_std_5', 'enmo_rolling_mean_30',\n",
       "       'enmo_rolling_max_30', 'enmo_rolling_std_30', 'enmo_diff_30',\n",
       "       'enmo_diff_rolling_mean_30', 'enmo_diff_rolling_max_30',\n",
       "       'enmo_diff_rolling_std_30', 'enmo_rolling_mean_120',\n",
       "       'enmo_rolling_max_120', 'enmo_rolling_std_120', 'enmo_diff_120',\n",
       "       'enmo_diff_rolling_mean_120', 'enmo_diff_rolling_max_120',\n",
       "       'enmo_diff_rolling_std_120', 'enmo_rolling_mean_480',\n",
       "       'enmo_rolling_max_480', 'enmo_rolling_std_480', 'enmo_diff_480',\n",
       "       'enmo_diff_rolling_mean_480', 'enmo_diff_rolling_max_480',\n",
       "       'enmo_diff_rolling_std_480'],\n",
       "      dtype='object')"
      ]
     },
     "execution_count": 19,
     "metadata": {},
     "output_type": "execute_result"
    }
   ],
   "source": [
    "fg.columns\n"
   ]
  },
  {
   "cell_type": "code",
   "execution_count": 20,
   "metadata": {},
   "outputs": [
    {
     "data": {
      "text/plain": [
       "[('anglez_diff_rolling_max_480', 0.0874),\n",
       " ('anglez_diff_rolling_std_480', 0.0665),\n",
       " ('anglez_rolling_max_480', 0.0639),\n",
       " ('anglez_rolling_std_480', 0.0582),\n",
       " ('month', 0.0502),\n",
       " ('enmo_diff_rolling_std_480', 0.0475),\n",
       " ('enmo_rolling_max_480', 0.0442),\n",
       " ('anglez_diff_rolling_std_120', 0.0404),\n",
       " ('day', 0.0396),\n",
       " ('anglez_rolling_std_120', 0.0388),\n",
       " ('enmo_diff_rolling_max_480', 0.0366),\n",
       " ('anglez_diff_rolling_max_120', 0.0328),\n",
       " ('anglez_rolling_max_120', 0.0309),\n",
       " ('anglez_rolling_mean_480', 0.0301),\n",
       " ('enmo_rolling_std_480', 0.0266),\n",
       " ('anglez_diff_rolling_std_30', 0.0224),\n",
       " ('anglez_diff_rolling_mean_480', 0.0205),\n",
       " ('enmo_diff_rolling_mean_480', 0.0198),\n",
       " ('enmo_rolling_mean_480', 0.0185),\n",
       " ('enmo_rolling_max_120', 0.0176),\n",
       " ('enmo_diff_rolling_std_120', 0.0166),\n",
       " ('anglez_rolling_mean_120', 0.0164),\n",
       " ('enmo_diff_rolling_max_120', 0.0157),\n",
       " ('anglez_rolling_std_30', 0.0135),\n",
       " ('enmo_rolling_std_120', 0.0135),\n",
       " ('enmo_rolling_mean_120', 0.0129),\n",
       " ('hour', 0.012),\n",
       " ('anglez_rolling_max_30', 0.0093),\n",
       " ('enmo_diff_rolling_mean_120', 0.0079),\n",
       " ('anglez_diff_rolling_max_30', 0.0078),\n",
       " ('enmo_diff_rolling_std_30', 0.0074),\n",
       " ('anglez_diff_rolling_mean_120', 0.0073),\n",
       " ('anglez_rolling_mean_30', 0.0068),\n",
       " ('enmo_rolling_mean_30', 0.0067),\n",
       " ('enmo_rolling_max_30', 0.0061),\n",
       " ('enmo_rolling_std_30', 0.0044),\n",
       " ('enmo_diff_rolling_max_30', 0.004),\n",
       " ('anglez_diff_rolling_std_5', 0.0037),\n",
       " ('anglez_rolling_mean_5', 0.0033),\n",
       " ('anglez_rolling_max_5', 0.0032),\n",
       " ('enmo_rolling_mean_5', 0.003),\n",
       " ('anglez_rolling_std_5', 0.0028),\n",
       " ('anglez', 0.0025),\n",
       " ('enmo_rolling_mean_1', 0.0023),\n",
       " ('enmo', 0.0022),\n",
       " ('enmo_rolling_max_5', 0.0021),\n",
       " ('anglez_diff_480', 0.0019),\n",
       " ('enmo_diff_480', 0.0017),\n",
       " ('enmo_diff_rolling_mean_30', 0.0016),\n",
       " ('anglez_diff_rolling_mean_30', 0.0015),\n",
       " ('enmo_rolling_std_5', 0.0012),\n",
       " ('enmo_diff_rolling_std_5', 0.0012),\n",
       " ('anglez_diff_120', 0.0011),\n",
       " ('anglez_diff_rolling_max_5', 0.001),\n",
       " ('enmo_diff_120', 0.0008),\n",
       " ('anglez_diff_30', 0.0006),\n",
       " ('enmo_diff_rolling_max_5', 0.0004),\n",
       " ('minute', 0.0003),\n",
       " ('enmo_diff_30', 0.0003),\n",
       " ('anglez_diff_rolling_mean_5', 0.0002),\n",
       " ('anglez_diff_5', 0.0001),\n",
       " ('enmo_diff_5', 0.0001),\n",
       " ('enmo_diff_rolling_mean_5', 0.0001)]"
      ]
     },
     "execution_count": 20,
     "metadata": {},
     "output_type": "execute_result"
    }
   ],
   "source": [
    "sorted(list(zip(fg.columns, m._model.feature_importances_.round(4))), key=lambda x: x[1], reverse=True)"
   ]
  },
  {
   "cell_type": "code",
   "execution_count": null,
   "metadata": {},
   "outputs": [],
   "source": [
    "raise ValueError('test')"
   ]
  },
  {
   "cell_type": "markdown",
   "metadata": {},
   "source": [
    "1. add output of the **BEST** model 1 to train dataset -> [pred_wearable_on] -> must be saved to disk in batches!!!\n",
    "2. feed the new training to the second model\n",
    "   1. x of the second model is == ALL but X = batch.drop(['wearable_on', 'awake', 'wakeup', 'onset'], axis=1)\n",
    "   2. y of the second model is y = batch['awake']\n",
    "\n",
    "- Do not forget to map the series ID\n",
    "- All values where pred_wearable_on == 0 must be dropped from the traning set for the second model...\n",
    "  this can be done by adding a filter to the parquet reader like so:\n",
    "  ```python\n",
    "  table = pq.read_table(\"example.parquet\",\n",
    "                      columns=[\"col1\"],\n",
    "                      filters=[\n",
    "                          (\"col1\", \">\", 5),\n",
    "                          (\"col1\", \"<\", 10),\n",
    "                      ])\n",
    "  ```\n",
    "\n",
    "\n",
    "1. the output of the **BEST** second model [pred_awake] must be passed through the heuristics fx alongside with.\n",
    "   1. the following datafields ['series_id', 'ALL TIME FIELDS', 'pred_awake, ??? others???] \n"
   ]
  },
  {
   "cell_type": "code",
   "execution_count": null,
   "metadata": {},
   "outputs": [],
   "source": []
  },
  {
   "cell_type": "code",
   "execution_count": null,
   "metadata": {},
   "outputs": [],
   "source": []
  },
  {
   "cell_type": "code",
   "execution_count": null,
   "metadata": {},
   "outputs": [],
   "source": []
  },
  {
   "cell_type": "code",
   "execution_count": null,
   "metadata": {},
   "outputs": [],
   "source": [
    "#TODO: https://arrow.apache.org/cookbook/py/io.html#id11\n",
    "# for splitted files "
   ]
  }
 ],
 "metadata": {
  "kernelspec": {
   "display_name": "aich",
   "language": "python",
   "name": "python3"
  },
  "language_info": {
   "codemirror_mode": {
    "name": "ipython",
    "version": 3
   },
   "file_extension": ".py",
   "mimetype": "text/x-python",
   "name": "python",
   "nbconvert_exporter": "python",
   "pygments_lexer": "ipython3",
   "version": "3.11.4"
  },
  "orig_nbformat": 4
 },
 "nbformat": 4,
 "nbformat_minor": 2
}
