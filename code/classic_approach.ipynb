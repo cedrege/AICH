{
 "cells": [
  {
   "cell_type": "markdown",
   "metadata": {},
   "source": [
    "# Notebook to solve the kaggle competition \"Child Mind Institute - Detect Sleep States\"\n",
    "Link to the competition: https://www.kaggle.com/competitions/child-mind-institute-detect-sleep-states\n",
    "\n",
    "\n",
    "### Install packages"
   ]
  },
  {
   "cell_type": "code",
   "execution_count": 1,
   "metadata": {},
   "outputs": [
    {
     "name": "stdout",
     "output_type": "stream",
     "text": [
      "Requirement already satisfied: matplotlib in f:\\venv\\aich\\lib\\site-packages (3.8.0)\n",
      "Requirement already satisfied: plotly in f:\\venv\\aich\\lib\\site-packages (5.17.0)\n",
      "Requirement already satisfied: pandas in f:\\venv\\aich\\lib\\site-packages (2.1.1)\n",
      "Requirement already satisfied: numpy in f:\\venv\\aich\\lib\\site-packages (1.24.1)\n",
      "Requirement already satisfied: tqdm in f:\\venv\\aich\\lib\\site-packages (4.66.1)\n",
      "Requirement already satisfied: scikit-learn in f:\\venv\\aich\\lib\\site-packages (1.3.1)\n",
      "Requirement already satisfied: pyarrow in f:\\venv\\aich\\lib\\site-packages (13.0.0)\n",
      "Requirement already satisfied: contourpy>=1.0.1 in f:\\venv\\aich\\lib\\site-packages (from matplotlib) (1.1.1)\n",
      "Requirement already satisfied: cycler>=0.10 in f:\\venv\\aich\\lib\\site-packages (from matplotlib) (0.12.0)\n",
      "Requirement already satisfied: fonttools>=4.22.0 in f:\\venv\\aich\\lib\\site-packages (from matplotlib) (4.43.0)\n",
      "Requirement already satisfied: kiwisolver>=1.0.1 in f:\\venv\\aich\\lib\\site-packages (from matplotlib) (1.4.5)\n",
      "Requirement already satisfied: packaging>=20.0 in f:\\venv\\aich\\lib\\site-packages (from matplotlib) (23.1)\n",
      "Requirement already satisfied: pillow>=6.2.0 in f:\\venv\\aich\\lib\\site-packages (from matplotlib) (9.3.0)\n",
      "Requirement already satisfied: pyparsing>=2.3.1 in f:\\venv\\aich\\lib\\site-packages (from matplotlib) (3.1.1)\n",
      "Requirement already satisfied: python-dateutil>=2.7 in f:\\venv\\aich\\lib\\site-packages (from matplotlib) (2.8.2)\n",
      "Requirement already satisfied: tenacity>=6.2.0 in f:\\venv\\aich\\lib\\site-packages (from plotly) (8.2.3)\n",
      "Requirement already satisfied: pytz>=2020.1 in f:\\venv\\aich\\lib\\site-packages (from pandas) (2023.3.post1)\n",
      "Requirement already satisfied: tzdata>=2022.1 in f:\\venv\\aich\\lib\\site-packages (from pandas) (2023.3)\n",
      "Requirement already satisfied: colorama in f:\\venv\\aich\\lib\\site-packages (from tqdm) (0.4.6)\n",
      "Requirement already satisfied: scipy>=1.5.0 in f:\\venv\\aich\\lib\\site-packages (from scikit-learn) (1.11.3)\n",
      "Requirement already satisfied: joblib>=1.1.1 in f:\\venv\\aich\\lib\\site-packages (from scikit-learn) (1.3.2)\n",
      "Requirement already satisfied: threadpoolctl>=2.0.0 in f:\\venv\\aich\\lib\\site-packages (from scikit-learn) (3.2.0)\n",
      "Requirement already satisfied: six>=1.5 in f:\\venv\\aich\\lib\\site-packages (from python-dateutil>=2.7->matplotlib) (1.16.0)\n",
      "Note: you may need to restart the kernel to use updated packages.\n"
     ]
    },
    {
     "name": "stderr",
     "output_type": "stream",
     "text": [
      "\n",
      "[notice] A new release of pip is available: 23.1.2 -> 23.3.1\n",
      "[notice] To update, run: python.exe -m pip install --upgrade pip\n"
     ]
    }
   ],
   "source": [
    "%pip install matplotlib plotly pandas numpy tqdm scikit-learn pyarrow"
   ]
  },
  {
   "cell_type": "markdown",
   "metadata": {},
   "source": [
    "### Imports"
   ]
  },
  {
   "cell_type": "code",
   "execution_count": 2,
   "metadata": {},
   "outputs": [],
   "source": [
    "from itertools import product\n",
    "from tqdm import tqdm\n",
    "from score import score\n",
    "#from sklearn.svm import SVC\n",
    "#from sklearn.neighbors import KNeighborsClassifier\n",
    "from sklearn.ensemble import RandomForestClassifier\n",
    "from sklearn.preprocessing import StandardScaler\n",
    "from sklearn.metrics import recall_score, precision_score, average_precision_score\n",
    "import wandb\n",
    "from abc import ABC, abstractmethod #, classmethod\n",
    "import os\n",
    "from pathlib import Path\n",
    "from pickle import dump, load\n",
    "from custom_enums import ModelTrainingType\n",
    "import pandas as pd\n",
    "import pyarrow.parquet as pq\n",
    "import pyarrow.dataset as ds\n",
    "import gc"
   ]
  },
  {
   "cell_type": "code",
   "execution_count": 3,
   "metadata": {},
   "outputs": [],
   "source": [
    "\n",
    "# wandb.login() requires you to get your API key from your account settings\n",
    "# open the weights and biases website https://wandb.ai/login and login to your account\n",
    "# then go to your account settings and copy the API key\n",
    "# paste it in the input box and hit enter\n",
    "\n",
    "#wandb.login() #TODO: uncomment this line to login to your account"
   ]
  },
  {
   "cell_type": "code",
   "execution_count": 4,
   "metadata": {},
   "outputs": [],
   "source": [
    "# # start a new wandb run to track this script\n",
    "# wandb.init(\n",
    "#     # set the wandb project where this run will be logged\n",
    "#     project=\"my-awesome-project\",\n",
    "    \n",
    "#     # track hyperparameters and run metadata\n",
    "#     config={\n",
    "#     \"learning_rate\": 0.02,\n",
    "#     \"architecture\": \"CNN\",\n",
    "#     \"dataset\": \"CIFAR-100\",\n",
    "#     \"epochs\": 10,\n",
    "#     }\n",
    "# )"
   ]
  },
  {
   "cell_type": "markdown",
   "metadata": {},
   "source": [
    "To be able to switch between different models from different libraries at a glance, we implement an interface called `IPipelineRequirements`. This allows us to make the pipleine even more robust and easier to extend upon. "
   ]
  },
  {
   "cell_type": "code",
   "execution_count": 5,
   "metadata": {},
   "outputs": [],
   "source": [
    "class IPipelineRequirements(ABC):\n",
    "    @abstractmethod\n",
    "    def train(self):\n",
    "        pass\n",
    "\n",
    "    @abstractmethod\n",
    "    def predict(self):\n",
    "        pass\n",
    "\n",
    "    @abstractmethod\n",
    "    def save(self):\n",
    "        pass\n",
    "\n",
    "    @abstractmethod\n",
    "    def load(self):\n",
    "        pass\n",
    "\n",
    "    @abstractmethod\n",
    "    def evaluate(self):\n",
    "        pass"
   ]
  },
  {
   "cell_type": "markdown",
   "metadata": {},
   "source": [
    "Our first model is the baseline model, which just takes the mean over all onset and wakeup times and tries to predict `onset` and `wakeup` events with the calculated time."
   ]
  },
  {
   "cell_type": "code",
   "execution_count": 6,
   "metadata": {},
   "outputs": [],
   "source": [
    "class BaselineModel(IPipelineRequirements):\n",
    "    def __init__(self):\n",
    "        pass\n",
    "\n",
    "    def train(self):\n",
    "        raise NotImplementedError(\"Please Implement this method\")\n",
    "\n",
    "    def predict(self):\n",
    "        raise NotImplementedError(\"Please Implement this method\")\n",
    "\n",
    "    def save(self):\n",
    "        raise NotImplementedError(\"Please Implement this method\")\n",
    "\n",
    "    def load(self):\n",
    "        raise NotImplementedError(\"Please Implement this method\")\n",
    "\n",
    "    def evaluate(self):\n",
    "        raise NotImplementedError(\"Please Implement this method\")"
   ]
  },
  {
   "cell_type": "code",
   "execution_count": 7,
   "metadata": {},
   "outputs": [],
   "source": [
    "g = BaselineModel()"
   ]
  },
  {
   "cell_type": "code",
   "execution_count": null,
   "metadata": {},
   "outputs": [],
   "source": []
  },
  {
   "cell_type": "markdown",
   "metadata": {},
   "source": [
    "Numerous studies have concentrated on applications using `RandomForest`. The primary motivation for this preference is the model's inherent transparency in decision-making processes, which are readily identifiable in such models. Subsequent to the BaselineModel, efforts have been made to abstract models from the Scikit-learn library. Fortunately, the majority of models within their API exhibit consistent implementation patterns, facilitating their integration into the processing pipeline."
   ]
  },
  {
   "cell_type": "code",
   "execution_count": 8,
   "metadata": {},
   "outputs": [],
   "source": [
    "class SkLearnModel(IPipelineRequirements):\n",
    "\n",
    "    def __init__(self, model_path):\n",
    "        self.load(model_path)\n",
    "\n",
    "    def __init__(self, model, identifier, scaler=StandardScaler, sk_model_params=None):\n",
    "        self._model = model\n",
    "        self._scaler = scaler if not callable(scaler) else scaler() # if scaler is a classpointer, instantiate it\n",
    "        self.identifier = identifier\n",
    "        self._model_params = sk_model_params\n",
    "\n",
    "    def train(self, X, y, not_scaled=False, **kwargs):\n",
    "        if not_scaled:\n",
    "            X = self._scaler.transform(X)\n",
    "\n",
    "        # due to the big dataset we need to check wich model was instantiated and do some model\n",
    "        # specific stuff to enable us to train the model in batches\n",
    "        if isinstance(self._model, RandomForestClassifier):\n",
    "            new_estimators = kwargs['add_estimators'] if 'add_estimators' in kwargs else 50\n",
    "            if self._model.warm_start: self._model.n_estimators += new_estimators\n",
    "            #print(f'Current estimator increased to {self._model.n_estimators}, {new_estimators} added this round.')\n",
    "        # if isinstance(self._model, SVC):\n",
    "        #     pass\n",
    "\n",
    "        self._model.fit(X, y)\n",
    "\n",
    "    def predict(self, X, not_scaled=False):\n",
    "        if not self._model: raise ValueError('Please load or train a model first.')\n",
    "        if not_scaled:\n",
    "            if not self._scaler: raise ValueError('Please load or fit a scaler first.')\n",
    "            X = self._scaler.transform(X)\n",
    "        return self._model.predict(X)\n",
    "\n",
    "    def save(self):\n",
    "        try:\n",
    "            Path.mkdir(Path('models'), exist_ok=False)\n",
    "            with open(f'models/model_{self.identifier}.pkl', 'wb') as f:\n",
    "                dump(self._model, f)\n",
    "            with open(f'models/scaler_{self.identifier}.pkl', 'wb') as f:\n",
    "                dump(self._scaler, f)\n",
    "        except:\n",
    "            raise ValueError('Unable to save model and scaler.')\n",
    "\n",
    "    def load(self, filepath):\n",
    "        try:\n",
    "            # load model and scaler\n",
    "            if os.path.isfile(filepath):\n",
    "                print(f'Loading model from {filepath}')\n",
    "                with open(filepath, 'rb') as f:\n",
    "                    self._model = load(f)\n",
    "            scaler_path = f'{os.path.split(filepath)[0]}/scaler_{os.path.split(filepath)[1].split(\".\")[0].split(\"_\")[1]}.pkl'\n",
    "            if os.path.isfile(scaler_path):\n",
    "                print(f'Loading scaler from {scaler_path}')\n",
    "                with open(filepath, 'rb') as f:\n",
    "                    self._scaler = load(f)\n",
    "\n",
    "            # extract identifier from filename\n",
    "            self._identifier = filepath.split('_')[1].split('.')[0]\n",
    "        except (FileNotFoundError) as e:\n",
    "                print(f'File {e} not found')\n",
    "                raise ValueError('Filepath is not valid. Unable to load model and scaler.')\n",
    "        except (IndexError) as e:\n",
    "                print(f'The name of the file does not implement the convention \"<model|scaler>_<some identifier>\".')\n",
    "                raise ValueError('Filepath is not valid. Unable to load model and scaler.')\n",
    "        except (Exception) as e:\n",
    "            print(f'Something went wrong. {e}')\n",
    "            raise ValueError('Unknown Error.')\n",
    "\n",
    "    def evaluate(self, X, y, scoreFx=None, not_scaled=False, prepredicted=None):\n",
    "        if not scoreFx:\n",
    "            raise ValueError('Please provide a score function.')\n",
    "        if not self._model:\n",
    "            raise ValueError('Please load or train a model first.')\n",
    "        if not_scaled and prepredicted == None:\n",
    "            if not self._scaler: raise ValueError('Please load or fit a scaler first.')\n",
    "            X = self._scaler.transform(X)\n",
    "            \n",
    "        #TODO: Does score FX require an array of predictions or a single prediction?\n",
    "        #TODO: TEST PARAMS OF SCORE FX!!!!\n",
    "        return scoreFx(y, prepredicted if prepredicted != None else self._model.predict(X))"
   ]
  },
  {
   "cell_type": "markdown",
   "metadata": {},
   "source": [
    "### Heuristics method to get the right event under the constraints given by Child Mind Institue\n",
    "\n",
    "* A single sleep period must be at least 30 minutes in length\n",
    "* A single sleep period can be interrupted by bouts of activity that do not exceed 30 consecutive minutes\n",
    "* No sleep windows can be detected unless the watch is deemed to be worn for the duration (elaborated upon, below)\n",
    "* The longest sleep window during the night is the only one which is recorded\n",
    "* If no valid sleep window is identifiable, neither an onset nor a wakeup event is recorded for that night.\n",
    "* Sleep events do not need to straddle the day-line, and therefore there is no hard rule defining how many may occur within a given period. However, no more than one window should be assigned per night. For example, it is valid for an individual to have a sleep window from 01h00–06h00 and 19h00–23h30 in the same calendar day, though assigned to consecutive nights\n",
    "* There are roughly as many nights recorded for a series as there are 24-hour periods in that series."
   ]
  },
  {
   "cell_type": "code",
   "execution_count": 9,
   "metadata": {},
   "outputs": [],
   "source": [
    "def heuristic_filter(data):\n",
    "    pass"
   ]
  },
  {
   "cell_type": "markdown",
   "metadata": {},
   "source": [
    "### Import the training and the validation data"
   ]
  },
  {
   "cell_type": "code",
   "execution_count": 10,
   "metadata": {},
   "outputs": [
    {
     "ename": "ValueError",
     "evalue": "test",
     "output_type": "error",
     "traceback": [
      "\u001b[1;31m---------------------------------------------------------------------------\u001b[0m",
      "\u001b[1;31mValueError\u001b[0m                                Traceback (most recent call last)",
      "\u001b[1;32mf:\\git\\AICH\\code\\classic_approach.ipynb Cell 18\u001b[0m line \u001b[0;36m1\n\u001b[1;32m----> <a href='vscode-notebook-cell:/f%3A/git/AICH/code/classic_approach.ipynb#X35sZmlsZQ%3D%3D?line=0'>1</a>\u001b[0m \u001b[39mraise\u001b[39;00m(\u001b[39mValueError\u001b[39;00m(\u001b[39m'\u001b[39m\u001b[39mtest\u001b[39m\u001b[39m'\u001b[39m))\n",
      "\u001b[1;31mValueError\u001b[0m: test"
     ]
    }
   ],
   "source": [
    "raise(ValueError('test'))"
   ]
  },
  {
   "cell_type": "code",
   "execution_count": 11,
   "metadata": {},
   "outputs": [],
   "source": [
    "NEW_TRAIN_DATA = '../data/train/'\n",
    "NEW_VALIDATION_DATA = '../data/val/'\n",
    "TRAIN_DATA = '../data/train_20231021'\n",
    "#TRAIN_DATA = '../data/train_20231021_20M'\n",
    "VALIDATION_DATA = '../data/validation_20231021'\n",
    "\n",
    "# figure out series id mapping\n",
    "if not 'series_id_mapping' in vars():\n",
    "    series_id_mapping = {'train': dict(), 'validation': dict()}\n",
    "    t = ds.dataset(NEW_TRAIN_DATA).to_table(columns=['series_id'])\n",
    "    #t = pq.ParquetDataset(TRAIN_DATA).read(columns=['series_id'])\n",
    "    for i, data in enumerate(t.to_pandas()['series_id'].unique()):\n",
    "        series_id_mapping['train'][data] = i\n",
    "    #v = pq.ParquetDataset(VALIDATION_DATA).read(columns=['series_id'])\n",
    "    v = ds.dataset(NEW_VALIDATION_DATA).to_table(columns=['series_id'])\n",
    "    for i, data in enumerate(v.to_pandas()['series_id'].unique()):\n",
    "        series_id_mapping['validation'][data] = i\n",
    "    del t, v\n",
    "    gc.collect()\n",
    "\n",
    "#train_dataset_length = pq.ParquetFile(TRAIN_DATA).metadata.num_rows\n",
    "train_dataset_length = ds.dataset(NEW_TRAIN_DATA).count_rows()\n",
    "\n",
    "def dataloader_full_dataset(validation=False):\n",
    "    return pd.read_parquet(VALIDATION_DATA if validation else TRAIN_DATA)\n",
    "\n",
    "def dataloader(validation=False, batch_size=5_000_000):\n",
    "    parquet_file = pq.ParquetFile(VALIDATION_DATA if validation else TRAIN_DATA)\n",
    "    for i in parquet_file.iter_batches(batch_size=batch_size):\n",
    "        yield i.to_pandas()\n",
    "\n",
    "def batched_dataloader(validation=False, batch_size=100_000):\n",
    "    dataset = ds.dataset(NEW_VALIDATION_DATA if validation else NEW_TRAIN_DATA)\n",
    "    for fragment in dataset.get_fragments():\n",
    "        batches = fragment.to_batches(batch_size=batch_size) # https://arrow.apache.org/docs/python/generated/pyarrow.dataset.Fragment.html#pyarrow.dataset.Fragment.to_batches\n",
    "        for batch in batches:\n",
    "            yield batch.to_pandas()\n",
    "            del batch\n",
    "        del fragment\n"
   ]
  },
  {
   "cell_type": "markdown",
   "metadata": {},
   "source": [
    "### Run the pipeline"
   ]
  },
  {
   "cell_type": "code",
   "execution_count": 12,
   "metadata": {},
   "outputs": [
    {
     "name": "stdout",
     "output_type": "stream",
     "text": [
      "Model will be traind in batches of 300000 samples.\n",
      "Dataset contains 102937860 samples. 343 batches will be used when fitting the model.\n",
      "At the end 1000 estimators will be fitted. That means, 2 estimators per batch.\n",
      "Start training model randomforestclassifier-n_estimators__1000-max_depth__20-random_state__0-warm_start__true\n"
     ]
    },
    {
     "name": "stderr",
     "output_type": "stream",
     "text": [
      "347it [08:30,  1.47s/it]                         \n"
     ]
    },
    {
     "name": "stdout",
     "output_type": "stream",
     "text": [
      "Start evaluating model randomforestclassifier-n_estimators__1000-max_depth__20-random_state__0-warm_start__true\n"
     ]
    },
    {
     "ename": "ValueError",
     "evalue": "The feature names should match those that were passed during fit.\nFeature names unseen at fit time:\n- seconds_from_midnight\nFeature names seen at fit time, yet now missing:\n- anglez_abs\n- anglez_diff_12\n- anglez_diff_60\n- anglez_diff_rolling_25th_percentile_12\n- anglez_diff_rolling_25th_percentile_60\n- ...\n",
     "output_type": "error",
     "traceback": [
      "\u001b[1;31m---------------------------------------------------------------------------\u001b[0m",
      "\u001b[1;31mValueError\u001b[0m                                Traceback (most recent call last)",
      "\u001b[1;32mf:\\git\\AICH\\code\\classic_approach.ipynb Cell 21\u001b[0m line \u001b[0;36m1\n\u001b[0;32m    <a href='vscode-notebook-cell:/f%3A/git/AICH/code/classic_approach.ipynb#X41sZmlsZQ%3D%3D?line=113'>114</a>\u001b[0m validation_y \u001b[39m=\u001b[39m validation[\u001b[39m'\u001b[39m\u001b[39mwearable_on\u001b[39m\u001b[39m'\u001b[39m]\n\u001b[0;32m    <a href='vscode-notebook-cell:/f%3A/git/AICH/code/classic_approach.ipynb#X41sZmlsZQ%3D%3D?line=114'>115</a>\u001b[0m validation\u001b[39m.\u001b[39mdrop([\u001b[39m'\u001b[39m\u001b[39mwearable_on\u001b[39m\u001b[39m'\u001b[39m, \u001b[39m'\u001b[39m\u001b[39mawake\u001b[39m\u001b[39m'\u001b[39m, \u001b[39m'\u001b[39m\u001b[39mwakeup\u001b[39m\u001b[39m'\u001b[39m, \u001b[39m'\u001b[39m\u001b[39monset\u001b[39m\u001b[39m'\u001b[39m], axis\u001b[39m=\u001b[39m\u001b[39m1\u001b[39m, inplace\u001b[39m=\u001b[39m\u001b[39mTrue\u001b[39;00m)\n\u001b[1;32m--> <a href='vscode-notebook-cell:/f%3A/git/AICH/code/classic_approach.ipynb#X41sZmlsZQ%3D%3D?line=115'>116</a>\u001b[0m validation_y_hat \u001b[39m=\u001b[39m m\u001b[39m.\u001b[39;49mpredict(validation, not_scaled\u001b[39m=\u001b[39;49m\u001b[39mFalse\u001b[39;49;00m)\n\u001b[0;32m    <a href='vscode-notebook-cell:/f%3A/git/AICH/code/classic_approach.ipynb#X41sZmlsZQ%3D%3D?line=116'>117</a>\u001b[0m \u001b[39m# this does the same as scoreFX(y, y_hat). It is wrapped in the models evaluate function.\u001b[39;00m\n\u001b[0;32m    <a href='vscode-notebook-cell:/f%3A/git/AICH/code/classic_approach.ipynb#X41sZmlsZQ%3D%3D?line=117'>118</a>\u001b[0m \u001b[39m# the model itself could also do the prediction if prepredicted is None\u001b[39;00m\n\u001b[0;32m    <a href='vscode-notebook-cell:/f%3A/git/AICH/code/classic_approach.ipynb#X41sZmlsZQ%3D%3D?line=118'>119</a>\u001b[0m \u001b[39m# then, the first argument of the evaluate function would be the X_validation data\u001b[39;00m\n\u001b[0;32m    <a href='vscode-notebook-cell:/f%3A/git/AICH/code/classic_approach.ipynb#X41sZmlsZQ%3D%3D?line=119'>120</a>\u001b[0m score_value_average_precision_score \u001b[39m=\u001b[39m m\u001b[39m.\u001b[39mevaluate(\u001b[39mNone\u001b[39;00m, validation_y, scoreFx\u001b[39m=\u001b[39maverage_precision_score, not_scaled\u001b[39m=\u001b[39m\u001b[39mFalse\u001b[39;00m, prepredicted\u001b[39m=\u001b[39mvalidation_y_hat)\n",
      "\u001b[1;32mf:\\git\\AICH\\code\\classic_approach.ipynb Cell 21\u001b[0m line \u001b[0;36m3\n\u001b[0;32m     <a href='vscode-notebook-cell:/f%3A/git/AICH/code/classic_approach.ipynb#X41sZmlsZQ%3D%3D?line=29'>30</a>\u001b[0m     \u001b[39mif\u001b[39;00m \u001b[39mnot\u001b[39;00m \u001b[39mself\u001b[39m\u001b[39m.\u001b[39m_scaler: \u001b[39mraise\u001b[39;00m \u001b[39mValueError\u001b[39;00m(\u001b[39m'\u001b[39m\u001b[39mPlease load or fit a scaler first.\u001b[39m\u001b[39m'\u001b[39m)\n\u001b[0;32m     <a href='vscode-notebook-cell:/f%3A/git/AICH/code/classic_approach.ipynb#X41sZmlsZQ%3D%3D?line=30'>31</a>\u001b[0m     X \u001b[39m=\u001b[39m \u001b[39mself\u001b[39m\u001b[39m.\u001b[39m_scaler\u001b[39m.\u001b[39mtransform(X)\n\u001b[1;32m---> <a href='vscode-notebook-cell:/f%3A/git/AICH/code/classic_approach.ipynb#X41sZmlsZQ%3D%3D?line=31'>32</a>\u001b[0m \u001b[39mreturn\u001b[39;00m \u001b[39mself\u001b[39;49m\u001b[39m.\u001b[39;49m_model\u001b[39m.\u001b[39;49mpredict(X)\n",
      "File \u001b[1;32mf:\\venv\\AICH\\Lib\\site-packages\\sklearn\\ensemble\\_forest.py:823\u001b[0m, in \u001b[0;36mForestClassifier.predict\u001b[1;34m(self, X)\u001b[0m\n\u001b[0;32m    802\u001b[0m \u001b[39mdef\u001b[39;00m \u001b[39mpredict\u001b[39m(\u001b[39mself\u001b[39m, X):\n\u001b[0;32m    803\u001b[0m \u001b[39m    \u001b[39m\u001b[39m\"\"\"\u001b[39;00m\n\u001b[0;32m    804\u001b[0m \u001b[39m    Predict class for X.\u001b[39;00m\n\u001b[0;32m    805\u001b[0m \n\u001b[1;32m   (...)\u001b[0m\n\u001b[0;32m    821\u001b[0m \u001b[39m        The predicted classes.\u001b[39;00m\n\u001b[0;32m    822\u001b[0m \u001b[39m    \"\"\"\u001b[39;00m\n\u001b[1;32m--> 823\u001b[0m     proba \u001b[39m=\u001b[39m \u001b[39mself\u001b[39;49m\u001b[39m.\u001b[39;49mpredict_proba(X)\n\u001b[0;32m    825\u001b[0m     \u001b[39mif\u001b[39;00m \u001b[39mself\u001b[39m\u001b[39m.\u001b[39mn_outputs_ \u001b[39m==\u001b[39m \u001b[39m1\u001b[39m:\n\u001b[0;32m    826\u001b[0m         \u001b[39mreturn\u001b[39;00m \u001b[39mself\u001b[39m\u001b[39m.\u001b[39mclasses_\u001b[39m.\u001b[39mtake(np\u001b[39m.\u001b[39margmax(proba, axis\u001b[39m=\u001b[39m\u001b[39m1\u001b[39m), axis\u001b[39m=\u001b[39m\u001b[39m0\u001b[39m)\n",
      "File \u001b[1;32mf:\\venv\\AICH\\Lib\\site-packages\\sklearn\\ensemble\\_forest.py:865\u001b[0m, in \u001b[0;36mForestClassifier.predict_proba\u001b[1;34m(self, X)\u001b[0m\n\u001b[0;32m    863\u001b[0m check_is_fitted(\u001b[39mself\u001b[39m)\n\u001b[0;32m    864\u001b[0m \u001b[39m# Check data\u001b[39;00m\n\u001b[1;32m--> 865\u001b[0m X \u001b[39m=\u001b[39m \u001b[39mself\u001b[39;49m\u001b[39m.\u001b[39;49m_validate_X_predict(X)\n\u001b[0;32m    867\u001b[0m \u001b[39m# Assign chunk of trees to jobs\u001b[39;00m\n\u001b[0;32m    868\u001b[0m n_jobs, _, _ \u001b[39m=\u001b[39m _partition_estimators(\u001b[39mself\u001b[39m\u001b[39m.\u001b[39mn_estimators, \u001b[39mself\u001b[39m\u001b[39m.\u001b[39mn_jobs)\n",
      "File \u001b[1;32mf:\\venv\\AICH\\Lib\\site-packages\\sklearn\\ensemble\\_forest.py:599\u001b[0m, in \u001b[0;36mBaseForest._validate_X_predict\u001b[1;34m(self, X)\u001b[0m\n\u001b[0;32m    596\u001b[0m \u001b[39m\u001b[39m\u001b[39m\"\"\"\u001b[39;00m\n\u001b[0;32m    597\u001b[0m \u001b[39mValidate X whenever one tries to predict, apply, predict_proba.\"\"\"\u001b[39;00m\n\u001b[0;32m    598\u001b[0m check_is_fitted(\u001b[39mself\u001b[39m)\n\u001b[1;32m--> 599\u001b[0m X \u001b[39m=\u001b[39m \u001b[39mself\u001b[39;49m\u001b[39m.\u001b[39;49m_validate_data(X, dtype\u001b[39m=\u001b[39;49mDTYPE, accept_sparse\u001b[39m=\u001b[39;49m\u001b[39m\"\u001b[39;49m\u001b[39mcsr\u001b[39;49m\u001b[39m\"\u001b[39;49m, reset\u001b[39m=\u001b[39;49m\u001b[39mFalse\u001b[39;49;00m)\n\u001b[0;32m    600\u001b[0m \u001b[39mif\u001b[39;00m issparse(X) \u001b[39mand\u001b[39;00m (X\u001b[39m.\u001b[39mindices\u001b[39m.\u001b[39mdtype \u001b[39m!=\u001b[39m np\u001b[39m.\u001b[39mintc \u001b[39mor\u001b[39;00m X\u001b[39m.\u001b[39mindptr\u001b[39m.\u001b[39mdtype \u001b[39m!=\u001b[39m np\u001b[39m.\u001b[39mintc):\n\u001b[0;32m    601\u001b[0m     \u001b[39mraise\u001b[39;00m \u001b[39mValueError\u001b[39;00m(\u001b[39m\"\u001b[39m\u001b[39mNo support for np.int64 index based sparse matrices\u001b[39m\u001b[39m\"\u001b[39m)\n",
      "File \u001b[1;32mf:\\venv\\AICH\\Lib\\site-packages\\sklearn\\base.py:580\u001b[0m, in \u001b[0;36mBaseEstimator._validate_data\u001b[1;34m(self, X, y, reset, validate_separately, cast_to_ndarray, **check_params)\u001b[0m\n\u001b[0;32m    509\u001b[0m \u001b[39mdef\u001b[39;00m \u001b[39m_validate_data\u001b[39m(\n\u001b[0;32m    510\u001b[0m     \u001b[39mself\u001b[39m,\n\u001b[0;32m    511\u001b[0m     X\u001b[39m=\u001b[39m\u001b[39m\"\u001b[39m\u001b[39mno_validation\u001b[39m\u001b[39m\"\u001b[39m,\n\u001b[1;32m   (...)\u001b[0m\n\u001b[0;32m    516\u001b[0m     \u001b[39m*\u001b[39m\u001b[39m*\u001b[39mcheck_params,\n\u001b[0;32m    517\u001b[0m ):\n\u001b[0;32m    518\u001b[0m \u001b[39m    \u001b[39m\u001b[39m\"\"\"Validate input data and set or check the `n_features_in_` attribute.\u001b[39;00m\n\u001b[0;32m    519\u001b[0m \n\u001b[0;32m    520\u001b[0m \u001b[39m    Parameters\u001b[39;00m\n\u001b[1;32m   (...)\u001b[0m\n\u001b[0;32m    578\u001b[0m \u001b[39m        validated.\u001b[39;00m\n\u001b[0;32m    579\u001b[0m \u001b[39m    \"\"\"\u001b[39;00m\n\u001b[1;32m--> 580\u001b[0m     \u001b[39mself\u001b[39;49m\u001b[39m.\u001b[39;49m_check_feature_names(X, reset\u001b[39m=\u001b[39;49mreset)\n\u001b[0;32m    582\u001b[0m     \u001b[39mif\u001b[39;00m y \u001b[39mis\u001b[39;00m \u001b[39mNone\u001b[39;00m \u001b[39mand\u001b[39;00m \u001b[39mself\u001b[39m\u001b[39m.\u001b[39m_get_tags()[\u001b[39m\"\u001b[39m\u001b[39mrequires_y\u001b[39m\u001b[39m\"\u001b[39m]:\n\u001b[0;32m    583\u001b[0m         \u001b[39mraise\u001b[39;00m \u001b[39mValueError\u001b[39;00m(\n\u001b[0;32m    584\u001b[0m             \u001b[39mf\u001b[39m\u001b[39m\"\u001b[39m\u001b[39mThis \u001b[39m\u001b[39m{\u001b[39;00m\u001b[39mself\u001b[39m\u001b[39m.\u001b[39m\u001b[39m__class__\u001b[39m\u001b[39m.\u001b[39m\u001b[39m__name__\u001b[39m\u001b[39m}\u001b[39;00m\u001b[39m estimator \u001b[39m\u001b[39m\"\u001b[39m\n\u001b[0;32m    585\u001b[0m             \u001b[39m\"\u001b[39m\u001b[39mrequires y to be passed, but the target y is None.\u001b[39m\u001b[39m\"\u001b[39m\n\u001b[0;32m    586\u001b[0m         )\n",
      "File \u001b[1;32mf:\\venv\\AICH\\Lib\\site-packages\\sklearn\\base.py:507\u001b[0m, in \u001b[0;36mBaseEstimator._check_feature_names\u001b[1;34m(self, X, reset)\u001b[0m\n\u001b[0;32m    502\u001b[0m \u001b[39mif\u001b[39;00m \u001b[39mnot\u001b[39;00m missing_names \u001b[39mand\u001b[39;00m \u001b[39mnot\u001b[39;00m unexpected_names:\n\u001b[0;32m    503\u001b[0m     message \u001b[39m+\u001b[39m\u001b[39m=\u001b[39m (\n\u001b[0;32m    504\u001b[0m         \u001b[39m\"\u001b[39m\u001b[39mFeature names must be in the same order as they were in fit.\u001b[39m\u001b[39m\\n\u001b[39;00m\u001b[39m\"\u001b[39m\n\u001b[0;32m    505\u001b[0m     )\n\u001b[1;32m--> 507\u001b[0m \u001b[39mraise\u001b[39;00m \u001b[39mValueError\u001b[39;00m(message)\n",
      "\u001b[1;31mValueError\u001b[0m: The feature names should match those that were passed during fit.\nFeature names unseen at fit time:\n- seconds_from_midnight\nFeature names seen at fit time, yet now missing:\n- anglez_abs\n- anglez_diff_12\n- anglez_diff_60\n- anglez_diff_rolling_25th_percentile_12\n- anglez_diff_rolling_25th_percentile_60\n- ...\n"
     ]
    }
   ],
   "source": [
    "# define all the combinations of models and features\n",
    "models_and_hyperparams = {\n",
    "    RandomForestClassifier: {\n",
    "        'params': {\n",
    "            'n_estimators': [1000, 1500, 2000],\n",
    "            'max_depth': [20, 40, 60, None],\n",
    "            'random_state': [0],\n",
    "            #'criterion': ['gini', 'entropy', 'log_loss'],\n",
    "            'warm_start': [True]\n",
    "        },\n",
    "        'modeltype': SkLearnModel,\n",
    "        'scaler': StandardScaler,\n",
    "        'training_type': ModelTrainingType.BATCH,\n",
    "        'batch_size': 300_000\n",
    "    },\n",
    "    # SVC: {\n",
    "    #     'params': {\n",
    "    #         'kernel': ['rbf', 'poly', 'poly', 'poly', 'sigmoid'],\n",
    "    #         'degree': [3, 4, 5],\n",
    "    #         'C': [1, 10, 100, 1000],\n",
    "    #         'gamma': ['scale', 'auto']\n",
    "    #     },\n",
    "    #     'modeltype': SkLearnModel,\n",
    "    #     'scaler': StandardScaler\n",
    "    # },\n",
    "    # KNeighborsClassifier: {\n",
    "    #     'params': {\n",
    "    #         'n_neighbors': [5, 10, 15, 20],\n",
    "    #         'weights': ['uniform', 'distance'],\n",
    "    #         'algorithm': ['auto', 'ball_tree', 'kd_tree', 'brute'],\n",
    "    #         'leaf_size': [10, 20, 30, 40, 50],\n",
    "    #         'p': [1, 2]\n",
    "    #     },\n",
    "    #     'modeltype': SkLearnModel,\n",
    "    #     'scaler': StandardScaler\n",
    "    # }\n",
    "}\n",
    "\n",
    "# define scaler\n",
    "scaler_type = StandardScaler\n",
    "pretrained_scalers = dict() # used to store trained scalers for later use\n",
    "\n",
    "# loop over all combinations and append it to the configurations list\n",
    "# if there are no hyperparams, just instantiate the model without params\n",
    "for model_type, hyperparams in models_and_hyperparams.items():\n",
    "    if len(hyperparams['params']) > 0: # if there are hyperparams, build a dict and pass it to the model as parameters\n",
    "        fx_param_names, fx_param_values = zip(*hyperparams['params'].items())\n",
    "        for cartesian_product_values in product(*fx_param_values):\n",
    "            hyperparam_dict = dict(zip(fx_param_names, cartesian_product_values))\n",
    "\n",
    "            # create or reuse the scaler specified in the models_and_hyperparams dictionary\n",
    "            # if hyperparams['scaler'] in pretrained_scalers:\n",
    "            #     print(f'Using pretrained scaler {hyperparams[\"scaler\"].__name__}')\n",
    "            #     scaler = pretrained_scalers[hyperparams['scaler']]\n",
    "            # else:\n",
    "            #     scaler = hyperparams['scaler']()\n",
    "            #     print(f'Start fitting scaler {hyperparams[\"scaler\"].__name__}')\n",
    "            #     for batch in tqdm(dataloader(batch_size=15_000_000)):\n",
    "            #         X = batch.drop(['wearable_on', 'awake', 'wakeup', 'onset'], axis=1)\n",
    "            #         X['series_id'] = X['series_id'].map(series_id_mapping['train'])\n",
    "            #         scaler.partial_fit(X)\n",
    "            #         del X\n",
    "            #         gc.collect()\n",
    "            #     # save the scaler for later use\n",
    "            #     pretrained_scalers[hyperparams['scaler']] = scaler\n",
    "\n",
    "            # create the model from the modeltype and the hyperparam_dict\n",
    "            m = hyperparams['modeltype'](model_type(**hyperparam_dict), \\\n",
    "                                        f'{model_type.__name__}-{\"-\".join([f\"{na}__{str(va)}\" for na, va in hyperparam_dict.items()])}'.lower(), \\\n",
    "                                        #pretrained_scalers[hyperparams['scaler']], \\\n",
    "                                        StandardScaler(), \\\n",
    "                                        hyperparam_dict)\n",
    "            \n",
    "\n",
    "#TODO: uncemment, standardscaler , not_scaled=True\n",
    "\n",
    "\n",
    "            \n",
    "            # init wandb\n",
    "            # start a new wandb run to track this script\n",
    "            #cfg = m._model_params.copy()\n",
    "            #cfg['model'] = m._model.__name__\n",
    "            #wandb.init(project=\"classic_models\", config=cfg)\n",
    "\n",
    "            # train model\n",
    "            rounds = 1\n",
    "            if hyperparams['training_type'] == ModelTrainingType.BATCH:\n",
    "                print(f'Model will be traind in batches of {hyperparams[\"batch_size\"]} samples.')\n",
    "                print(f'Dataset contains {train_dataset_length} samples. {(rounds := train_dataset_length // hyperparams[\"batch_size\"])} batches will be used when fitting the model.')\n",
    "                if model_type == RandomForestClassifier:\n",
    "                    print(f'At the end {hyperparam_dict[\"n_estimators\"]} estimators will be fitted. That means, {hyperparam_dict[\"n_estimators\"]//rounds} estimators per batch.')\n",
    "                    m._model.n_estimators = 0 #set to 0. model will increase the number of estimators in each round\n",
    "\n",
    "            print(f'Start training model {m.identifier}')\n",
    "            for batch in tqdm(batched_dataloader(batch_size=hyperparams['batch_size']) if hyperparams['training_type'] == ModelTrainingType.BATCH else dataloader_full_dataset(), total=rounds+1):\n",
    "                #X = batch.drop(['wearable_on', 'awake', 'wakeup', 'onset'], axis=1)\n",
    "                X = batch.drop(['wearable_on', 'awake'], axis=1)\n",
    "                X['series_id'] = X['series_id'].map(series_id_mapping['train'])\n",
    "                y = batch['wearable_on']\n",
    "                args = {}\n",
    "                if model_type == RandomForestClassifier: args['add_estimators'] = hyperparam_dict['n_estimators']//rounds\n",
    "                m.train(X, y, not_scaled=False, **args)\n",
    "                del X\n",
    "                del y\n",
    "                gc.collect()\n",
    "            #y_hat = configured_model.predict(X_test)\n",
    "\n",
    "            #  do the heuristic part...\n",
    "\n",
    "            #  evaluate model\n",
    "            print(f'Start evaluating model {m.identifier}')\n",
    "            validation = dataloader_full_dataset(validation=True)\n",
    "            validation['series_id'] = validation['series_id'].map(series_id_mapping['validation'])\n",
    "            validation_y = validation['wearable_on']\n",
    "            validation.drop(['wearable_on', 'awake', 'wakeup', 'onset'], axis=1, inplace=True)\n",
    "            validation_y_hat = m.predict(validation, not_scaled=False)\n",
    "            # this does the same as scoreFX(y, y_hat). It is wrapped in the models evaluate function.\n",
    "            # the model itself could also do the prediction if prepredicted is None\n",
    "            # then, the first argument of the evaluate function would be the X_validation data\n",
    "            score_value_average_precision_score = m.evaluate(None, validation_y, scoreFx=average_precision_score, not_scaled=False, prepredicted=validation_y_hat)\n",
    "            score_value_recall = m.evaluate(None, validation_y, scoreFx=recall_score, not_scaled=False, prepredicted=validation_y_hat)\n",
    "            score_value_precision = m.evaluate(None, validation_y, scoreFx=precision_score, not_scaled=False, prepredicted=validation_y_hat)\n",
    "            print(score_value_average_precision_score)\n",
    "            print(score_value_recall)\n",
    "            print(score_value_precision)\n",
    "            del validation, validation_y\n",
    "\n",
    "            #  save model\n",
    "            #m.save()\n",
    "\n",
    "\n",
    "            # delete model to free up memory\n",
    "            #del m\n",
    "\n",
    "            break\n",
    "\n",
    "            #wandb.finish()\n",
    "    else:\n",
    "        print(\"params in the dictionary cannot be empty. Use the standard values in the dictionary for the model\", model_type.__name__)"
   ]
  },
  {
   "cell_type": "code",
   "execution_count": 13,
   "metadata": {},
   "outputs": [
    {
     "data": {
      "text/plain": [
       "2"
      ]
     },
     "execution_count": 13,
     "metadata": {},
     "output_type": "execute_result"
    }
   ],
   "source": [
    "1000//343 "
   ]
  },
  {
   "cell_type": "code",
   "execution_count": 17,
   "metadata": {},
   "outputs": [
    {
     "data": {
      "text/plain": [
       "1029"
      ]
     },
     "execution_count": 17,
     "metadata": {},
     "output_type": "execute_result"
    }
   ],
   "source": [
    "from math import ceil\n",
    "ceil(1000/343) * 343"
   ]
  },
  {
   "cell_type": "code",
   "execution_count": 14,
   "metadata": {},
   "outputs": [
    {
     "data": {
      "text/plain": [
       "2.9154518950437316"
      ]
     },
     "execution_count": 14,
     "metadata": {},
     "output_type": "execute_result"
    }
   ],
   "source": [
    "1000/343"
   ]
  },
  {
   "cell_type": "code",
   "execution_count": null,
   "metadata": {},
   "outputs": [],
   "source": [
    "raise ValueError('test')"
   ]
  },
  {
   "cell_type": "markdown",
   "metadata": {},
   "source": [
    "1. add output of the **BEST** model 1 to train dataset -> [pred_wearable_on] -> must be saved to disk in batches!!!\n",
    "2. feed the new training to the second model\n",
    "   1. x of the second model is == ALL but X = batch.drop(['wearable_on', 'awake', 'wakeup', 'onset'], axis=1)\n",
    "   2. y of the second model is y = batch['awake']\n",
    "\n",
    "- Do not forget to map the series ID\n",
    "- All values where pred_wearable_on == 0 must be dropped from the traning set for the second model...\n",
    "  this can be done by adding a filter to the parquet reader like so:\n",
    "  ```python\n",
    "  table = pq.read_table(\"example.parquet\",\n",
    "                      columns=[\"col1\"],\n",
    "                      filters=[\n",
    "                          (\"col1\", \">\", 5),\n",
    "                          (\"col1\", \"<\", 10),\n",
    "                      ])\n",
    "  ```\n",
    "\n",
    "\n",
    "1. the output of the **BEST** second model [pred_awake] must be passed through the heuristics fx alongside with.\n",
    "   1. the following datafields ['series_id', 'ALL TIME FIELDS', 'pred_awake, ??? others???] \n"
   ]
  },
  {
   "cell_type": "code",
   "execution_count": null,
   "metadata": {},
   "outputs": [],
   "source": []
  },
  {
   "cell_type": "code",
   "execution_count": null,
   "metadata": {},
   "outputs": [],
   "source": []
  },
  {
   "cell_type": "code",
   "execution_count": null,
   "metadata": {},
   "outputs": [],
   "source": []
  },
  {
   "cell_type": "code",
   "execution_count": null,
   "metadata": {},
   "outputs": [],
   "source": []
  },
  {
   "cell_type": "code",
   "execution_count": null,
   "metadata": {},
   "outputs": [],
   "source": []
  },
  {
   "cell_type": "code",
   "execution_count": null,
   "metadata": {},
   "outputs": [],
   "source": []
  },
  {
   "cell_type": "markdown",
   "metadata": {},
   "source": [
    "## Duplication of first pipeline\n",
    "\n",
    "This pipelines purpos is to train the second model"
   ]
  },
  {
   "cell_type": "code",
   "execution_count": null,
   "metadata": {},
   "outputs": [],
   "source": [
    "# define all the combinations of models and features\n",
    "models_and_hyperparams = {\n",
    "    RandomForestClassifier: {\n",
    "        'params': {\n",
    "            'n_estimators': [200, 300, 400],\n",
    "            'max_depth': [10, 20, 30, None],\n",
    "            'random_state': [0],\n",
    "            'criterion': ['gini', 'entropy', 'log_loss'],\n",
    "            'warm_start': [True]\n",
    "        },\n",
    "        'modeltype': SkLearnModel,\n",
    "        'scaler': StandardScaler,\n",
    "        'training_type': ModelTrainingType.BATCH,\n",
    "        'batch_size': 5_000_000\n",
    "    }\n",
    "}\n",
    "\n",
    "# define scaler\n",
    "scaler_type = StandardScaler\n",
    "pretrained_scalers = dict() # used to store trained scalers for later use\n",
    "\n",
    "# loop over all combinations and append it to the configurations list\n",
    "# if there are no hyperparams, just instantiate the model without params\n",
    "for model_type, hyperparams in models_and_hyperparams.items():\n",
    "    if len(hyperparams['params']) > 0: # if there are hyperparams, build a dict and pass it to the model as parameters\n",
    "        fx_param_names, fx_param_values = zip(*hyperparams['params'].items())\n",
    "        for cartesian_product_values in product(*fx_param_values):\n",
    "            hyperparam_dict = dict(zip(fx_param_names, cartesian_product_values))\n",
    "\n",
    "            # create or reuse the scaler specified in the models_and_hyperparams dictionary\n",
    "            # if hyperparams['scaler'] in pretrained_scalers:\n",
    "            #     print(f'Using pretrained scaler {hyperparams[\"scaler\"].__name__}')\n",
    "            #     scaler = pretrained_scalers[hyperparams['scaler']]\n",
    "            # else:\n",
    "            #     scaler = hyperparams['scaler']()\n",
    "            #     print(f'Start fitting scaler {hyperparams[\"scaler\"].__name__}')\n",
    "            #     for batch in tqdm(dataloader(batch_size=15_000_000)):\n",
    "            #         X = batch.drop(['wearable_on', 'awake', 'wakeup', 'onset'], axis=1)\n",
    "            #         X['series_id'] = X['series_id'].map(series_id_mapping['train'])\n",
    "            #         scaler.partial_fit(X)\n",
    "            #         del X\n",
    "            #         gc.collect()\n",
    "            #     # save the scaler for later use\n",
    "            #     pretrained_scalers[hyperparams['scaler']] = scaler\n",
    "\n",
    "            # create the model from the modeltype and the hyperparam_dict\n",
    "            m = hyperparams['modeltype'](model_type(**hyperparam_dict), \\\n",
    "                                        f'{model_type.__name__}-{\"-\".join([f\"{na}__{str(va)}\" for na, va in hyperparam_dict.items()])}'.lower(), \\\n",
    "                                        #pretrained_scalers[hyperparams['scaler']], \\\n",
    "                                        StandardScaler(), \\\n",
    "                                        hyperparam_dict)\n",
    "            \n",
    "\n",
    "#TODO: uncemment, standardscaler , not_scaled=True\n",
    "\n",
    "\n",
    "            \n",
    "            # init wandb\n",
    "            # start a new wandb run to track this script\n",
    "            #cfg = m._model_params.copy()\n",
    "            #cfg['model'] = m._model.__name__\n",
    "            #wandb.init(project=\"classic_models\", config=cfg)\n",
    "\n",
    "            # train model\n",
    "            if hyperparams['training_type'] == ModelTrainingType.BATCH:\n",
    "                print(f'Model will be traind in batches of {hyperparams[\"batch_size\"]} samples.')\n",
    "                print(f'Dataset contains {train_dataset_length} samples. {(rounds := train_dataset_length // hyperparams[\"batch_size\"])} batches will be used when fitting the model.')\n",
    "                if model_type == RandomForestClassifier:\n",
    "                    print(f'At the end {hyperparam_dict[\"n_estimators\"]} estimators will be fitted. That means, {hyperparam_dict[\"n_estimators\"]//rounds} estimators per batch.')\n",
    "                    m._model.n_estimators = 0 #set to 0. model will increase the number of estimators in each round\n",
    "\n",
    "            print(f'Start training model {m.identifier}')\n",
    "            for batch in tqdm(dataloader(batch_size=hyperparams['batch_size']) if hyperparams['training_type'] == ModelTrainingType.BATCH else [dataloader_full_dataset()]):\n",
    "                X = batch.drop(['wearable_on', 'awake', 'wakeup', 'onset'], axis=1)\n",
    "                X['series_id'] = X['series_id'].map(series_id_mapping['train'])\n",
    "                y = batch['awake']\n",
    "                args = {}\n",
    "                if model_type == RandomForestClassifier: args['add_estimators'] = hyperparam_dict['n_estimators']//rounds\n",
    "                m.train(X, y, not_scaled=False, **args)\n",
    "                del X\n",
    "                del y\n",
    "                gc.collect()\n",
    "\n",
    "            #y_hat = configured_model.predict(X_test)\n",
    "\n",
    "            #  do the heuristic part...\n",
    "\n",
    "            #  evaluate model\n",
    "            print(f'Start evaluating model {m.identifier}')\n",
    "            validation = dataloader_full_dataset(validation=True)\n",
    "            validation['series_id'] = validation['series_id'].map(series_id_mapping['validation'])\n",
    "            validation_y = validation['awake']\n",
    "            validation.drop(['wearable_on', 'awake', 'wakeup', 'onset'], axis=1, inplace=True)\n",
    "            validation_y_hat = m.predict(validation, not_scaled=False)\n",
    "            # this does the same as scoreFX(y, y_hat). It is wrapped in the models evaluate function.\n",
    "            # the model itself could also do the prediction if prepredicted is None\n",
    "            # then, the first argument of the evaluate function would be the X_validation data\n",
    "            score_value_average_precision_score = m.evaluate(None, validation_y, scoreFx=average_precision_score, not_scaled=False, prepredicted=validation_y_hat)\n",
    "            score_value_recall = m.evaluate(None, validation_y, scoreFx=recall_score, not_scaled=False, prepredicted=validation_y_hat)\n",
    "            score_value_precision = m.evaluate(None, validation_y, scoreFx=precision_score, not_scaled=False, prepredicted=validation_y_hat)\n",
    "            print(score_value_average_precision_score)\n",
    "            print(score_value_recall)\n",
    "            print(score_value_precision)\n",
    "            del validation, validation_y\n",
    "\n",
    "            #  save model\n",
    "            #m.save()\n",
    "\n",
    "\n",
    "            # delete model to free up memory\n",
    "            #del m\n",
    "\n",
    "            break\n",
    "\n",
    "            #wandb.finish()\n",
    "    else:\n",
    "        print(\"params in the dictionary cannot be empty. Use the standard values in the dictionary for the model\", model_type.__name__)"
   ]
  },
  {
   "cell_type": "code",
   "execution_count": null,
   "metadata": {},
   "outputs": [],
   "source": [
    "import pyarrow.parquet as pq\n",
    "import pyarrow.dataset as ds\n",
    "\n",
    "dataset = ds.dataset('../data/train/')\n",
    "\n",
    "\n",
    "\n",
    "\n",
    "\n",
    "## Define a filter\n",
    "#filter = ds.field(\"partition_column_name\") == \"specific_value\"\n",
    "# Use the filtered dataset\n",
    "#filtered_dataset = dataset.filter(filter)\n"
   ]
  },
  {
   "cell_type": "code",
   "execution_count": null,
   "metadata": {},
   "outputs": [],
   "source": [
    "a = next(dataset.get_fragments())\n",
    "b = a.to_batches()\n"
   ]
  },
  {
   "cell_type": "code",
   "execution_count": null,
   "metadata": {},
   "outputs": [],
   "source": [
    "c = next(b)"
   ]
  },
  {
   "cell_type": "code",
   "execution_count": null,
   "metadata": {},
   "outputs": [
    {
     "data": {
      "text/plain": [
       "False"
      ]
     },
     "execution_count": 6,
     "metadata": {},
     "output_type": "execute_result"
    }
   ],
   "source": [
    "c.to_pandas().isna().any(axis=None)"
   ]
  },
  {
   "cell_type": "code",
   "execution_count": null,
   "metadata": {},
   "outputs": [
    {
     "data": {
      "text/plain": [
       "Index(['series_id', 'step', 'anglez', 'enmo', 'awake', 'wearable_on', 'hour',\n",
       "       'minute', 'seconds', 'day', 'month', 'year', 'anglez_abs',\n",
       "       'anglez_rolling_mean_12', 'anglez_rolling_sum_12',\n",
       "       'anglez_rolling_max_12', 'anglez_rolling_min_12',\n",
       "       'anglez_rolling_std_12', 'anglez_rolling_median_12',\n",
       "       'anglez_rolling_variance_12', 'anglez_rolling_25th_percentile_12',\n",
       "       'anglez_rolling_75th_percentile_12', 'anglez_diff_12',\n",
       "       'anglez_diff_rolling_mean_12', 'anglez_diff_rolling_sum_12',\n",
       "       'anglez_diff_rolling_max_12', 'anglez_diff_rolling_min_12',\n",
       "       'anglez_diff_rolling_std_12', 'anglez_diff_rolling_median_12',\n",
       "       'anglez_diff_rolling_variance_12',\n",
       "       'anglez_diff_rolling_25th_percentile_12',\n",
       "       'anglez_diff_rolling_75th_percentile_12', 'anglez_rolling_mean_60',\n",
       "       'anglez_rolling_sum_60', 'anglez_rolling_max_60',\n",
       "       'anglez_rolling_min_60', 'anglez_rolling_std_60',\n",
       "       'anglez_rolling_median_60', 'anglez_rolling_variance_60',\n",
       "       'anglez_rolling_25th_percentile_60',\n",
       "       'anglez_rolling_75th_percentile_60', 'anglez_diff_60',\n",
       "       'anglez_diff_rolling_mean_60', 'anglez_diff_rolling_sum_60',\n",
       "       'anglez_diff_rolling_max_60', 'anglez_diff_rolling_min_60',\n",
       "       'anglez_diff_rolling_std_60', 'anglez_diff_rolling_median_60',\n",
       "       'anglez_diff_rolling_variance_60',\n",
       "       'anglez_diff_rolling_25th_percentile_60',\n",
       "       'anglez_diff_rolling_75th_percentile_60', 'enmo_abs',\n",
       "       'enmo_rolling_mean_12', 'enmo_rolling_sum_12', 'enmo_rolling_max_12',\n",
       "       'enmo_rolling_min_12', 'enmo_rolling_std_12', 'enmo_rolling_median_12',\n",
       "       'enmo_rolling_variance_12', 'enmo_rolling_25th_percentile_12',\n",
       "       'enmo_rolling_75th_percentile_12', 'enmo_diff_12',\n",
       "       'enmo_diff_rolling_mean_12', 'enmo_diff_rolling_sum_12',\n",
       "       'enmo_diff_rolling_max_12', 'enmo_diff_rolling_min_12',\n",
       "       'enmo_diff_rolling_std_12', 'enmo_diff_rolling_median_12',\n",
       "       'enmo_diff_rolling_variance_12', 'enmo_diff_rolling_25th_percentile_12',\n",
       "       'enmo_diff_rolling_75th_percentile_12', 'enmo_rolling_mean_60',\n",
       "       'enmo_rolling_sum_60', 'enmo_rolling_max_60', 'enmo_rolling_min_60',\n",
       "       'enmo_rolling_std_60', 'enmo_rolling_median_60',\n",
       "       'enmo_rolling_variance_60', 'enmo_rolling_25th_percentile_60',\n",
       "       'enmo_rolling_75th_percentile_60', 'enmo_diff_60',\n",
       "       'enmo_diff_rolling_mean_60', 'enmo_diff_rolling_sum_60',\n",
       "       'enmo_diff_rolling_max_60', 'enmo_diff_rolling_min_60',\n",
       "       'enmo_diff_rolling_std_60', 'enmo_diff_rolling_median_60',\n",
       "       'enmo_diff_rolling_variance_60', 'enmo_diff_rolling_25th_percentile_60',\n",
       "       'enmo_diff_rolling_75th_percentile_60'],\n",
       "      dtype='object')"
      ]
     },
     "execution_count": 5,
     "metadata": {},
     "output_type": "execute_result"
    }
   ],
   "source": [
    "c.to_pandas().columns"
   ]
  },
  {
   "cell_type": "code",
   "execution_count": null,
   "metadata": {},
   "outputs": [],
   "source": [
    "#TODO: https://arrow.apache.org/cookbook/py/io.html#id11\n",
    "# for splitted files "
   ]
  }
 ],
 "metadata": {
  "kernelspec": {
   "display_name": "aich",
   "language": "python",
   "name": "python3"
  },
  "language_info": {
   "codemirror_mode": {
    "name": "ipython",
    "version": 3
   },
   "file_extension": ".py",
   "mimetype": "text/x-python",
   "name": "python",
   "nbconvert_exporter": "python",
   "pygments_lexer": "ipython3",
   "version": "3.11.4"
  },
  "orig_nbformat": 4
 },
 "nbformat": 4,
 "nbformat_minor": 2
}
