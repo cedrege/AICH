{
 "cells": [
  {
   "cell_type": "markdown",
   "metadata": {},
   "source": [
    "# 03 Data Quality Assesment after Feature Engineering"
   ]
  },
  {
   "cell_type": "code",
   "execution_count": null,
   "metadata": {},
   "outputs": [],
   "source": [
    "import os\n",
    "import pandas as pd\n",
    "import glob\n",
    "from ydata_profiling import ProfileReport\n",
    "import matplotlib.pyplot as plt\n",
    "import numpy as np"
   ]
  },
  {
   "cell_type": "code",
   "execution_count": null,
   "metadata": {},
   "outputs": [],
   "source": [
    "path_data_after_feature_engineering = '../data/engineered'"
   ]
  },
  {
   "cell_type": "code",
   "execution_count": null,
   "metadata": {},
   "outputs": [],
   "source": [
    "all_files = glob.glob(os.path.join(path_data_after_feature_engineering, '**', '*'), recursive=True)\n",
    "\n",
    "all_data = pd.DataFrame()\n",
    "for filename in all_files:\n",
    "    if filename.endswith('.parquet'):\n",
    "        current_data = pd.read_parquet(filename)[['awake', 'enmo', 'anglez']]\n",
    "        \n",
    "        all_data = pd.concat([all_data, current_data], ignore_index=True)"
   ]
  },
  {
   "cell_type": "code",
   "execution_count": null,
   "metadata": {},
   "outputs": [],
   "source": [
    "awake_data = all_data[all_data['awake'] == 1]\n",
    "asleep_data = all_data[all_data['awake'] == 0]"
   ]
  },
  {
   "cell_type": "markdown",
   "metadata": {},
   "source": [
    "## ENMO und Anglez"
   ]
  },
  {
   "cell_type": "code",
   "execution_count": null,
   "metadata": {},
   "outputs": [],
   "source": [
    "ProfileReport(awake_data)"
   ]
  },
  {
   "cell_type": "code",
   "execution_count": null,
   "metadata": {},
   "outputs": [],
   "source": [
    "ProfileReport(asleep_data)"
   ]
  },
  {
   "cell_type": "code",
   "execution_count": null,
   "metadata": {},
   "outputs": [],
   "source": [
    "plt.hist(asleep_data['enmo'], bins=20, color='blue', edgecolor='none' , weights=np.ones(len(asleep_data['enmo'])) / len(asleep_data['enmo']))\n",
    "\n",
    "plt.xlim(0,8)\n",
    "\n",
    "plt.xlabel('ENMO value')\n",
    "plt.ylabel('Percentage of datapoints')\n",
    "plt.title('ENMO distribution for sleep windows')\n",
    "plt.yscale('log')\n",
    "\n",
    "plt.ylim([10 ** -7, 2])\n",
    "\n",
    "plt.show()"
   ]
  },
  {
   "cell_type": "code",
   "execution_count": null,
   "metadata": {},
   "outputs": [],
   "source": [
    "plt.hist(awake_data['enmo'], bins=20, color='blue', edgecolor='none' , weights=np.ones(len(awake_data['enmo'])) / len(awake_data['enmo']))\n",
    "\n",
    "plt.xlim(0,8)\n",
    "\n",
    "\n",
    "plt.xlabel('ENMO value')\n",
    "plt.ylabel('Percentage of datapoints')\n",
    "plt.title('ENMO distribution for awake windows')\n",
    "# plt.xticks(rotation=45)\n",
    "plt.yscale('log')\n",
    "plt.ylim([10 ** -7, 2])\n",
    "\n",
    "\n",
    "plt.show()"
   ]
  },
  {
   "cell_type": "code",
   "execution_count": null,
   "metadata": {},
   "outputs": [],
   "source": [
    "plt.hist(asleep_data['anglez'], bins=20, color='blue', edgecolor='none' , weights=np.ones(len(asleep_data['anglez'])) / len(asleep_data['anglez']))\n",
    "\n",
    "plt.xlim(-90,90)\n",
    "\n",
    "plt.xlabel('Angle-z value')\n",
    "plt.ylabel('Percentage of datapoints')\n",
    "plt.title('Angle-z distribution for sleep windows')\n",
    "\n",
    "plt.ylim(0, 0.2)\n",
    "\n",
    "plt.show()"
   ]
  },
  {
   "cell_type": "code",
   "execution_count": null,
   "metadata": {},
   "outputs": [],
   "source": [
    "plt.hist(awake_data['anglez'], bins=20, color='blue', edgecolor='none' , weights=np.ones(len(awake_data['anglez'])) / len(awake_data['anglez']))\n",
    "\n",
    "plt.xlim(-90,90)\n",
    "\n",
    "plt.xlabel('Angle-z value')\n",
    "plt.ylabel('Percentage of datapoints')\n",
    "plt.title('Angle-z distribution for awake windows')\n",
    "\n",
    "plt.ylim(0, 0.2)\n",
    "\n",
    "plt.show()"
   ]
  },
  {
   "cell_type": "markdown",
   "metadata": {},
   "source": [
    "## Entire dataset"
   ]
  },
  {
   "cell_type": "code",
   "execution_count": null,
   "metadata": {},
   "outputs": [],
   "source": [
    "all_files = glob.glob(os.path.join(path_data_after_feature_engineering, '**', '*'), recursive=True)\n",
    "\n",
    "all_data = pd.DataFrame()\n",
    "for filename in all_files:\n",
    "    if filename.endswith('.parquet'):\n",
    "        current_data = pd.read_parquet(filename)\n",
    "        \n",
    "        all_data = pd.concat([all_data, current_data], ignore_index=True)"
   ]
  },
  {
   "cell_type": "code",
   "execution_count": null,
   "metadata": {},
   "outputs": [],
   "source": [
    "awake_data = all_data[all_data['awake'] == 1]\n",
    "asleep_data = all_data[all_data['awake'] == 0]"
   ]
  },
  {
   "cell_type": "code",
   "execution_count": null,
   "metadata": {},
   "outputs": [],
   "source": [
    "ProfileReport(awake_data)"
   ]
  },
  {
   "cell_type": "code",
   "execution_count": null,
   "metadata": {},
   "outputs": [],
   "source": [
    "ProfileReport(asleep_data)"
   ]
  }
 ],
 "metadata": {
  "kernelspec": {
   "display_name": "Python 3",
   "language": "python",
   "name": "python3"
  },
  "language_info": {
   "codemirror_mode": {
    "name": "ipython",
    "version": 3
   },
   "file_extension": ".py",
   "mimetype": "text/x-python",
   "name": "python",
   "nbconvert_exporter": "python",
   "pygments_lexer": "ipython3",
   "version": "3.10.11"
  }
 },
 "nbformat": 4,
 "nbformat_minor": 2
}
