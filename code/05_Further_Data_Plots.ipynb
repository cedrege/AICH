{
 "cells": [
  {
   "cell_type": "markdown",
   "metadata": {},
   "source": [
    "# Further data plots"
   ]
  },
  {
   "cell_type": "code",
   "execution_count": null,
   "metadata": {},
   "outputs": [],
   "source": [
    "import pandas as pd\n",
    "import matplotlib.pyplot as plt"
   ]
  },
  {
   "cell_type": "code",
   "execution_count": null,
   "metadata": {},
   "outputs": [],
   "source": [
    "path_sensor_parquet = '../data/train_series.parquet'"
   ]
  },
  {
   "cell_type": "markdown",
   "metadata": {},
   "source": [
    "## Rolling window visualisation"
   ]
  },
  {
   "cell_type": "code",
   "execution_count": null,
   "metadata": {},
   "outputs": [],
   "source": [
    "series = '038441c925bb'\n",
    "\n",
    "series_data = pd.read_parquet(path_sensor_parquet, filters=[('series_id','=',series)])\n",
    "\n",
    "series_data = series_data[(series_data['step'] > 1) & (series_data['step'] < 8000)]\n",
    "\n",
    "series_data['timestamp'] = pd.to_datetime(series_data['timestamp'])\n",
    "\n",
    "plt.figure(figsize=(22, 4))\n",
    "\n",
    "plt.plot(series_data['timestamp'], series_data['enmo'], label='ENMO', linewidth=0.5, color='black')\n",
    "\n",
    "min5_start = pd.to_datetime('2018-08-14 15:30:20-04:00')\n",
    "min5_end = pd.to_datetime('2018-08-14 15:35:20-04:00')\n",
    "\n",
    "min30_start = pd.to_datetime('2018-08-14 16:30:20-04:00')\n",
    "min30_end = pd.to_datetime('2018-08-14 17:00:20-04:00')\n",
    "\n",
    "min120_start = pd.to_datetime('2018-08-14 18:30:20-04:00')\n",
    "min120_end = pd.to_datetime('2018-08-14 20:30:20-04:00')\n",
    "\n",
    "min480_start = pd.to_datetime('2018-08-14 21:30:20-04:00')\n",
    "min480_end = pd.to_datetime('2018-08-15 01:30:20-04:00')\n",
    "\n",
    "plt.axvline(x=min5_end, color='black', linestyle='-', linewidth=3.5)\n",
    "plt.fill_between(x=series_data['timestamp'], y1=plt.ylim()[0], y2=plt.ylim()[1], where=(series_data['timestamp'] >= min5_start) & (series_data['timestamp'] <= min5_end), color='#00cdd3', alpha=0.6, label='rolling window')\n",
    "\n",
    "plt.axvline(x=min30_end, color='black', linestyle='-', linewidth=3.5)\n",
    "plt.fill_between(x=series_data['timestamp'], y1=plt.ylim()[0], y2=plt.ylim()[1], where=(series_data['timestamp'] >= min30_start) & (series_data['timestamp'] <= min30_end), color='#00cdd3', alpha=0.6, label='rolling window')\n",
    "\n",
    "plt.axvline(x=min120_end, color='black', linestyle='-', linewidth=3.5)\n",
    "plt.fill_between(x=series_data['timestamp'], y1=plt.ylim()[0], y2=plt.ylim()[1], where=(series_data['timestamp'] >= min120_start) & (series_data['timestamp'] <= min120_end), color='#00cdd3', alpha=0.6, label='rolling window')\n",
    "\n",
    "plt.axvline(x=min480_end, color='black', linestyle='-', linewidth=3.5)\n",
    "plt.fill_between(x=series_data['timestamp'], y1=plt.ylim()[0], y2=plt.ylim()[1], where=(series_data['timestamp'] >= min480_start) & (series_data['timestamp'] <= min480_end), color='#00cdd3', alpha=0.6, label='rolling window')\n",
    "\n",
    "handles, labels = plt.gca().get_legend_handles_labels()\n",
    "new_labels, new_handles = [], []\n",
    "for handle, label in zip(handles, labels):\n",
    "    if label not in new_labels:\n",
    "        new_handles.append(handle)\n",
    "        new_labels.append(label)\n",
    "\n",
    "plt.ylim(0, 1)\n",
    "\n",
    "plt.legend(new_handles, new_labels, fontsize=20)\n",
    "plt.xlabel('Timestamp', fontsize=20, labelpad=15)\n",
    "plt.ylabel('ENMO value', fontsize=20, labelpad=20)\n",
    "plt.title(f'Rolling Windows', fontsize=20)\n",
    "plt.xticks(fontsize=20)  \n",
    "plt.yticks(fontsize=20)"
   ]
  },
  {
   "cell_type": "markdown",
   "metadata": {},
   "source": [
    "## Lag feature visualisation"
   ]
  },
  {
   "cell_type": "code",
   "execution_count": null,
   "metadata": {},
   "outputs": [],
   "source": [
    "series = '038441c925bb'\n",
    "\n",
    "series_data = pd.read_parquet(path_sensor_parquet, filters=[('series_id','=',series)])\n",
    "\n",
    "series_data = series_data[(series_data['step'] > 1) & (series_data['step'] < 80000)]\n",
    "\n",
    "series_data['timestamp'] = pd.to_datetime(series_data['timestamp'])\n",
    "\n",
    "plt.figure(figsize=(22, 4))\n",
    "\n",
    "plt.plot(series_data['timestamp'], series_data['enmo'], label='ENMO', linewidth=0.5, color='black')\n",
    "\n",
    "\n",
    "two_day_before = pd.to_datetime('2018-08-14 23:30:20-04:00')\n",
    "one_day_before = pd.to_datetime('2018-08-15 23:30:20-04:00')\n",
    "\n",
    "moment = pd.to_datetime('2018-08-16 23:30:20-04:00')\n",
    "\n",
    "two_day_after = pd.to_datetime('2018-08-17 23:30:20-04:00')\n",
    "one_day_after = pd.to_datetime('2018-08-18 23:30:20-04:00')\n",
    "\n",
    "plt.axvline(x=two_day_before, color='#00cdd3', linestyle='-', linewidth=3.5, label='shifted value')\n",
    "plt.axvline(x=one_day_before, color='#00cdd3', linestyle='-', linewidth=3.5)\n",
    "\n",
    "plt.axvline(x=moment, color='black', linestyle='-', linewidth=3.5, label='moment')\n",
    "\n",
    "plt.axvline(x=two_day_after, color='#00cdd3', linestyle='-', linewidth=3.5)\n",
    "plt.axvline(x=one_day_after, color='#00cdd3', linestyle='-', linewidth=3.5)\n",
    "\n",
    "handles, labels = plt.gca().get_legend_handles_labels()\n",
    "new_labels, new_handles = [], []\n",
    "for handle, label in zip(handles, labels):\n",
    "    if label not in new_labels:\n",
    "        new_handles.append(handle)\n",
    "        new_labels.append(label)\n",
    "\n",
    "plt.ylim(0, 1)\n",
    "\n",
    "plt.legend(new_handles, new_labels, fontsize=20)\n",
    "plt.xlabel('Timestamp', fontsize=20, labelpad=15)\n",
    "plt.ylabel('ENMO value', fontsize=20, labelpad=20)\n",
    "plt.title(f'Lag features 24 / 48 hours before and after the moment', fontsize=20)\n",
    "plt.xticks(fontsize=20)  \n",
    "plt.yticks(fontsize=20)"
   ]
  }
 ],
 "metadata": {
  "kernelspec": {
   "display_name": "Python 3",
   "language": "python",
   "name": "python3"
  },
  "language_info": {
   "codemirror_mode": {
    "name": "ipython",
    "version": 3
   },
   "file_extension": ".py",
   "mimetype": "text/x-python",
   "name": "python",
   "nbconvert_exporter": "python",
   "pygments_lexer": "ipython3",
   "version": "3.10.11"
  }
 },
 "nbformat": 4,
 "nbformat_minor": 2
}
