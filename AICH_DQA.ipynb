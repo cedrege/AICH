{
 "cells": [
  {
   "cell_type": "markdown",
   "metadata": {},
   "source": [
    "# Data Quality Assesment"
   ]
  },
  {
   "cell_type": "markdown",
   "metadata": {},
   "source": [
    "## Imports"
   ]
  },
  {
   "cell_type": "code",
   "execution_count": 1,
   "metadata": {},
   "outputs": [],
   "source": [
    "# Dataimport\n",
    "import pyarrow.parquet as pq\n",
    "\n",
    "# Dataanalysis\n",
    "import pandas as pd\n",
    "import numpy as np\n",
    "\n",
    "# Visualisation\n",
    "import matplotlib.pyplot as plt\n",
    "import seaborn as sns\n",
    "\n",
    "# time\n",
    "import time\n",
    "import datetime"
   ]
  },
  {
   "cell_type": "markdown",
   "metadata": {},
   "source": [
    "## Load Data"
   ]
  },
  {
   "cell_type": "code",
   "execution_count": 2,
   "metadata": {},
   "outputs": [],
   "source": [
    "measurement_data = pq.read_table('C:/Users/jonas.hodel/Downloads/child-mind-institute-detect-sleep-states/train_series.parquet')\n",
    "measurement_df = measurement_data.to_pandas()\n",
    "\n",
    "del measurement_data\n",
    "\n",
    "events_df = pd.read_csv('C:/Users/jonas.hodel/Downloads/child-mind-institute-detect-sleep-states/train_events.csv')"
   ]
  },
  {
   "cell_type": "markdown",
   "metadata": {},
   "source": [
    "## Analyse the measurement data"
   ]
  },
  {
   "cell_type": "markdown",
   "metadata": {},
   "source": [
    "### First rows of the data"
   ]
  },
  {
   "cell_type": "code",
   "execution_count": 3,
   "metadata": {},
   "outputs": [
    {
     "data": {
      "text/html": [
       "<div>\n",
       "<style scoped>\n",
       "    .dataframe tbody tr th:only-of-type {\n",
       "        vertical-align: middle;\n",
       "    }\n",
       "\n",
       "    .dataframe tbody tr th {\n",
       "        vertical-align: top;\n",
       "    }\n",
       "\n",
       "    .dataframe thead th {\n",
       "        text-align: right;\n",
       "    }\n",
       "</style>\n",
       "<table border=\"1\" class=\"dataframe\">\n",
       "  <thead>\n",
       "    <tr style=\"text-align: right;\">\n",
       "      <th></th>\n",
       "      <th>series_id</th>\n",
       "      <th>step</th>\n",
       "      <th>timestamp</th>\n",
       "      <th>anglez</th>\n",
       "      <th>enmo</th>\n",
       "    </tr>\n",
       "  </thead>\n",
       "  <tbody>\n",
       "    <tr>\n",
       "      <th>0</th>\n",
       "      <td>038441c925bb</td>\n",
       "      <td>0</td>\n",
       "      <td>2018-08-14T15:30:00-0400</td>\n",
       "      <td>2.6367</td>\n",
       "      <td>0.0217</td>\n",
       "    </tr>\n",
       "    <tr>\n",
       "      <th>1</th>\n",
       "      <td>038441c925bb</td>\n",
       "      <td>1</td>\n",
       "      <td>2018-08-14T15:30:05-0400</td>\n",
       "      <td>2.6368</td>\n",
       "      <td>0.0215</td>\n",
       "    </tr>\n",
       "    <tr>\n",
       "      <th>2</th>\n",
       "      <td>038441c925bb</td>\n",
       "      <td>2</td>\n",
       "      <td>2018-08-14T15:30:10-0400</td>\n",
       "      <td>2.6370</td>\n",
       "      <td>0.0216</td>\n",
       "    </tr>\n",
       "    <tr>\n",
       "      <th>3</th>\n",
       "      <td>038441c925bb</td>\n",
       "      <td>3</td>\n",
       "      <td>2018-08-14T15:30:15-0400</td>\n",
       "      <td>2.6368</td>\n",
       "      <td>0.0213</td>\n",
       "    </tr>\n",
       "    <tr>\n",
       "      <th>4</th>\n",
       "      <td>038441c925bb</td>\n",
       "      <td>4</td>\n",
       "      <td>2018-08-14T15:30:20-0400</td>\n",
       "      <td>2.6368</td>\n",
       "      <td>0.0215</td>\n",
       "    </tr>\n",
       "  </tbody>\n",
       "</table>\n",
       "</div>"
      ],
      "text/plain": [
       "      series_id  step                 timestamp  anglez    enmo\n",
       "0  038441c925bb     0  2018-08-14T15:30:00-0400  2.6367  0.0217\n",
       "1  038441c925bb     1  2018-08-14T15:30:05-0400  2.6368  0.0215\n",
       "2  038441c925bb     2  2018-08-14T15:30:10-0400  2.6370  0.0216\n",
       "3  038441c925bb     3  2018-08-14T15:30:15-0400  2.6368  0.0213\n",
       "4  038441c925bb     4  2018-08-14T15:30:20-0400  2.6368  0.0215"
      ]
     },
     "execution_count": 3,
     "metadata": {},
     "output_type": "execute_result"
    }
   ],
   "source": [
    "measurement_df.head()"
   ]
  },
  {
   "cell_type": "markdown",
   "metadata": {},
   "source": [
    "### Check data types"
   ]
  },
  {
   "cell_type": "code",
   "execution_count": 9,
   "metadata": {},
   "outputs": [
    {
     "data": {
      "text/plain": [
       "series_id     object\n",
       "step           int32\n",
       "timestamp     object\n",
       "anglez       float32\n",
       "enmo         float32\n",
       "dtype: object"
      ]
     },
     "execution_count": 9,
     "metadata": {},
     "output_type": "execute_result"
    }
   ],
   "source": [
    "measurement_df.dtypes"
   ]
  },
  {
   "cell_type": "code",
   "execution_count": 5,
   "metadata": {},
   "outputs": [],
   "source": [
    "measurement_df[\"step\"]  = measurement_df[\"step\"].astype(\"int\")"
   ]
  },
  {
   "cell_type": "markdown",
   "metadata": {},
   "source": [
    "### Check basic statistics for numeric columns"
   ]
  },
  {
   "cell_type": "code",
   "execution_count": 11,
   "metadata": {},
   "outputs": [
    {
     "data": {
      "text/html": [
       "<div>\n",
       "<style scoped>\n",
       "    .dataframe tbody tr th:only-of-type {\n",
       "        vertical-align: middle;\n",
       "    }\n",
       "\n",
       "    .dataframe tbody tr th {\n",
       "        vertical-align: top;\n",
       "    }\n",
       "\n",
       "    .dataframe thead th {\n",
       "        text-align: right;\n",
       "    }\n",
       "</style>\n",
       "<table border=\"1\" class=\"dataframe\">\n",
       "  <thead>\n",
       "    <tr style=\"text-align: right;\">\n",
       "      <th></th>\n",
       "      <th>step</th>\n",
       "      <th>anglez</th>\n",
       "      <th>enmo</th>\n",
       "    </tr>\n",
       "  </thead>\n",
       "  <tbody>\n",
       "    <tr>\n",
       "      <th>count</th>\n",
       "      <td>1.279463e+08</td>\n",
       "      <td>1.279463e+08</td>\n",
       "      <td>1.279463e+08</td>\n",
       "    </tr>\n",
       "    <tr>\n",
       "      <th>mean</th>\n",
       "      <td>2.548048e+05</td>\n",
       "      <td>-8.810453e+00</td>\n",
       "      <td>4.131503e-02</td>\n",
       "    </tr>\n",
       "    <tr>\n",
       "      <th>std</th>\n",
       "      <td>1.778930e+05</td>\n",
       "      <td>3.552188e+01</td>\n",
       "      <td>1.018289e-01</td>\n",
       "    </tr>\n",
       "    <tr>\n",
       "      <th>min</th>\n",
       "      <td>0.000000e+00</td>\n",
       "      <td>-9.000000e+01</td>\n",
       "      <td>0.000000e+00</td>\n",
       "    </tr>\n",
       "    <tr>\n",
       "      <th>25%</th>\n",
       "      <td>1.158120e+05</td>\n",
       "      <td>-3.185890e+01</td>\n",
       "      <td>1.300000e-03</td>\n",
       "    </tr>\n",
       "    <tr>\n",
       "      <th>50%</th>\n",
       "      <td>2.345190e+05</td>\n",
       "      <td>-9.597900e+00</td>\n",
       "      <td>1.720000e-02</td>\n",
       "    </tr>\n",
       "    <tr>\n",
       "      <th>75%</th>\n",
       "      <td>3.571960e+05</td>\n",
       "      <td>1.130020e+01</td>\n",
       "      <td>4.370000e-02</td>\n",
       "    </tr>\n",
       "    <tr>\n",
       "      <th>max</th>\n",
       "      <td>1.433879e+06</td>\n",
       "      <td>9.000000e+01</td>\n",
       "      <td>1.143370e+01</td>\n",
       "    </tr>\n",
       "  </tbody>\n",
       "</table>\n",
       "</div>"
      ],
      "text/plain": [
       "               step        anglez          enmo\n",
       "count  1.279463e+08  1.279463e+08  1.279463e+08\n",
       "mean   2.548048e+05 -8.810453e+00  4.131503e-02\n",
       "std    1.778930e+05  3.552188e+01  1.018289e-01\n",
       "min    0.000000e+00 -9.000000e+01  0.000000e+00\n",
       "25%    1.158120e+05 -3.185890e+01  1.300000e-03\n",
       "50%    2.345190e+05 -9.597900e+00  1.720000e-02\n",
       "75%    3.571960e+05  1.130020e+01  4.370000e-02\n",
       "max    1.433879e+06  9.000000e+01  1.143370e+01"
      ]
     },
     "execution_count": 11,
     "metadata": {},
     "output_type": "execute_result"
    }
   ],
   "source": [
    "measurement_df.describe()"
   ]
  },
  {
   "cell_type": "markdown",
   "metadata": {},
   "source": [
    "### Check for null values in data"
   ]
  },
  {
   "cell_type": "code",
   "execution_count": 12,
   "metadata": {},
   "outputs": [
    {
     "data": {
      "text/plain": [
       "series_id    0\n",
       "step         0\n",
       "timestamp    0\n",
       "anglez       0\n",
       "enmo         0\n",
       "dtype: int64"
      ]
     },
     "execution_count": 12,
     "metadata": {},
     "output_type": "execute_result"
    }
   ],
   "source": [
    "measurement_df.isnull().sum()"
   ]
  },
  {
   "cell_type": "markdown",
   "metadata": {},
   "source": [
    "No records with null values found. As a result no further actions needs to be taken."
   ]
  },
  {
   "cell_type": "markdown",
   "metadata": {},
   "source": [
    "### Check for duplicates"
   ]
  },
  {
   "cell_type": "code",
   "execution_count": 13,
   "metadata": {},
   "outputs": [
    {
     "data": {
      "text/plain": [
       "0"
      ]
     },
     "execution_count": 13,
     "metadata": {},
     "output_type": "execute_result"
    }
   ],
   "source": [
    "len(measurement_df[measurement_df.duplicated()])"
   ]
  },
  {
   "cell_type": "markdown",
   "metadata": {},
   "source": [
    "No duplicate records found. As a result no further actions needs to be taken."
   ]
  },
  {
   "cell_type": "markdown",
   "metadata": {},
   "source": [
    "### Amount of series"
   ]
  },
  {
   "cell_type": "code",
   "execution_count": 14,
   "metadata": {},
   "outputs": [
    {
     "data": {
      "text/plain": [
       "277"
      ]
     },
     "execution_count": 14,
     "metadata": {},
     "output_type": "execute_result"
    }
   ],
   "source": [
    "len(measurement_df['series_id'].unique())"
   ]
  },
  {
   "cell_type": "markdown",
   "metadata": {},
   "source": [
    "### Lengthdistribution of series"
   ]
  },
  {
   "cell_type": "code",
   "execution_count": 15,
   "metadata": {},
   "outputs": [
    {
     "data": {
      "text/plain": [
       "series_id\n",
       "038441c925bb     (300000, 400000]\n",
       "03d92c9f6f8a     (700000, 800000]\n",
       "0402a003dae9     (300000, 400000]\n",
       "04f547b8017d     (600000, 700000]\n",
       "05e1944c3818     (400000, 500000]\n",
       "                      ...        \n",
       "fa149c3c4bde     (400000, 500000]\n",
       "fb223ed2278c    (900000, 1000000]\n",
       "fbf33b1a2c10     (400000, 500000]\n",
       "fcca183903b7     (600000, 700000]\n",
       "fe90110788d2     (500000, 600000]\n",
       "Name: step, Length: 277, dtype: category\n",
       "Categories (17, interval[int64, right]): [(0, 100000] < (100000, 200000] < (200000, 300000] < (300000, 400000] ... (1300000, 1400000] < (1400000, 1500000] < (1500000, 1600000] < (1600000, 1700000]]"
      ]
     },
     "execution_count": 15,
     "metadata": {},
     "output_type": "execute_result"
    }
   ],
   "source": []
  },
  {
   "cell_type": "code",
   "execution_count": 30,
   "metadata": {},
   "outputs": [
    {
     "data": {
      "image/png": "[encoded data removed]",
      "text/plain": [
       "<Figure size 640x480 with 1 Axes>"
      ]
     },
     "metadata": {},
     "output_type": "display_data"
    }
   ],
   "source": [
    "step_plot_data = measurement_df.groupby('series_id').count()['step'] / 1000000\n",
    "\n",
    "step_plot_data.hist(bins=30)\n",
    "plt.xlabel('Series length in M')\n",
    "plt.grid(False)\n",
    "plt.ylabel('Count')\n",
    "plt.title('Distribution of series length')\n",
    "plt.show()"
   ]
  },
  {
   "cell_type": "code",
   "execution_count": 32,
   "metadata": {},
   "outputs": [
    {
     "data": {
      "image/png": "[encoded data removed]",
      "text/plain": [
       "<Figure size 640x480 with 1 Axes>"
      ]
     },
     "metadata": {},
     "output_type": "display_data"
    }
   ],
   "source": [
    "anglez_plot_data = measurement_df['anglez']\n",
    "\n",
    "anglez_plot_data.hist(bins=30)\n",
    "plt.xlabel('Value')\n",
    "plt.grid(False)\n",
    "plt.ylabel('Count')\n",
    "plt.title('Distribution of series length')\n",
    "plt.show()"
   ]
  },
  {
   "cell_type": "code",
   "execution_count": 33,
   "metadata": {},
   "outputs": [
    {
     "data": {
      "image/png": "[encoded data removed]",
      "text/plain": [
       "<Figure size 640x480 with 1 Axes>"
      ]
     },
     "metadata": {},
     "output_type": "display_data"
    }
   ],
   "source": [
    "anglez_plot_data = measurement_df['enmo']\n",
    "\n",
    "anglez_plot_data.hist(bins=30)\n",
    "plt.xlabel('Value')\n",
    "plt.grid(False)\n",
    "plt.ylabel('Count')\n",
    "plt.title('Distribution of series length')\n",
    "plt.show()"
   ]
  },
  {
   "cell_type": "code",
   "execution_count": 41,
   "metadata": {},
   "outputs": [
    {
     "data": {
      "text/plain": [
       "881          1.1848\n",
       "882          1.1286\n",
       "883          1.0932\n",
       "931          1.2233\n",
       "4478         1.0952\n",
       "              ...  \n",
       "127944275    1.0183\n",
       "127944673    1.3622\n",
       "127944776    1.7078\n",
       "127944783    1.9385\n",
       "127944786    1.0274\n",
       "Name: enmo, Length: 257281, dtype: float32"
      ]
     },
     "execution_count": 41,
     "metadata": {},
     "output_type": "execute_result"
    }
   ],
   "source": [
    "measurement_df[measurement_df['enmo'] > 1]['enmo']"
   ]
  },
  {
   "cell_type": "markdown",
   "metadata": {},
   "source": [
    "### Distribution of anglez, enmo and step"
   ]
  },
  {
   "cell_type": "code",
   "execution_count": null,
   "metadata": {},
   "outputs": [],
   "source": [
    "anglez_bins = list(range(-100, 100, 5))\n",
    "\n",
    "plot_data = measurement_df['anglez']\n",
    "plot_data = plot_data.apply(lambda x:x pd.cut(anglez_bins, x))\n",
    "\n",
    "plot_data"
   ]
  },
  {
   "cell_type": "code",
   "execution_count": 16,
   "metadata": {},
   "outputs": [
    {
     "data": {
      "image/png": "[encoded data removed]",
      "text/plain": [
       "<Figure size 640x480 with 1 Axes>"
      ]
     },
     "metadata": {},
     "output_type": "display_data"
    }
   ],
   "source": [
    "sns.kdeplot(measurement_df['anglez'], fill=True)\n",
    "\n",
    "plt.xlabel('anglez')\n",
    "plt.ylabel('Density')\n",
    "\n",
    "plt.title('Distribution of anglez')\n",
    "\n",
    "plt.show()"
   ]
  },
  {
   "cell_type": "code",
   "execution_count": null,
   "metadata": {},
   "outputs": [
    {
     "data": {
      "image/png": "[encoded data removed]",
      "text/plain": [
       "<Figure size 640x480 with 1 Axes>"
      ]
     },
     "metadata": {},
     "output_type": "display_data"
    }
   ],
   "source": [
    "sns.kdeplot(measurement_df['enmo'], fill=True)\n",
    "\n",
    "plt.xlabel('enmo')\n",
    "plt.ylabel('Density')\n",
    "\n",
    "plt.title('Distribution of enmo')\n",
    "\n",
    "plt.show()"
   ]
  },
  {
   "cell_type": "code",
   "execution_count": null,
   "metadata": {},
   "outputs": [
    {
     "data": {
      "image/png": "[encoded data removed]",
      "text/plain": [
       "<Figure size 640x480 with 1 Axes>"
      ]
     },
     "metadata": {},
     "output_type": "display_data"
    }
   ],
   "source": [
    "sns.kdeplot(measurement_df['step'], fill=True)\n",
    "\n",
    "plt.xlabel('step')\n",
    "plt.ylabel('Density')\n",
    "\n",
    "plt.title('Distribution of step')\n",
    "\n",
    "plt.show()"
   ]
  },
  {
   "cell_type": "markdown",
   "metadata": {},
   "source": [
    "## Analyse the events data"
   ]
  },
  {
   "cell_type": "markdown",
   "metadata": {},
   "source": [
    "### First rows of the data"
   ]
  },
  {
   "cell_type": "code",
   "execution_count": null,
   "metadata": {},
   "outputs": [],
   "source": [
    "events_df.head()"
   ]
  },
  {
   "cell_type": "markdown",
   "metadata": {},
   "source": [
    "### Check data types"
   ]
  },
  {
   "cell_type": "code",
   "execution_count": null,
   "metadata": {},
   "outputs": [],
   "source": [
    "events_df.dtypes"
   ]
  },
  {
   "cell_type": "markdown",
   "metadata": {},
   "source": [
    "### Check basic statistics for numeric columns"
   ]
  },
  {
   "cell_type": "code",
   "execution_count": null,
   "metadata": {},
   "outputs": [],
   "source": [
    "events_df.describe()"
   ]
  },
  {
   "cell_type": "markdown",
   "metadata": {},
   "source": [
    "### Check for null values in data"
   ]
  },
  {
   "cell_type": "code",
   "execution_count": null,
   "metadata": {},
   "outputs": [],
   "source": [
    "events_df.isnull().sum()"
   ]
  },
  {
   "cell_type": "markdown",
   "metadata": {},
   "source": [
    "Found records with null values in the step and timestamp column. Records with null values need to be removed in the data cleaning or the cells need to be filled with data."
   ]
  },
  {
   "cell_type": "markdown",
   "metadata": {},
   "source": [
    "### Check for duplicates"
   ]
  },
  {
   "cell_type": "code",
   "execution_count": null,
   "metadata": {},
   "outputs": [],
   "source": [
    "len(events_df[events_df.duplicated()])"
   ]
  },
  {
   "cell_type": "code",
   "execution_count": null,
   "metadata": {},
   "outputs": [],
   "source": [
    "plt.figure(figsize=(10, 5))\n",
    "\n",
    "events_onset = events_df[events_df['event'] == 'onset']\n",
    "events_wakeup = events_df[events_df['event'] == 'wakeup']\n",
    "\n",
    "sns.histplot(events_onset['hour'].dropna(), kde=False, bins=24, label='Onset', discrete=True)\n",
    "sns.histplot(events_wakeup['hour'].dropna(), kde=False, bins=24, label='Wakeup', discrete=True)\n",
    "\n",
    "plt.xlabel('Hour of Event')\n",
    "plt.ylabel('Frequency')\n",
    "plt.title('Distribution of Hour of Onset and Wakeup')\n",
    "plt.legend()\n",
    "\n",
    "plt.show()"
   ]
  },
  {
   "cell_type": "markdown",
   "metadata": {},
   "source": [
    "No duplicate records found. As a result no further actions needs to be taken."
   ]
  },
  {
   "cell_type": "markdown",
   "metadata": {},
   "source": [
    "## Analyse the merging possibility of the data"
   ]
  },
  {
   "cell_type": "code",
   "execution_count": null,
   "metadata": {},
   "outputs": [],
   "source": [
    "measurement_series_ids = measurement_df['series_id'].unique()\n",
    "event_series_ids = events_df['series_id'].unique()"
   ]
  },
  {
   "cell_type": "code",
   "execution_count": null,
   "metadata": {},
   "outputs": [],
   "source": [
    "outer_section = np.setxor1d(measurement_series_ids, event_series_ids)\n",
    "outer_section"
   ]
  },
  {
   "cell_type": "markdown",
   "metadata": {},
   "source": [
    "All series_id's exist in both dataframes. As a result no problems should be expected when merging the dataframes."
   ]
  },
  {
   "cell_type": "markdown",
   "metadata": {},
   "source": [
    "# Datacleaning"
   ]
  },
  {
   "cell_type": "markdown",
   "metadata": {},
   "source": [
    "## Clean Events Dataframe"
   ]
  },
  {
   "cell_type": "code",
   "execution_count": 4,
   "metadata": {},
   "outputs": [],
   "source": [
    "# get all events with nan values\n",
    "events_with_nan_values = events_df[events_df.isnull().any(axis=1)]\n",
    "\n",
    "for series_night_to_remove in events_with_nan_values.iterrows():\n",
    "    # extract series_id and night\n",
    "    series_id_to_remove = series_night_to_remove[1]['series_id']\n",
    "    night_to_remove = series_night_to_remove[1]['night']\n",
    "    \n",
    "    # remove the entire data from the series & night combination\n",
    "    events_df = events_df= events_df.drop(events_df[(events_df['series_id'] == series_id_to_remove) & (events_df['night'] == night_to_remove)].index)\n",
    "\n",
    "\n",
    "# TODO remove the entire data from the measurement data from the series & night combination"
   ]
  },
  {
   "cell_type": "code",
   "execution_count": 59,
   "metadata": {},
   "outputs": [],
   "source": [
    "# remove localization\n",
    "events_df['timestamp'] = events_df['timestamp'].str[:-5]\n",
    "\n",
    "# split hour, minute and seconds\n",
    "events_df['hour'] = pd.to_numeric(events_df['timestamp'].str[-8:-6])\n",
    "events_df['minute'] = pd.to_numeric(events_df['timestamp'].str[-5:-3])\n",
    "events_df['seconds'] = pd.to_numeric(measurement_df['timestamp'].str[-2:])\n",
    "\n",
    "# split date into seperate columns\n",
    "events_df['day'] = pd.to_numeric(events_df['timestamp'].str[-11:-9])\n",
    "events_df['month'] = pd.to_numeric(events_df['timestamp'].str[-14:-12])\n",
    "events_df['year'] = pd.to_numeric(events_df['timestamp'].str[-20:-15])\n",
    "\n",
    "# calculate the minutes from midnight\n",
    "events_df['seconds_from_midnight'] = events_df['hour'] * 3600 + events_df['minute'] * 60 + events_df['seconds']\n",
    "\n",
    "# remove timestamp\n",
    "events_df = events_df.drop('timestamp', axis=1)"
   ]
  },
  {
   "cell_type": "code",
   "execution_count": 5,
   "metadata": {},
   "outputs": [],
   "source": [
    "# change / ensure datatype\n",
    "events_df[\"step\"]  = events_df[\"step\"].astype(\"int\")"
   ]
  },
  {
   "cell_type": "code",
   "execution_count": 6,
   "metadata": {},
   "outputs": [],
   "source": [
    "# init new awake column\n",
    "events_df[\"awake\"] = events_df[\"event\"].replace({\"onset\":1,\"wakeup\":0})"
   ]
  },
  {
   "cell_type": "code",
   "execution_count": 7,
   "metadata": {},
   "outputs": [
    {
     "data": {
      "text/html": [
       "<div>\n",
       "<style scoped>\n",
       "    .dataframe tbody tr th:only-of-type {\n",
       "        vertical-align: middle;\n",
       "    }\n",
       "\n",
       "    .dataframe tbody tr th {\n",
       "        vertical-align: top;\n",
       "    }\n",
       "\n",
       "    .dataframe thead th {\n",
       "        text-align: right;\n",
       "    }\n",
       "</style>\n",
       "<table border=\"1\" class=\"dataframe\">\n",
       "  <thead>\n",
       "    <tr style=\"text-align: right;\">\n",
       "      <th></th>\n",
       "      <th>series_id</th>\n",
       "      <th>night</th>\n",
       "      <th>event</th>\n",
       "      <th>step</th>\n",
       "      <th>timestamp</th>\n",
       "      <th>awake</th>\n",
       "    </tr>\n",
       "  </thead>\n",
       "  <tbody>\n",
       "    <tr>\n",
       "      <th>0</th>\n",
       "      <td>038441c925bb</td>\n",
       "      <td>1</td>\n",
       "      <td>onset</td>\n",
       "      <td>4992</td>\n",
       "      <td>2018-08-14T22:26:00-0400</td>\n",
       "      <td>1</td>\n",
       "    </tr>\n",
       "    <tr>\n",
       "      <th>1</th>\n",
       "      <td>038441c925bb</td>\n",
       "      <td>1</td>\n",
       "      <td>wakeup</td>\n",
       "      <td>10932</td>\n",
       "      <td>2018-08-15T06:41:00-0400</td>\n",
       "      <td>0</td>\n",
       "    </tr>\n",
       "    <tr>\n",
       "      <th>2</th>\n",
       "      <td>038441c925bb</td>\n",
       "      <td>2</td>\n",
       "      <td>onset</td>\n",
       "      <td>20244</td>\n",
       "      <td>2018-08-15T19:37:00-0400</td>\n",
       "      <td>1</td>\n",
       "    </tr>\n",
       "    <tr>\n",
       "      <th>3</th>\n",
       "      <td>038441c925bb</td>\n",
       "      <td>2</td>\n",
       "      <td>wakeup</td>\n",
       "      <td>27492</td>\n",
       "      <td>2018-08-16T05:41:00-0400</td>\n",
       "      <td>0</td>\n",
       "    </tr>\n",
       "    <tr>\n",
       "      <th>4</th>\n",
       "      <td>038441c925bb</td>\n",
       "      <td>3</td>\n",
       "      <td>onset</td>\n",
       "      <td>39996</td>\n",
       "      <td>2018-08-16T23:03:00-0400</td>\n",
       "      <td>1</td>\n",
       "    </tr>\n",
       "  </tbody>\n",
       "</table>\n",
       "</div>"
      ],
      "text/plain": [
       "      series_id  night   event   step                 timestamp  awake\n",
       "0  038441c925bb      1   onset   4992  2018-08-14T22:26:00-0400      1\n",
       "1  038441c925bb      1  wakeup  10932  2018-08-15T06:41:00-0400      0\n",
       "2  038441c925bb      2   onset  20244  2018-08-15T19:37:00-0400      1\n",
       "3  038441c925bb      2  wakeup  27492  2018-08-16T05:41:00-0400      0\n",
       "4  038441c925bb      3   onset  39996  2018-08-16T23:03:00-0400      1"
      ]
     },
     "execution_count": 7,
     "metadata": {},
     "output_type": "execute_result"
    }
   ],
   "source": [
    "events_df.head()"
   ]
  },
  {
   "cell_type": "markdown",
   "metadata": {},
   "source": [
    "## Clean Measurment Dataframe"
   ]
  },
  {
   "cell_type": "code",
   "execution_count": 63,
   "metadata": {},
   "outputs": [
    {
     "data": {
      "text/html": [
       "<div>\n",
       "<style scoped>\n",
       "    .dataframe tbody tr th:only-of-type {\n",
       "        vertical-align: middle;\n",
       "    }\n",
       "\n",
       "    .dataframe tbody tr th {\n",
       "        vertical-align: top;\n",
       "    }\n",
       "\n",
       "    .dataframe thead th {\n",
       "        text-align: right;\n",
       "    }\n",
       "</style>\n",
       "<table border=\"1\" class=\"dataframe\">\n",
       "  <thead>\n",
       "    <tr style=\"text-align: right;\">\n",
       "      <th></th>\n",
       "      <th>series_id</th>\n",
       "      <th>step</th>\n",
       "      <th>anglez</th>\n",
       "      <th>enmo</th>\n",
       "      <th>hour</th>\n",
       "      <th>minute</th>\n",
       "      <th>seconds</th>\n",
       "      <th>day</th>\n",
       "      <th>month</th>\n",
       "      <th>year</th>\n",
       "      <th>seconds_from_midnight</th>\n",
       "    </tr>\n",
       "  </thead>\n",
       "  <tbody>\n",
       "    <tr>\n",
       "      <th>0</th>\n",
       "      <td>038441c925bb</td>\n",
       "      <td>0</td>\n",
       "      <td>2.636700</td>\n",
       "      <td>0.0217</td>\n",
       "      <td>15</td>\n",
       "      <td>30</td>\n",
       "      <td>0</td>\n",
       "      <td>14</td>\n",
       "      <td>8</td>\n",
       "      <td>2018</td>\n",
       "      <td>55800</td>\n",
       "    </tr>\n",
       "    <tr>\n",
       "      <th>1</th>\n",
       "      <td>038441c925bb</td>\n",
       "      <td>1</td>\n",
       "      <td>2.636800</td>\n",
       "      <td>0.0215</td>\n",
       "      <td>15</td>\n",
       "      <td>30</td>\n",
       "      <td>5</td>\n",
       "      <td>14</td>\n",
       "      <td>8</td>\n",
       "      <td>2018</td>\n",
       "      <td>55805</td>\n",
       "    </tr>\n",
       "    <tr>\n",
       "      <th>2</th>\n",
       "      <td>038441c925bb</td>\n",
       "      <td>2</td>\n",
       "      <td>2.637000</td>\n",
       "      <td>0.0216</td>\n",
       "      <td>15</td>\n",
       "      <td>30</td>\n",
       "      <td>10</td>\n",
       "      <td>14</td>\n",
       "      <td>8</td>\n",
       "      <td>2018</td>\n",
       "      <td>55810</td>\n",
       "    </tr>\n",
       "    <tr>\n",
       "      <th>3</th>\n",
       "      <td>038441c925bb</td>\n",
       "      <td>3</td>\n",
       "      <td>2.636800</td>\n",
       "      <td>0.0213</td>\n",
       "      <td>15</td>\n",
       "      <td>30</td>\n",
       "      <td>15</td>\n",
       "      <td>14</td>\n",
       "      <td>8</td>\n",
       "      <td>2018</td>\n",
       "      <td>55815</td>\n",
       "    </tr>\n",
       "    <tr>\n",
       "      <th>4</th>\n",
       "      <td>038441c925bb</td>\n",
       "      <td>4</td>\n",
       "      <td>2.636800</td>\n",
       "      <td>0.0215</td>\n",
       "      <td>15</td>\n",
       "      <td>30</td>\n",
       "      <td>20</td>\n",
       "      <td>14</td>\n",
       "      <td>8</td>\n",
       "      <td>2018</td>\n",
       "      <td>55820</td>\n",
       "    </tr>\n",
       "    <tr>\n",
       "      <th>...</th>\n",
       "      <td>...</td>\n",
       "      <td>...</td>\n",
       "      <td>...</td>\n",
       "      <td>...</td>\n",
       "      <td>...</td>\n",
       "      <td>...</td>\n",
       "      <td>...</td>\n",
       "      <td>...</td>\n",
       "      <td>...</td>\n",
       "      <td>...</td>\n",
       "      <td>...</td>\n",
       "    </tr>\n",
       "    <tr>\n",
       "      <th>127946335</th>\n",
       "      <td>fe90110788d2</td>\n",
       "      <td>592375</td>\n",
       "      <td>-27.277500</td>\n",
       "      <td>0.0204</td>\n",
       "      <td>0</td>\n",
       "      <td>14</td>\n",
       "      <td>35</td>\n",
       "      <td>8</td>\n",
       "      <td>9</td>\n",
       "      <td>2017</td>\n",
       "      <td>875</td>\n",
       "    </tr>\n",
       "    <tr>\n",
       "      <th>127946336</th>\n",
       "      <td>fe90110788d2</td>\n",
       "      <td>592376</td>\n",
       "      <td>-27.032499</td>\n",
       "      <td>0.0233</td>\n",
       "      <td>0</td>\n",
       "      <td>14</td>\n",
       "      <td>40</td>\n",
       "      <td>8</td>\n",
       "      <td>9</td>\n",
       "      <td>2017</td>\n",
       "      <td>880</td>\n",
       "    </tr>\n",
       "    <tr>\n",
       "      <th>127946337</th>\n",
       "      <td>fe90110788d2</td>\n",
       "      <td>592377</td>\n",
       "      <td>-26.841200</td>\n",
       "      <td>0.0202</td>\n",
       "      <td>0</td>\n",
       "      <td>14</td>\n",
       "      <td>45</td>\n",
       "      <td>8</td>\n",
       "      <td>9</td>\n",
       "      <td>2017</td>\n",
       "      <td>885</td>\n",
       "    </tr>\n",
       "    <tr>\n",
       "      <th>127946338</th>\n",
       "      <td>fe90110788d2</td>\n",
       "      <td>592378</td>\n",
       "      <td>-26.723900</td>\n",
       "      <td>0.0199</td>\n",
       "      <td>0</td>\n",
       "      <td>14</td>\n",
       "      <td>50</td>\n",
       "      <td>8</td>\n",
       "      <td>9</td>\n",
       "      <td>2017</td>\n",
       "      <td>890</td>\n",
       "    </tr>\n",
       "    <tr>\n",
       "      <th>127946339</th>\n",
       "      <td>fe90110788d2</td>\n",
       "      <td>592379</td>\n",
       "      <td>-31.521601</td>\n",
       "      <td>0.0205</td>\n",
       "      <td>0</td>\n",
       "      <td>14</td>\n",
       "      <td>55</td>\n",
       "      <td>8</td>\n",
       "      <td>9</td>\n",
       "      <td>2017</td>\n",
       "      <td>895</td>\n",
       "    </tr>\n",
       "  </tbody>\n",
       "</table>\n",
       "<p>127946340 rows × 11 columns</p>\n",
       "</div>"
      ],
      "text/plain": [
       "              series_id    step     anglez    enmo  hour  minute  seconds  \\\n",
       "0          038441c925bb       0   2.636700  0.0217    15      30        0   \n",
       "1          038441c925bb       1   2.636800  0.0215    15      30        5   \n",
       "2          038441c925bb       2   2.637000  0.0216    15      30       10   \n",
       "3          038441c925bb       3   2.636800  0.0213    15      30       15   \n",
       "4          038441c925bb       4   2.636800  0.0215    15      30       20   \n",
       "...                 ...     ...        ...     ...   ...     ...      ...   \n",
       "127946335  fe90110788d2  592375 -27.277500  0.0204     0      14       35   \n",
       "127946336  fe90110788d2  592376 -27.032499  0.0233     0      14       40   \n",
       "127946337  fe90110788d2  592377 -26.841200  0.0202     0      14       45   \n",
       "127946338  fe90110788d2  592378 -26.723900  0.0199     0      14       50   \n",
       "127946339  fe90110788d2  592379 -31.521601  0.0205     0      14       55   \n",
       "\n",
       "           day  month  year  seconds_from_midnight  \n",
       "0           14      8  2018                  55800  \n",
       "1           14      8  2018                  55805  \n",
       "2           14      8  2018                  55810  \n",
       "3           14      8  2018                  55815  \n",
       "4           14      8  2018                  55820  \n",
       "...        ...    ...   ...                    ...  \n",
       "127946335    8      9  2017                    875  \n",
       "127946336    8      9  2017                    880  \n",
       "127946337    8      9  2017                    885  \n",
       "127946338    8      9  2017                    890  \n",
       "127946339    8      9  2017                    895  \n",
       "\n",
       "[127946340 rows x 11 columns]"
      ]
     },
     "execution_count": 63,
     "metadata": {},
     "output_type": "execute_result"
    }
   ],
   "source": [
    "# remove localization\n",
    "measurement_df['timestamp'] = measurement_df['timestamp'].str[:-5]\n",
    "\n",
    "# split hour, minute and seconds\n",
    "measurement_df['hour'] = pd.to_numeric(measurement_df['timestamp'].str[-8:-6])\n",
    "measurement_df['minute'] = pd.to_numeric(measurement_df['timestamp'].str[-5:-3])\n",
    "measurement_df['seconds'] = pd.to_numeric(measurement_df['timestamp'].str[-2:])\n",
    "\n",
    "\n",
    "# split date into seperate columns\n",
    "measurement_df['day'] = pd.to_numeric(measurement_df['timestamp'].str[-11:-9])\n",
    "measurement_df['month'] = pd.to_numeric(measurement_df['timestamp'].str[-14:-12])\n",
    "measurement_df['year'] = pd.to_numeric(measurement_df['timestamp'].str[-20:-15])\n",
    "\n",
    "# calculate the minutes from midnight\n",
    "measurement_df['seconds_from_midnight'] = measurement_df['hour'] * 3600 + measurement_df['minute'] * 60 + measurement_df['seconds']\n",
    "\n",
    "# remove timestamp\n",
    "measurement_df = measurement_df.drop('timestamp', axis=1)\n",
    "\n",
    "measurement_df"
   ]
  },
  {
   "cell_type": "code",
   "execution_count": 8,
   "metadata": {},
   "outputs": [],
   "source": [
    "# change / ensure datatype\n",
    "measurement_df[\"step\"]  = measurement_df[\"step\"].astype(\"int\")"
   ]
  },
  {
   "cell_type": "code",
   "execution_count": 9,
   "metadata": {},
   "outputs": [],
   "source": [
    "measurement_df.sort_values(by=['series_id', 'step'], ascending=True, inplace=True)"
   ]
  },
  {
   "cell_type": "code",
   "execution_count": 20,
   "metadata": {},
   "outputs": [],
   "source": [
    "# merge the two dataframes based on the series_id and step together\n",
    "train = pd.merge(measurement_df, events_df[['series_id', 'step','awake']], on=['series_id', 'step'], how='left')\n",
    "\n",
    "# del measurement_df\n",
    "# del events_df"
   ]
  },
  {
   "cell_type": "code",
   "execution_count": 21,
   "metadata": {},
   "outputs": [],
   "source": [
    "train['series_temp'] = train['series_id']"
   ]
  },
  {
   "cell_type": "code",
   "execution_count": 22,
   "metadata": {},
   "outputs": [],
   "source": [
    "# group the data by series. prestep for feature engineering. feature engineering not across series\n",
    "grouped = train.groupby('series_id')\n",
    "\n",
    "# fill the awake column with the next value following\n",
    "grouped = grouped.bfill()\n",
    "\n",
    "# last event of series is always wakeup. as a result fill with awake 1\n",
    "grouped = grouped.fillna(1)\n",
    "\n",
    "# flatten the series grouping and reset the column name\n",
    "train = grouped.reset_index()\n",
    "train.drop('index', axis='columns')\n",
    "train = train.rename(columns={'series_temp': 'series_id'})"
   ]
  },
  {
   "cell_type": "code",
   "execution_count": 55,
   "metadata": {},
   "outputs": [],
   "source": [
    "train.sort_values(by=['series_id', 'step'], ascending=True, inplace=True)\n",
    "train"
   ]
  },
  {
   "cell_type": "code",
   "execution_count": 56,
   "metadata": {},
   "outputs": [
    {
     "data": {
      "text/html": [
       "<div>\n",
       "<style scoped>\n",
       "    .dataframe tbody tr th:only-of-type {\n",
       "        vertical-align: middle;\n",
       "    }\n",
       "\n",
       "    .dataframe tbody tr th {\n",
       "        vertical-align: top;\n",
       "    }\n",
       "\n",
       "    .dataframe thead th {\n",
       "        text-align: right;\n",
       "    }\n",
       "</style>\n",
       "<table border=\"1\" class=\"dataframe\">\n",
       "  <thead>\n",
       "    <tr style=\"text-align: right;\">\n",
       "      <th></th>\n",
       "      <th>series_id</th>\n",
       "      <th>step</th>\n",
       "      <th>anglez</th>\n",
       "      <th>enmo</th>\n",
       "      <th>hour</th>\n",
       "      <th>minute</th>\n",
       "      <th>seconds</th>\n",
       "      <th>day</th>\n",
       "      <th>month</th>\n",
       "      <th>year</th>\n",
       "      <th>seconds_from_midnight</th>\n",
       "      <th>awake</th>\n",
       "      <th>onset</th>\n",
       "      <th>wakeup</th>\n",
       "    </tr>\n",
       "  </thead>\n",
       "  <tbody>\n",
       "    <tr>\n",
       "      <th>0</th>\n",
       "      <td>0</td>\n",
       "      <td>0</td>\n",
       "      <td>2.636700</td>\n",
       "      <td>0.0217</td>\n",
       "      <td>15</td>\n",
       "      <td>30</td>\n",
       "      <td>0</td>\n",
       "      <td>14</td>\n",
       "      <td>8</td>\n",
       "      <td>2018</td>\n",
       "      <td>55800</td>\n",
       "      <td>1.0</td>\n",
       "      <td>0</td>\n",
       "      <td>0</td>\n",
       "    </tr>\n",
       "    <tr>\n",
       "      <th>1</th>\n",
       "      <td>1</td>\n",
       "      <td>1</td>\n",
       "      <td>2.636800</td>\n",
       "      <td>0.0215</td>\n",
       "      <td>15</td>\n",
       "      <td>30</td>\n",
       "      <td>5</td>\n",
       "      <td>14</td>\n",
       "      <td>8</td>\n",
       "      <td>2018</td>\n",
       "      <td>55805</td>\n",
       "      <td>1.0</td>\n",
       "      <td>0</td>\n",
       "      <td>0</td>\n",
       "    </tr>\n",
       "    <tr>\n",
       "      <th>2</th>\n",
       "      <td>2</td>\n",
       "      <td>2</td>\n",
       "      <td>2.637000</td>\n",
       "      <td>0.0216</td>\n",
       "      <td>15</td>\n",
       "      <td>30</td>\n",
       "      <td>10</td>\n",
       "      <td>14</td>\n",
       "      <td>8</td>\n",
       "      <td>2018</td>\n",
       "      <td>55810</td>\n",
       "      <td>1.0</td>\n",
       "      <td>0</td>\n",
       "      <td>0</td>\n",
       "    </tr>\n",
       "    <tr>\n",
       "      <th>3</th>\n",
       "      <td>3</td>\n",
       "      <td>3</td>\n",
       "      <td>2.636800</td>\n",
       "      <td>0.0213</td>\n",
       "      <td>15</td>\n",
       "      <td>30</td>\n",
       "      <td>15</td>\n",
       "      <td>14</td>\n",
       "      <td>8</td>\n",
       "      <td>2018</td>\n",
       "      <td>55815</td>\n",
       "      <td>1.0</td>\n",
       "      <td>0</td>\n",
       "      <td>0</td>\n",
       "    </tr>\n",
       "    <tr>\n",
       "      <th>4</th>\n",
       "      <td>4</td>\n",
       "      <td>4</td>\n",
       "      <td>2.636800</td>\n",
       "      <td>0.0215</td>\n",
       "      <td>15</td>\n",
       "      <td>30</td>\n",
       "      <td>20</td>\n",
       "      <td>14</td>\n",
       "      <td>8</td>\n",
       "      <td>2018</td>\n",
       "      <td>55820</td>\n",
       "      <td>1.0</td>\n",
       "      <td>0</td>\n",
       "      <td>0</td>\n",
       "    </tr>\n",
       "    <tr>\n",
       "      <th>...</th>\n",
       "      <td>...</td>\n",
       "      <td>...</td>\n",
       "      <td>...</td>\n",
       "      <td>...</td>\n",
       "      <td>...</td>\n",
       "      <td>...</td>\n",
       "      <td>...</td>\n",
       "      <td>...</td>\n",
       "      <td>...</td>\n",
       "      <td>...</td>\n",
       "      <td>...</td>\n",
       "      <td>...</td>\n",
       "      <td>...</td>\n",
       "      <td>...</td>\n",
       "    </tr>\n",
       "    <tr>\n",
       "      <th>127946335</th>\n",
       "      <td>127946335</td>\n",
       "      <td>592375</td>\n",
       "      <td>-27.277500</td>\n",
       "      <td>0.0204</td>\n",
       "      <td>0</td>\n",
       "      <td>14</td>\n",
       "      <td>35</td>\n",
       "      <td>8</td>\n",
       "      <td>9</td>\n",
       "      <td>2017</td>\n",
       "      <td>875</td>\n",
       "      <td>1.0</td>\n",
       "      <td>0</td>\n",
       "      <td>0</td>\n",
       "    </tr>\n",
       "    <tr>\n",
       "      <th>127946336</th>\n",
       "      <td>127946336</td>\n",
       "      <td>592376</td>\n",
       "      <td>-27.032499</td>\n",
       "      <td>0.0233</td>\n",
       "      <td>0</td>\n",
       "      <td>14</td>\n",
       "      <td>40</td>\n",
       "      <td>8</td>\n",
       "      <td>9</td>\n",
       "      <td>2017</td>\n",
       "      <td>880</td>\n",
       "      <td>1.0</td>\n",
       "      <td>0</td>\n",
       "      <td>0</td>\n",
       "    </tr>\n",
       "    <tr>\n",
       "      <th>127946337</th>\n",
       "      <td>127946337</td>\n",
       "      <td>592377</td>\n",
       "      <td>-26.841200</td>\n",
       "      <td>0.0202</td>\n",
       "      <td>0</td>\n",
       "      <td>14</td>\n",
       "      <td>45</td>\n",
       "      <td>8</td>\n",
       "      <td>9</td>\n",
       "      <td>2017</td>\n",
       "      <td>885</td>\n",
       "      <td>1.0</td>\n",
       "      <td>0</td>\n",
       "      <td>0</td>\n",
       "    </tr>\n",
       "    <tr>\n",
       "      <th>127946338</th>\n",
       "      <td>127946338</td>\n",
       "      <td>592378</td>\n",
       "      <td>-26.723900</td>\n",
       "      <td>0.0199</td>\n",
       "      <td>0</td>\n",
       "      <td>14</td>\n",
       "      <td>50</td>\n",
       "      <td>8</td>\n",
       "      <td>9</td>\n",
       "      <td>2017</td>\n",
       "      <td>890</td>\n",
       "      <td>1.0</td>\n",
       "      <td>0</td>\n",
       "      <td>0</td>\n",
       "    </tr>\n",
       "    <tr>\n",
       "      <th>127946339</th>\n",
       "      <td>127946339</td>\n",
       "      <td>592379</td>\n",
       "      <td>-31.521601</td>\n",
       "      <td>0.0205</td>\n",
       "      <td>0</td>\n",
       "      <td>14</td>\n",
       "      <td>55</td>\n",
       "      <td>8</td>\n",
       "      <td>9</td>\n",
       "      <td>2017</td>\n",
       "      <td>895</td>\n",
       "      <td>1.0</td>\n",
       "      <td>0</td>\n",
       "      <td>0</td>\n",
       "    </tr>\n",
       "  </tbody>\n",
       "</table>\n",
       "<p>127946340 rows × 14 columns</p>\n",
       "</div>"
      ],
      "text/plain": [
       "           series_id    step     anglez    enmo  hour  minute  seconds  day  \\\n",
       "0                  0       0   2.636700  0.0217    15      30        0   14   \n",
       "1                  1       1   2.636800  0.0215    15      30        5   14   \n",
       "2                  2       2   2.637000  0.0216    15      30       10   14   \n",
       "3                  3       3   2.636800  0.0213    15      30       15   14   \n",
       "4                  4       4   2.636800  0.0215    15      30       20   14   \n",
       "...              ...     ...        ...     ...   ...     ...      ...  ...   \n",
       "127946335  127946335  592375 -27.277500  0.0204     0      14       35    8   \n",
       "127946336  127946336  592376 -27.032499  0.0233     0      14       40    8   \n",
       "127946337  127946337  592377 -26.841200  0.0202     0      14       45    8   \n",
       "127946338  127946338  592378 -26.723900  0.0199     0      14       50    8   \n",
       "127946339  127946339  592379 -31.521601  0.0205     0      14       55    8   \n",
       "\n",
       "           month  year  seconds_from_midnight  awake  onset  wakeup  \n",
       "0              8  2018                  55800    1.0      0       0  \n",
       "1              8  2018                  55805    1.0      0       0  \n",
       "2              8  2018                  55810    1.0      0       0  \n",
       "3              8  2018                  55815    1.0      0       0  \n",
       "4              8  2018                  55820    1.0      0       0  \n",
       "...          ...   ...                    ...    ...    ...     ...  \n",
       "127946335      9  2017                    875    1.0      0       0  \n",
       "127946336      9  2017                    880    1.0      0       0  \n",
       "127946337      9  2017                    885    1.0      0       0  \n",
       "127946338      9  2017                    890    1.0      0       0  \n",
       "127946339      9  2017                    895    1.0      0       0  \n",
       "\n",
       "[127946340 rows x 14 columns]"
      ]
     },
     "execution_count": 56,
     "metadata": {},
     "output_type": "execute_result"
    }
   ],
   "source": [
    "train['change'] = train['awake'] - train['awake'].shift(1)   # Change = 1 -> onset, Change = -1 -> wakeup\n",
    "\n",
    "train['onset'] = 0\n",
    "train['wakeup'] = 0\n",
    "\n",
    "train.loc[train['change'] == 1, 'onset'] = 1\n",
    "train.loc[train['change'] == -1, 'wakeup'] = 1\n",
    "\n",
    "del train['change']\n",
    "\n",
    "train"
   ]
  }
 ],
 "metadata": {
  "kernelspec": {
   "display_name": "Python 3",
   "language": "python",
   "name": "python3"
  },
  "language_info": {
   "codemirror_mode": {
    "name": "ipython",
    "version": 3
   },
   "file_extension": ".py",
   "mimetype": "text/x-python",
   "name": "python",
   "nbconvert_exporter": "python",
   "pygments_lexer": "ipython3",
   "version": "3.10.11"
  },
  "orig_nbformat": 4
 },
 "nbformat": 4,
 "nbformat_minor": 2
}
